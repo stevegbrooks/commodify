{
  "nbformat": 4,
  "nbformat_minor": 0,
  "metadata": {
    "colab": {
      "name": "preprocessing.ipynb",
      "provenance": [],
      "collapsed_sections": [],
      "authorship_tag": "ABX9TyPKIM6ucLj/6sqOeQOs6Mne",
      "include_colab_link": true
    },
    "kernelspec": {
      "name": "python3",
      "display_name": "Python 3",
      "language": "python"
    }
  },
  "cells": [
    {
      "cell_type": "markdown",
      "metadata": {
        "id": "view-in-github",
        "colab_type": "text"
      },
      "source": [
        "<a href=\"https://colab.research.google.com/github/stevegbrooks/commodify/blob/preprocessing/usda_preprocessing.ipynb\" target=\"_parent\"><img src=\"https://colab.research.google.com/assets/colab-badge.svg\" alt=\"Open In Colab\"/></a>"
      ]
    },
    {
      "cell_type": "code",
      "metadata": {
        "id": "sbZZ3AnrBJ9g"
      },
      "source": [
        "import requests, zipfile, io\n",
        "import pandas as pd\n",
        "import numpy as np\n",
        "out_path = \"~/CIS550/commodify/data/\""
      ],
      "execution_count": 1,
      "outputs": []
    },
    {
      "cell_type": "markdown",
      "metadata": {
        "id": "_xFENRmaA_4u"
      },
      "source": [
        "## Process commodities data from USDA"
      ]
    },
    {
      "cell_type": "code",
      "metadata": {
        "id": "G8k9nULSBEGf",
        "colab": {
          "base_uri": "https://localhost:8080/",
          "height": 204
        },
        "outputId": "ef2d55cf-734a-4869-e506-4beb0aafe27e"
      },
      "source": [
        "zip_url = \"https://apps.fas.usda.gov/psdonline/downloads/psd_alldata_csv.zip\"\n",
        "\n",
        "r = requests.get(zip_url)\n",
        "if r.ok:\n",
        "  z = zipfile.ZipFile(io.BytesIO(r.content))\n",
        "  usda_data = pd.read_csv(z.open('psd_alldata.csv'))\n",
        "\n",
        "usda_data.head(n=5)"
      ],
      "execution_count": 2,
      "outputs": [
        {
          "output_type": "execute_result",
          "data": {
            "text/plain": [
              "   Commodity_Code   Commodity_Description Country_Code Country_Name  \\\n",
              "0          577400  Almonds, Shelled Basis           AF  Afghanistan   \n",
              "1          577400  Almonds, Shelled Basis           AF  Afghanistan   \n",
              "2          577400  Almonds, Shelled Basis           AF  Afghanistan   \n",
              "3          577400  Almonds, Shelled Basis           AF  Afghanistan   \n",
              "4          577400  Almonds, Shelled Basis           AF  Afghanistan   \n",
              "\n",
              "   Market_Year  Calendar_Year  Month  Attribute_ID Attribute_Description  \\\n",
              "0         2010           2018     10            20      Beginning Stocks   \n",
              "1         2010           2018     10           125  Domestic Consumption   \n",
              "2         2010           2018     10           176         Ending Stocks   \n",
              "3         2010           2018     10            88               Exports   \n",
              "4         2010           2018     10            57               Imports   \n",
              "\n",
              "   Unit_ID Unit_Description  Value  \n",
              "0       21             (MT)    0.0  \n",
              "1       21             (MT)    0.0  \n",
              "2       21             (MT)    0.0  \n",
              "3       21             (MT)    0.0  \n",
              "4       21             (MT)    0.0  "
            ],
            "text/html": "<div>\n<style scoped>\n    .dataframe tbody tr th:only-of-type {\n        vertical-align: middle;\n    }\n\n    .dataframe tbody tr th {\n        vertical-align: top;\n    }\n\n    .dataframe thead th {\n        text-align: right;\n    }\n</style>\n<table border=\"1\" class=\"dataframe\">\n  <thead>\n    <tr style=\"text-align: right;\">\n      <th></th>\n      <th>Commodity_Code</th>\n      <th>Commodity_Description</th>\n      <th>Country_Code</th>\n      <th>Country_Name</th>\n      <th>Market_Year</th>\n      <th>Calendar_Year</th>\n      <th>Month</th>\n      <th>Attribute_ID</th>\n      <th>Attribute_Description</th>\n      <th>Unit_ID</th>\n      <th>Unit_Description</th>\n      <th>Value</th>\n    </tr>\n  </thead>\n  <tbody>\n    <tr>\n      <th>0</th>\n      <td>577400</td>\n      <td>Almonds, Shelled Basis</td>\n      <td>AF</td>\n      <td>Afghanistan</td>\n      <td>2010</td>\n      <td>2018</td>\n      <td>10</td>\n      <td>20</td>\n      <td>Beginning Stocks</td>\n      <td>21</td>\n      <td>(MT)</td>\n      <td>0.0</td>\n    </tr>\n    <tr>\n      <th>1</th>\n      <td>577400</td>\n      <td>Almonds, Shelled Basis</td>\n      <td>AF</td>\n      <td>Afghanistan</td>\n      <td>2010</td>\n      <td>2018</td>\n      <td>10</td>\n      <td>125</td>\n      <td>Domestic Consumption</td>\n      <td>21</td>\n      <td>(MT)</td>\n      <td>0.0</td>\n    </tr>\n    <tr>\n      <th>2</th>\n      <td>577400</td>\n      <td>Almonds, Shelled Basis</td>\n      <td>AF</td>\n      <td>Afghanistan</td>\n      <td>2010</td>\n      <td>2018</td>\n      <td>10</td>\n      <td>176</td>\n      <td>Ending Stocks</td>\n      <td>21</td>\n      <td>(MT)</td>\n      <td>0.0</td>\n    </tr>\n    <tr>\n      <th>3</th>\n      <td>577400</td>\n      <td>Almonds, Shelled Basis</td>\n      <td>AF</td>\n      <td>Afghanistan</td>\n      <td>2010</td>\n      <td>2018</td>\n      <td>10</td>\n      <td>88</td>\n      <td>Exports</td>\n      <td>21</td>\n      <td>(MT)</td>\n      <td>0.0</td>\n    </tr>\n    <tr>\n      <th>4</th>\n      <td>577400</td>\n      <td>Almonds, Shelled Basis</td>\n      <td>AF</td>\n      <td>Afghanistan</td>\n      <td>2010</td>\n      <td>2018</td>\n      <td>10</td>\n      <td>57</td>\n      <td>Imports</td>\n      <td>21</td>\n      <td>(MT)</td>\n      <td>0.0</td>\n    </tr>\n  </tbody>\n</table>\n</div>"
          },
          "metadata": {},
          "execution_count": 2
        }
      ]
    },
    {
      "source": [
        "### Deal with null values"
      ],
      "cell_type": "markdown",
      "metadata": {}
    },
    {
      "source": [
        "usda_data.isnull().values.any()"
      ],
      "cell_type": "code",
      "metadata": {},
      "execution_count": 3,
      "outputs": [
        {
          "output_type": "execute_result",
          "data": {
            "text/plain": [
              "True"
            ]
          },
          "metadata": {},
          "execution_count": 3
        }
      ]
    },
    {
      "source": [
        "It looks like only the `Country_Code` column has `NaN`. \n"
      ],
      "cell_type": "markdown",
      "metadata": {}
    },
    {
      "cell_type": "code",
      "execution_count": 4,
      "metadata": {},
      "outputs": [
        {
          "output_type": "execute_result",
          "data": {
            "text/plain": [
              "         Commodity_Code Commodity_Description Country_Code  \\\n",
              "716727           813100         Meal, Soybean          NaN   \n",
              "716728           813100         Meal, Soybean          NaN   \n",
              "716729           813100         Meal, Soybean          NaN   \n",
              "716730           813100         Meal, Soybean          NaN   \n",
              "716731           813100         Meal, Soybean          NaN   \n",
              "...                 ...                   ...          ...   \n",
              "1726314          612000    Sugar, Centrifugal          NaN   \n",
              "1726315          612000    Sugar, Centrifugal          NaN   \n",
              "1726316          612000    Sugar, Centrifugal          NaN   \n",
              "1726317          612000    Sugar, Centrifugal          NaN   \n",
              "1726318          612000    Sugar, Centrifugal          NaN   \n",
              "\n",
              "                 Country_Name  Market_Year  Calendar_Year  Month  \\\n",
              "716727   Netherlands Antilles         1976           2006      6   \n",
              "716728   Netherlands Antilles         1976           2006      6   \n",
              "716729   Netherlands Antilles         1976           2006      6   \n",
              "716730   Netherlands Antilles         1976           2006      6   \n",
              "716731   Netherlands Antilles         1976           2006      6   \n",
              "...                       ...          ...            ...    ...   \n",
              "1726314  Netherlands Antilles         2021           2020     11   \n",
              "1726315  Netherlands Antilles         2021           2020     11   \n",
              "1726316  Netherlands Antilles         2021           2020     11   \n",
              "1726317  Netherlands Antilles         2021           2020     11   \n",
              "1726318  Netherlands Antilles         2021           2020     11   \n",
              "\n",
              "         Attribute_ID  Attribute_Description  Unit_ID Unit_Description  Value  \n",
              "716727             20       Beginning Stocks        8        (1000 MT)    0.0  \n",
              "716728              7                  Crush        8        (1000 MT)    0.0  \n",
              "716729            125   Domestic Consumption        8        (1000 MT)    1.0  \n",
              "716730            176          Ending Stocks        8        (1000 MT)    0.0  \n",
              "716731             88                Exports        8        (1000 MT)    0.0  \n",
              "...               ...                    ...      ...              ...    ...  \n",
              "1726314            99  Refined Exp.(Raw Val)        8        (1000 MT)    0.0  \n",
              "1726315            74  Refined Imp.(Raw Val)        8        (1000 MT)    0.0  \n",
              "1726316           126    Total Disappearance        8        (1000 MT)    0.0  \n",
              "1726317           178     Total Distribution        8        (1000 MT)    0.0  \n",
              "1726318            86           Total Supply        8        (1000 MT)    0.0  \n",
              "\n",
              "[1004 rows x 12 columns]"
            ],
            "text/html": "<div>\n<style scoped>\n    .dataframe tbody tr th:only-of-type {\n        vertical-align: middle;\n    }\n\n    .dataframe tbody tr th {\n        vertical-align: top;\n    }\n\n    .dataframe thead th {\n        text-align: right;\n    }\n</style>\n<table border=\"1\" class=\"dataframe\">\n  <thead>\n    <tr style=\"text-align: right;\">\n      <th></th>\n      <th>Commodity_Code</th>\n      <th>Commodity_Description</th>\n      <th>Country_Code</th>\n      <th>Country_Name</th>\n      <th>Market_Year</th>\n      <th>Calendar_Year</th>\n      <th>Month</th>\n      <th>Attribute_ID</th>\n      <th>Attribute_Description</th>\n      <th>Unit_ID</th>\n      <th>Unit_Description</th>\n      <th>Value</th>\n    </tr>\n  </thead>\n  <tbody>\n    <tr>\n      <th>716727</th>\n      <td>813100</td>\n      <td>Meal, Soybean</td>\n      <td>NaN</td>\n      <td>Netherlands Antilles</td>\n      <td>1976</td>\n      <td>2006</td>\n      <td>6</td>\n      <td>20</td>\n      <td>Beginning Stocks</td>\n      <td>8</td>\n      <td>(1000 MT)</td>\n      <td>0.0</td>\n    </tr>\n    <tr>\n      <th>716728</th>\n      <td>813100</td>\n      <td>Meal, Soybean</td>\n      <td>NaN</td>\n      <td>Netherlands Antilles</td>\n      <td>1976</td>\n      <td>2006</td>\n      <td>6</td>\n      <td>7</td>\n      <td>Crush</td>\n      <td>8</td>\n      <td>(1000 MT)</td>\n      <td>0.0</td>\n    </tr>\n    <tr>\n      <th>716729</th>\n      <td>813100</td>\n      <td>Meal, Soybean</td>\n      <td>NaN</td>\n      <td>Netherlands Antilles</td>\n      <td>1976</td>\n      <td>2006</td>\n      <td>6</td>\n      <td>125</td>\n      <td>Domestic Consumption</td>\n      <td>8</td>\n      <td>(1000 MT)</td>\n      <td>1.0</td>\n    </tr>\n    <tr>\n      <th>716730</th>\n      <td>813100</td>\n      <td>Meal, Soybean</td>\n      <td>NaN</td>\n      <td>Netherlands Antilles</td>\n      <td>1976</td>\n      <td>2006</td>\n      <td>6</td>\n      <td>176</td>\n      <td>Ending Stocks</td>\n      <td>8</td>\n      <td>(1000 MT)</td>\n      <td>0.0</td>\n    </tr>\n    <tr>\n      <th>716731</th>\n      <td>813100</td>\n      <td>Meal, Soybean</td>\n      <td>NaN</td>\n      <td>Netherlands Antilles</td>\n      <td>1976</td>\n      <td>2006</td>\n      <td>6</td>\n      <td>88</td>\n      <td>Exports</td>\n      <td>8</td>\n      <td>(1000 MT)</td>\n      <td>0.0</td>\n    </tr>\n    <tr>\n      <th>...</th>\n      <td>...</td>\n      <td>...</td>\n      <td>...</td>\n      <td>...</td>\n      <td>...</td>\n      <td>...</td>\n      <td>...</td>\n      <td>...</td>\n      <td>...</td>\n      <td>...</td>\n      <td>...</td>\n      <td>...</td>\n    </tr>\n    <tr>\n      <th>1726314</th>\n      <td>612000</td>\n      <td>Sugar, Centrifugal</td>\n      <td>NaN</td>\n      <td>Netherlands Antilles</td>\n      <td>2021</td>\n      <td>2020</td>\n      <td>11</td>\n      <td>99</td>\n      <td>Refined Exp.(Raw Val)</td>\n      <td>8</td>\n      <td>(1000 MT)</td>\n      <td>0.0</td>\n    </tr>\n    <tr>\n      <th>1726315</th>\n      <td>612000</td>\n      <td>Sugar, Centrifugal</td>\n      <td>NaN</td>\n      <td>Netherlands Antilles</td>\n      <td>2021</td>\n      <td>2020</td>\n      <td>11</td>\n      <td>74</td>\n      <td>Refined Imp.(Raw Val)</td>\n      <td>8</td>\n      <td>(1000 MT)</td>\n      <td>0.0</td>\n    </tr>\n    <tr>\n      <th>1726316</th>\n      <td>612000</td>\n      <td>Sugar, Centrifugal</td>\n      <td>NaN</td>\n      <td>Netherlands Antilles</td>\n      <td>2021</td>\n      <td>2020</td>\n      <td>11</td>\n      <td>126</td>\n      <td>Total Disappearance</td>\n      <td>8</td>\n      <td>(1000 MT)</td>\n      <td>0.0</td>\n    </tr>\n    <tr>\n      <th>1726317</th>\n      <td>612000</td>\n      <td>Sugar, Centrifugal</td>\n      <td>NaN</td>\n      <td>Netherlands Antilles</td>\n      <td>2021</td>\n      <td>2020</td>\n      <td>11</td>\n      <td>178</td>\n      <td>Total Distribution</td>\n      <td>8</td>\n      <td>(1000 MT)</td>\n      <td>0.0</td>\n    </tr>\n    <tr>\n      <th>1726318</th>\n      <td>612000</td>\n      <td>Sugar, Centrifugal</td>\n      <td>NaN</td>\n      <td>Netherlands Antilles</td>\n      <td>2021</td>\n      <td>2020</td>\n      <td>11</td>\n      <td>86</td>\n      <td>Total Supply</td>\n      <td>8</td>\n      <td>(1000 MT)</td>\n      <td>0.0</td>\n    </tr>\n  </tbody>\n</table>\n<p>1004 rows × 12 columns</p>\n</div>"
          },
          "metadata": {},
          "execution_count": 4
        }
      ],
      "source": [
        "usda_data[usda_data.isnull().any(axis=1)]"
      ]
    },
    {
      "source": [
        "Lets check which values for `Country_Name` don't have a `Country_Code`"
      ],
      "cell_type": "markdown",
      "metadata": {}
    },
    {
      "cell_type": "code",
      "execution_count": 5,
      "metadata": {},
      "outputs": [
        {
          "output_type": "execute_result",
          "data": {
            "text/plain": [
              "array(['Netherlands Antilles'], dtype=object)"
            ]
          },
          "metadata": {},
          "execution_count": 5
        }
      ],
      "source": [
        "usda_data[usda_data.isnull().any(axis=1)][\"Country_Name\"].unique()"
      ]
    },
    {
      "source": [
        "Before gaining indepedence in 2010, these islands were part of the Netherlands, but now the group of islands consists of smaller countries. \n",
        "\n",
        "We can just set the country code of Netherlands Antilles to the Netherlands' country code."
      ],
      "cell_type": "markdown",
      "metadata": {}
    },
    {
      "cell_type": "code",
      "execution_count": 6,
      "metadata": {},
      "outputs": [
        {
          "output_type": "execute_result",
          "data": {
            "text/plain": [
              "array(['NL'], dtype=object)"
            ]
          },
          "metadata": {},
          "execution_count": 6
        }
      ],
      "source": [
        "usda_data[usda_data[\"Country_Name\"] == \"Netherlands\"][\"Country_Code\"].unique()"
      ]
    },
    {
      "cell_type": "code",
      "execution_count": 7,
      "metadata": {},
      "outputs": [],
      "source": [
        "usda_data.loc[usda_data.Country_Name == \"Netherlands Antilles\", 'Country_Code'] = \"NL\""
      ]
    },
    {
      "source": [
        "Check to make sure it worked. This should return `False`"
      ],
      "cell_type": "markdown",
      "metadata": {}
    },
    {
      "cell_type": "code",
      "execution_count": 8,
      "metadata": {},
      "outputs": [
        {
          "output_type": "execute_result",
          "data": {
            "text/plain": [
              "False"
            ]
          },
          "metadata": {},
          "execution_count": 8
        }
      ],
      "source": [
        "usda_data.isnull().values.any()"
      ]
    },
    {
      "source": [
        "## Reshape from long to wide"
      ],
      "cell_type": "markdown",
      "metadata": {}
    },
    {
      "cell_type": "code",
      "execution_count": 9,
      "metadata": {},
      "outputs": [
        {
          "output_type": "execute_result",
          "data": {
            "text/plain": [
              "Attribute_Description                                  Annual % Change Per Cap. Cons.  \\\n",
              "Commodity_Description  Market_Year Month Country_Name                                   \n",
              "Almonds, Shelled Basis 1960        0     Iran                                     NaN   \n",
              "                                         Italy                                    NaN   \n",
              "                                         Morocco                                  NaN   \n",
              "                                         Portugal                                 NaN   \n",
              "                                         Spain                                    NaN   \n",
              "...                                                                               ...   \n",
              "Wheat                  2020        3     Venezuela                                NaN   \n",
              "                                         Vietnam                                  NaN   \n",
              "                                         Yemen                                    NaN   \n",
              "                                         Zambia                                   NaN   \n",
              "                                         Zimbabwe                                 NaN   \n",
              "\n",
              "Attribute_Description                                  Annual % Change Prod. To Sows  \\\n",
              "Commodity_Description  Market_Year Month Country_Name                                  \n",
              "Almonds, Shelled Basis 1960        0     Iran                                    NaN   \n",
              "                                         Italy                                   NaN   \n",
              "                                         Morocco                                 NaN   \n",
              "                                         Portugal                                NaN   \n",
              "                                         Spain                                   NaN   \n",
              "...                                                                              ...   \n",
              "Wheat                  2020        3     Venezuela                               NaN   \n",
              "                                         Vietnam                                 NaN   \n",
              "                                         Yemen                                   NaN   \n",
              "                                         Zambia                                  NaN   \n",
              "                                         Zimbabwe                                NaN   \n",
              "\n",
              "Attribute_Description                                  Arabica Production  \\\n",
              "Commodity_Description  Market_Year Month Country_Name                       \n",
              "Almonds, Shelled Basis 1960        0     Iran                         NaN   \n",
              "                                         Italy                        NaN   \n",
              "                                         Morocco                      NaN   \n",
              "                                         Portugal                     NaN   \n",
              "                                         Spain                        NaN   \n",
              "...                                                                   ...   \n",
              "Wheat                  2020        3     Venezuela                    NaN   \n",
              "                                         Vietnam                      NaN   \n",
              "                                         Yemen                        NaN   \n",
              "                                         Zambia                       NaN   \n",
              "                                         Zimbabwe                     NaN   \n",
              "\n",
              "Attribute_Description                                  Area Harvested  \\\n",
              "Commodity_Description  Market_Year Month Country_Name                   \n",
              "Almonds, Shelled Basis 1960        0     Iran                     NaN   \n",
              "                                         Italy                    NaN   \n",
              "                                         Morocco                  NaN   \n",
              "                                         Portugal                 NaN   \n",
              "                                         Spain                    NaN   \n",
              "...                                                               ...   \n",
              "Wheat                  2020        3     Venezuela                0.0   \n",
              "                                         Vietnam                  0.0   \n",
              "                                         Yemen                   95.0   \n",
              "                                         Zambia                  30.0   \n",
              "                                         Zimbabwe                63.0   \n",
              "\n",
              "Attribute_Description                                  Bean Exports  \\\n",
              "Commodity_Description  Market_Year Month Country_Name                 \n",
              "Almonds, Shelled Basis 1960        0     Iran                   NaN   \n",
              "                                         Italy                  NaN   \n",
              "                                         Morocco                NaN   \n",
              "                                         Portugal               NaN   \n",
              "                                         Spain                  NaN   \n",
              "...                                                             ...   \n",
              "Wheat                  2020        3     Venezuela              NaN   \n",
              "                                         Vietnam                NaN   \n",
              "                                         Yemen                  NaN   \n",
              "                                         Zambia                 NaN   \n",
              "                                         Zimbabwe               NaN   \n",
              "\n",
              "Attribute_Description                                  Bean Imports  \\\n",
              "Commodity_Description  Market_Year Month Country_Name                 \n",
              "Almonds, Shelled Basis 1960        0     Iran                   NaN   \n",
              "                                         Italy                  NaN   \n",
              "                                         Morocco                NaN   \n",
              "                                         Portugal               NaN   \n",
              "                                         Spain                  NaN   \n",
              "...                                                             ...   \n",
              "Wheat                  2020        3     Venezuela              NaN   \n",
              "                                         Vietnam                NaN   \n",
              "                                         Yemen                  NaN   \n",
              "                                         Zambia                 NaN   \n",
              "                                         Zimbabwe               NaN   \n",
              "\n",
              "Attribute_Description                                  Beef Cows Beg. Stocks  \\\n",
              "Commodity_Description  Market_Year Month Country_Name                          \n",
              "Almonds, Shelled Basis 1960        0     Iran                            NaN   \n",
              "                                         Italy                           NaN   \n",
              "                                         Morocco                         NaN   \n",
              "                                         Portugal                        NaN   \n",
              "                                         Spain                           NaN   \n",
              "...                                                                      ...   \n",
              "Wheat                  2020        3     Venezuela                       NaN   \n",
              "                                         Vietnam                         NaN   \n",
              "                                         Yemen                           NaN   \n",
              "                                         Zambia                          NaN   \n",
              "                                         Zimbabwe                        NaN   \n",
              "\n",
              "Attribute_Description                                  Beet Sugar Production  \\\n",
              "Commodity_Description  Market_Year Month Country_Name                          \n",
              "Almonds, Shelled Basis 1960        0     Iran                            NaN   \n",
              "                                         Italy                           NaN   \n",
              "                                         Morocco                         NaN   \n",
              "                                         Portugal                        NaN   \n",
              "                                         Spain                           NaN   \n",
              "...                                                                      ...   \n",
              "Wheat                  2020        3     Venezuela                       NaN   \n",
              "                                         Vietnam                         NaN   \n",
              "                                         Yemen                           NaN   \n",
              "                                         Zambia                          NaN   \n",
              "                                         Zimbabwe                        NaN   \n",
              "\n",
              "Attribute_Description                                  Beginning Stocks  \\\n",
              "Commodity_Description  Market_Year Month Country_Name                     \n",
              "Almonds, Shelled Basis 1960        0     Iran                       0.0   \n",
              "                                         Italy                      0.0   \n",
              "                                         Morocco                    0.0   \n",
              "                                         Portugal                   0.0   \n",
              "                                         Spain                      0.0   \n",
              "...                                                                 ...   \n",
              "Wheat                  2020        3     Venezuela                142.0   \n",
              "                                         Vietnam                  849.0   \n",
              "                                         Yemen                    564.0   \n",
              "                                         Zambia                    18.0   \n",
              "                                         Zimbabwe                  41.0   \n",
              "\n",
              "Attribute_Description                                  Calf Slaughter  ...  \\\n",
              "Commodity_Description  Market_Year Month Country_Name                  ...   \n",
              "Almonds, Shelled Basis 1960        0     Iran                     NaN  ...   \n",
              "                                         Italy                    NaN  ...   \n",
              "                                         Morocco                  NaN  ...   \n",
              "                                         Portugal                 NaN  ...   \n",
              "                                         Spain                    NaN  ...   \n",
              "...                                                               ...  ...   \n",
              "Wheat                  2020        3     Venezuela                NaN  ...   \n",
              "                                         Vietnam                  NaN  ...   \n",
              "                                         Yemen                    NaN  ...   \n",
              "                                         Zambia                   NaN  ...   \n",
              "                                         Zimbabwe                 NaN  ...   \n",
              "\n",
              "Attribute_Description                                  TY Imp. from U.S.  \\\n",
              "Commodity_Description  Market_Year Month Country_Name                      \n",
              "Almonds, Shelled Basis 1960        0     Iran                        NaN   \n",
              "                                         Italy                       NaN   \n",
              "                                         Morocco                     NaN   \n",
              "                                         Portugal                    NaN   \n",
              "                                         Spain                       NaN   \n",
              "...                                                                  ...   \n",
              "Wheat                  2020        3     Venezuela                   0.0   \n",
              "                                         Vietnam                     0.0   \n",
              "                                         Yemen                       0.0   \n",
              "                                         Zambia                      0.0   \n",
              "                                         Zimbabwe                    0.0   \n",
              "\n",
              "Attribute_Description                                  TY Imports  \\\n",
              "Commodity_Description  Market_Year Month Country_Name               \n",
              "Almonds, Shelled Basis 1960        0     Iran                 NaN   \n",
              "                                         Italy                NaN   \n",
              "                                         Morocco              NaN   \n",
              "                                         Portugal             NaN   \n",
              "                                         Spain                NaN   \n",
              "...                                                           ...   \n",
              "Wheat                  2020        3     Venezuela         1000.0   \n",
              "                                         Vietnam           3400.0   \n",
              "                                         Yemen             3800.0   \n",
              "                                         Zambia              50.0   \n",
              "                                         Zimbabwe           100.0   \n",
              "\n",
              "Attribute_Description                                  Total Disappearance  \\\n",
              "Commodity_Description  Market_Year Month Country_Name                        \n",
              "Almonds, Shelled Basis 1960        0     Iran                          NaN   \n",
              "                                         Italy                         NaN   \n",
              "                                         Morocco                       NaN   \n",
              "                                         Portugal                      NaN   \n",
              "                                         Spain                         NaN   \n",
              "...                                                                    ...   \n",
              "Wheat                  2020        3     Venezuela                     NaN   \n",
              "                                         Vietnam                       NaN   \n",
              "                                         Yemen                         NaN   \n",
              "                                         Zambia                        NaN   \n",
              "                                         Zimbabwe                      NaN   \n",
              "\n",
              "Attribute_Description                                  Total Distribution  \\\n",
              "Commodity_Description  Market_Year Month Country_Name                       \n",
              "Almonds, Shelled Basis 1960        0     Iran                         0.0   \n",
              "                                         Italy                        0.0   \n",
              "                                         Morocco                      0.0   \n",
              "                                         Portugal                     0.0   \n",
              "                                         Spain                        0.0   \n",
              "...                                                                   ...   \n",
              "Wheat                  2020        3     Venezuela                 1142.0   \n",
              "                                         Vietnam                   4249.0   \n",
              "                                         Yemen                     4502.0   \n",
              "                                         Zambia                     258.0   \n",
              "                                         Zimbabwe                   391.0   \n",
              "\n",
              "Attribute_Description                                  Total Slaughter  \\\n",
              "Commodity_Description  Market_Year Month Country_Name                    \n",
              "Almonds, Shelled Basis 1960        0     Iran                      NaN   \n",
              "                                         Italy                     NaN   \n",
              "                                         Morocco                   NaN   \n",
              "                                         Portugal                  NaN   \n",
              "                                         Spain                     NaN   \n",
              "...                                                                ...   \n",
              "Wheat                  2020        3     Venezuela                 NaN   \n",
              "                                         Vietnam                   NaN   \n",
              "                                         Yemen                     NaN   \n",
              "                                         Zambia                    NaN   \n",
              "                                         Zimbabwe                  NaN   \n",
              "\n",
              "Attribute_Description                                  Total Supply  \\\n",
              "Commodity_Description  Market_Year Month Country_Name                 \n",
              "Almonds, Shelled Basis 1960        0     Iran                   4.0   \n",
              "                                         Italy                 13.0   \n",
              "                                         Morocco                2.0   \n",
              "                                         Portugal               1.0   \n",
              "                                         Spain                 29.0   \n",
              "...                                                             ...   \n",
              "Wheat                  2020        3     Venezuela           1142.0   \n",
              "                                         Vietnam             4249.0   \n",
              "                                         Yemen               4502.0   \n",
              "                                         Zambia               258.0   \n",
              "                                         Zimbabwe             391.0   \n",
              "\n",
              "Attribute_Description                                  Total Use  \\\n",
              "Commodity_Description  Market_Year Month Country_Name              \n",
              "Almonds, Shelled Basis 1960        0     Iran                NaN   \n",
              "                                         Italy               NaN   \n",
              "                                         Morocco             NaN   \n",
              "                                         Portugal            NaN   \n",
              "                                         Spain               NaN   \n",
              "...                                                          ...   \n",
              "Wheat                  2020        3     Venezuela           NaN   \n",
              "                                         Vietnam             NaN   \n",
              "                                         Yemen               NaN   \n",
              "                                         Zambia              NaN   \n",
              "                                         Zimbabwe            NaN   \n",
              "\n",
              "Attribute_Description                                  USE Dom. Consumption  \\\n",
              "Commodity_Description  Market_Year Month Country_Name                         \n",
              "Almonds, Shelled Basis 1960        0     Iran                           NaN   \n",
              "                                         Italy                          NaN   \n",
              "                                         Morocco                        NaN   \n",
              "                                         Portugal                       NaN   \n",
              "                                         Spain                          NaN   \n",
              "...                                                                     ...   \n",
              "Wheat                  2020        3     Venezuela                      NaN   \n",
              "                                         Vietnam                        NaN   \n",
              "                                         Yemen                          NaN   \n",
              "                                         Zambia                         NaN   \n",
              "                                         Zimbabwe                       NaN   \n",
              "\n",
              "Attribute_Description                                  Withdrawal From Market  \\\n",
              "Commodity_Description  Market_Year Month Country_Name                           \n",
              "Almonds, Shelled Basis 1960        0     Iran                             NaN   \n",
              "                                         Italy                            NaN   \n",
              "                                         Morocco                          NaN   \n",
              "                                         Portugal                         NaN   \n",
              "                                         Spain                            NaN   \n",
              "...                                                                       ...   \n",
              "Wheat                  2020        3     Venezuela                        NaN   \n",
              "                                         Vietnam                          NaN   \n",
              "                                         Yemen                            NaN   \n",
              "                                         Zambia                           NaN   \n",
              "                                         Zimbabwe                         NaN   \n",
              "\n",
              "Attribute_Description                                  Yield  \n",
              "Commodity_Description  Market_Year Month Country_Name         \n",
              "Almonds, Shelled Basis 1960        0     Iran            NaN  \n",
              "                                         Italy           NaN  \n",
              "                                         Morocco         NaN  \n",
              "                                         Portugal        NaN  \n",
              "                                         Spain           NaN  \n",
              "...                                                      ...  \n",
              "Wheat                  2020        3     Venezuela      0.00  \n",
              "                                         Vietnam        0.00  \n",
              "                                         Yemen          1.45  \n",
              "                                         Zambia         6.33  \n",
              "                                         Zimbabwe       3.97  \n",
              "\n",
              "[146463 rows x 71 columns]"
            ],
            "text/html": "<div>\n<style scoped>\n    .dataframe tbody tr th:only-of-type {\n        vertical-align: middle;\n    }\n\n    .dataframe tbody tr th {\n        vertical-align: top;\n    }\n\n    .dataframe thead th {\n        text-align: right;\n    }\n</style>\n<table border=\"1\" class=\"dataframe\">\n  <thead>\n    <tr style=\"text-align: right;\">\n      <th></th>\n      <th></th>\n      <th></th>\n      <th>Attribute_Description</th>\n      <th>Annual % Change Per Cap. Cons.</th>\n      <th>Annual % Change Prod. To Sows</th>\n      <th>Arabica Production</th>\n      <th>Area Harvested</th>\n      <th>Bean Exports</th>\n      <th>Bean Imports</th>\n      <th>Beef Cows Beg. Stocks</th>\n      <th>Beet Sugar Production</th>\n      <th>Beginning Stocks</th>\n      <th>Calf Slaughter</th>\n      <th>...</th>\n      <th>TY Imp. from U.S.</th>\n      <th>TY Imports</th>\n      <th>Total Disappearance</th>\n      <th>Total Distribution</th>\n      <th>Total Slaughter</th>\n      <th>Total Supply</th>\n      <th>Total Use</th>\n      <th>USE Dom. Consumption</th>\n      <th>Withdrawal From Market</th>\n      <th>Yield</th>\n    </tr>\n    <tr>\n      <th>Commodity_Description</th>\n      <th>Market_Year</th>\n      <th>Month</th>\n      <th>Country_Name</th>\n      <th></th>\n      <th></th>\n      <th></th>\n      <th></th>\n      <th></th>\n      <th></th>\n      <th></th>\n      <th></th>\n      <th></th>\n      <th></th>\n      <th></th>\n      <th></th>\n      <th></th>\n      <th></th>\n      <th></th>\n      <th></th>\n      <th></th>\n      <th></th>\n      <th></th>\n      <th></th>\n      <th></th>\n    </tr>\n  </thead>\n  <tbody>\n    <tr>\n      <th rowspan=\"5\" valign=\"top\">Almonds, Shelled Basis</th>\n      <th rowspan=\"5\" valign=\"top\">1960</th>\n      <th rowspan=\"5\" valign=\"top\">0</th>\n      <th>Iran</th>\n      <td>NaN</td>\n      <td>NaN</td>\n      <td>NaN</td>\n      <td>NaN</td>\n      <td>NaN</td>\n      <td>NaN</td>\n      <td>NaN</td>\n      <td>NaN</td>\n      <td>0.0</td>\n      <td>NaN</td>\n      <td>...</td>\n      <td>NaN</td>\n      <td>NaN</td>\n      <td>NaN</td>\n      <td>0.0</td>\n      <td>NaN</td>\n      <td>4.0</td>\n      <td>NaN</td>\n      <td>NaN</td>\n      <td>NaN</td>\n      <td>NaN</td>\n    </tr>\n    <tr>\n      <th>Italy</th>\n      <td>NaN</td>\n      <td>NaN</td>\n      <td>NaN</td>\n      <td>NaN</td>\n      <td>NaN</td>\n      <td>NaN</td>\n      <td>NaN</td>\n      <td>NaN</td>\n      <td>0.0</td>\n      <td>NaN</td>\n      <td>...</td>\n      <td>NaN</td>\n      <td>NaN</td>\n      <td>NaN</td>\n      <td>0.0</td>\n      <td>NaN</td>\n      <td>13.0</td>\n      <td>NaN</td>\n      <td>NaN</td>\n      <td>NaN</td>\n      <td>NaN</td>\n    </tr>\n    <tr>\n      <th>Morocco</th>\n      <td>NaN</td>\n      <td>NaN</td>\n      <td>NaN</td>\n      <td>NaN</td>\n      <td>NaN</td>\n      <td>NaN</td>\n      <td>NaN</td>\n      <td>NaN</td>\n      <td>0.0</td>\n      <td>NaN</td>\n      <td>...</td>\n      <td>NaN</td>\n      <td>NaN</td>\n      <td>NaN</td>\n      <td>0.0</td>\n      <td>NaN</td>\n      <td>2.0</td>\n      <td>NaN</td>\n      <td>NaN</td>\n      <td>NaN</td>\n      <td>NaN</td>\n    </tr>\n    <tr>\n      <th>Portugal</th>\n      <td>NaN</td>\n      <td>NaN</td>\n      <td>NaN</td>\n      <td>NaN</td>\n      <td>NaN</td>\n      <td>NaN</td>\n      <td>NaN</td>\n      <td>NaN</td>\n      <td>0.0</td>\n      <td>NaN</td>\n      <td>...</td>\n      <td>NaN</td>\n      <td>NaN</td>\n      <td>NaN</td>\n      <td>0.0</td>\n      <td>NaN</td>\n      <td>1.0</td>\n      <td>NaN</td>\n      <td>NaN</td>\n      <td>NaN</td>\n      <td>NaN</td>\n    </tr>\n    <tr>\n      <th>Spain</th>\n      <td>NaN</td>\n      <td>NaN</td>\n      <td>NaN</td>\n      <td>NaN</td>\n      <td>NaN</td>\n      <td>NaN</td>\n      <td>NaN</td>\n      <td>NaN</td>\n      <td>0.0</td>\n      <td>NaN</td>\n      <td>...</td>\n      <td>NaN</td>\n      <td>NaN</td>\n      <td>NaN</td>\n      <td>0.0</td>\n      <td>NaN</td>\n      <td>29.0</td>\n      <td>NaN</td>\n      <td>NaN</td>\n      <td>NaN</td>\n      <td>NaN</td>\n    </tr>\n    <tr>\n      <th>...</th>\n      <th>...</th>\n      <th>...</th>\n      <th>...</th>\n      <td>...</td>\n      <td>...</td>\n      <td>...</td>\n      <td>...</td>\n      <td>...</td>\n      <td>...</td>\n      <td>...</td>\n      <td>...</td>\n      <td>...</td>\n      <td>...</td>\n      <td>...</td>\n      <td>...</td>\n      <td>...</td>\n      <td>...</td>\n      <td>...</td>\n      <td>...</td>\n      <td>...</td>\n      <td>...</td>\n      <td>...</td>\n      <td>...</td>\n      <td>...</td>\n    </tr>\n    <tr>\n      <th rowspan=\"5\" valign=\"top\">Wheat</th>\n      <th rowspan=\"5\" valign=\"top\">2020</th>\n      <th rowspan=\"5\" valign=\"top\">3</th>\n      <th>Venezuela</th>\n      <td>NaN</td>\n      <td>NaN</td>\n      <td>NaN</td>\n      <td>0.0</td>\n      <td>NaN</td>\n      <td>NaN</td>\n      <td>NaN</td>\n      <td>NaN</td>\n      <td>142.0</td>\n      <td>NaN</td>\n      <td>...</td>\n      <td>0.0</td>\n      <td>1000.0</td>\n      <td>NaN</td>\n      <td>1142.0</td>\n      <td>NaN</td>\n      <td>1142.0</td>\n      <td>NaN</td>\n      <td>NaN</td>\n      <td>NaN</td>\n      <td>0.00</td>\n    </tr>\n    <tr>\n      <th>Vietnam</th>\n      <td>NaN</td>\n      <td>NaN</td>\n      <td>NaN</td>\n      <td>0.0</td>\n      <td>NaN</td>\n      <td>NaN</td>\n      <td>NaN</td>\n      <td>NaN</td>\n      <td>849.0</td>\n      <td>NaN</td>\n      <td>...</td>\n      <td>0.0</td>\n      <td>3400.0</td>\n      <td>NaN</td>\n      <td>4249.0</td>\n      <td>NaN</td>\n      <td>4249.0</td>\n      <td>NaN</td>\n      <td>NaN</td>\n      <td>NaN</td>\n      <td>0.00</td>\n    </tr>\n    <tr>\n      <th>Yemen</th>\n      <td>NaN</td>\n      <td>NaN</td>\n      <td>NaN</td>\n      <td>95.0</td>\n      <td>NaN</td>\n      <td>NaN</td>\n      <td>NaN</td>\n      <td>NaN</td>\n      <td>564.0</td>\n      <td>NaN</td>\n      <td>...</td>\n      <td>0.0</td>\n      <td>3800.0</td>\n      <td>NaN</td>\n      <td>4502.0</td>\n      <td>NaN</td>\n      <td>4502.0</td>\n      <td>NaN</td>\n      <td>NaN</td>\n      <td>NaN</td>\n      <td>1.45</td>\n    </tr>\n    <tr>\n      <th>Zambia</th>\n      <td>NaN</td>\n      <td>NaN</td>\n      <td>NaN</td>\n      <td>30.0</td>\n      <td>NaN</td>\n      <td>NaN</td>\n      <td>NaN</td>\n      <td>NaN</td>\n      <td>18.0</td>\n      <td>NaN</td>\n      <td>...</td>\n      <td>0.0</td>\n      <td>50.0</td>\n      <td>NaN</td>\n      <td>258.0</td>\n      <td>NaN</td>\n      <td>258.0</td>\n      <td>NaN</td>\n      <td>NaN</td>\n      <td>NaN</td>\n      <td>6.33</td>\n    </tr>\n    <tr>\n      <th>Zimbabwe</th>\n      <td>NaN</td>\n      <td>NaN</td>\n      <td>NaN</td>\n      <td>63.0</td>\n      <td>NaN</td>\n      <td>NaN</td>\n      <td>NaN</td>\n      <td>NaN</td>\n      <td>41.0</td>\n      <td>NaN</td>\n      <td>...</td>\n      <td>0.0</td>\n      <td>100.0</td>\n      <td>NaN</td>\n      <td>391.0</td>\n      <td>NaN</td>\n      <td>391.0</td>\n      <td>NaN</td>\n      <td>NaN</td>\n      <td>NaN</td>\n      <td>3.97</td>\n    </tr>\n  </tbody>\n</table>\n<p>146463 rows × 71 columns</p>\n</div>"
          },
          "metadata": {},
          "execution_count": 9
        }
      ],
      "source": [
        "usda_pivot = usda_data.pivot(index = [\"Commodity_Description\", \"Market_Year\", \"Month\", \"Country_Name\"], columns = \"Attribute_Description\", values = \"Value\")\n",
        "usda_pivot"
      ]
    },
    {
      "cell_type": "code",
      "execution_count": 10,
      "metadata": {},
      "outputs": [
        {
          "output_type": "execute_result",
          "data": {
            "text/plain": [
              "Attribute_Description   Commodity_Description  Market_Year  Month  \\\n",
              "0                      Almonds, Shelled Basis         1960      0   \n",
              "1                      Almonds, Shelled Basis         1960      0   \n",
              "2                      Almonds, Shelled Basis         1960      0   \n",
              "3                      Almonds, Shelled Basis         1960      0   \n",
              "4                      Almonds, Shelled Basis         1960      0   \n",
              "...                                       ...          ...    ...   \n",
              "146458                                  Wheat         2020      3   \n",
              "146459                                  Wheat         2020      3   \n",
              "146460                                  Wheat         2020      3   \n",
              "146461                                  Wheat         2020      3   \n",
              "146462                                  Wheat         2020      3   \n",
              "\n",
              "Attribute_Description Country_Name  Annual % Change Per Cap. Cons.  \\\n",
              "0                             Iran                             NaN   \n",
              "1                            Italy                             NaN   \n",
              "2                          Morocco                             NaN   \n",
              "3                         Portugal                             NaN   \n",
              "4                            Spain                             NaN   \n",
              "...                            ...                             ...   \n",
              "146458                   Venezuela                             NaN   \n",
              "146459                     Vietnam                             NaN   \n",
              "146460                       Yemen                             NaN   \n",
              "146461                      Zambia                             NaN   \n",
              "146462                    Zimbabwe                             NaN   \n",
              "\n",
              "Attribute_Description  Annual % Change Prod. To Sows  Arabica Production  \\\n",
              "0                                                NaN                 NaN   \n",
              "1                                                NaN                 NaN   \n",
              "2                                                NaN                 NaN   \n",
              "3                                                NaN                 NaN   \n",
              "4                                                NaN                 NaN   \n",
              "...                                              ...                 ...   \n",
              "146458                                           NaN                 NaN   \n",
              "146459                                           NaN                 NaN   \n",
              "146460                                           NaN                 NaN   \n",
              "146461                                           NaN                 NaN   \n",
              "146462                                           NaN                 NaN   \n",
              "\n",
              "Attribute_Description  Area Harvested  Bean Exports  Bean Imports  ...  \\\n",
              "0                                 NaN           NaN           NaN  ...   \n",
              "1                                 NaN           NaN           NaN  ...   \n",
              "2                                 NaN           NaN           NaN  ...   \n",
              "3                                 NaN           NaN           NaN  ...   \n",
              "4                                 NaN           NaN           NaN  ...   \n",
              "...                               ...           ...           ...  ...   \n",
              "146458                            0.0           NaN           NaN  ...   \n",
              "146459                            0.0           NaN           NaN  ...   \n",
              "146460                           95.0           NaN           NaN  ...   \n",
              "146461                           30.0           NaN           NaN  ...   \n",
              "146462                           63.0           NaN           NaN  ...   \n",
              "\n",
              "Attribute_Description  TY Imp. from U.S.  TY Imports  Total Disappearance  \\\n",
              "0                                    NaN         NaN                  NaN   \n",
              "1                                    NaN         NaN                  NaN   \n",
              "2                                    NaN         NaN                  NaN   \n",
              "3                                    NaN         NaN                  NaN   \n",
              "4                                    NaN         NaN                  NaN   \n",
              "...                                  ...         ...                  ...   \n",
              "146458                               0.0      1000.0                  NaN   \n",
              "146459                               0.0      3400.0                  NaN   \n",
              "146460                               0.0      3800.0                  NaN   \n",
              "146461                               0.0        50.0                  NaN   \n",
              "146462                               0.0       100.0                  NaN   \n",
              "\n",
              "Attribute_Description  Total Distribution  Total Slaughter  Total Supply  \\\n",
              "0                                     0.0              NaN           4.0   \n",
              "1                                     0.0              NaN          13.0   \n",
              "2                                     0.0              NaN           2.0   \n",
              "3                                     0.0              NaN           1.0   \n",
              "4                                     0.0              NaN          29.0   \n",
              "...                                   ...              ...           ...   \n",
              "146458                             1142.0              NaN        1142.0   \n",
              "146459                             4249.0              NaN        4249.0   \n",
              "146460                             4502.0              NaN        4502.0   \n",
              "146461                              258.0              NaN         258.0   \n",
              "146462                              391.0              NaN         391.0   \n",
              "\n",
              "Attribute_Description  Total Use  USE Dom. Consumption  \\\n",
              "0                            NaN                   NaN   \n",
              "1                            NaN                   NaN   \n",
              "2                            NaN                   NaN   \n",
              "3                            NaN                   NaN   \n",
              "4                            NaN                   NaN   \n",
              "...                          ...                   ...   \n",
              "146458                       NaN                   NaN   \n",
              "146459                       NaN                   NaN   \n",
              "146460                       NaN                   NaN   \n",
              "146461                       NaN                   NaN   \n",
              "146462                       NaN                   NaN   \n",
              "\n",
              "Attribute_Description  Withdrawal From Market  Yield  \n",
              "0                                         NaN    NaN  \n",
              "1                                         NaN    NaN  \n",
              "2                                         NaN    NaN  \n",
              "3                                         NaN    NaN  \n",
              "4                                         NaN    NaN  \n",
              "...                                       ...    ...  \n",
              "146458                                    NaN   0.00  \n",
              "146459                                    NaN   0.00  \n",
              "146460                                    NaN   1.45  \n",
              "146461                                    NaN   6.33  \n",
              "146462                                    NaN   3.97  \n",
              "\n",
              "[146463 rows x 75 columns]"
            ],
            "text/html": "<div>\n<style scoped>\n    .dataframe tbody tr th:only-of-type {\n        vertical-align: middle;\n    }\n\n    .dataframe tbody tr th {\n        vertical-align: top;\n    }\n\n    .dataframe thead th {\n        text-align: right;\n    }\n</style>\n<table border=\"1\" class=\"dataframe\">\n  <thead>\n    <tr style=\"text-align: right;\">\n      <th>Attribute_Description</th>\n      <th>Commodity_Description</th>\n      <th>Market_Year</th>\n      <th>Month</th>\n      <th>Country_Name</th>\n      <th>Annual % Change Per Cap. Cons.</th>\n      <th>Annual % Change Prod. To Sows</th>\n      <th>Arabica Production</th>\n      <th>Area Harvested</th>\n      <th>Bean Exports</th>\n      <th>Bean Imports</th>\n      <th>...</th>\n      <th>TY Imp. from U.S.</th>\n      <th>TY Imports</th>\n      <th>Total Disappearance</th>\n      <th>Total Distribution</th>\n      <th>Total Slaughter</th>\n      <th>Total Supply</th>\n      <th>Total Use</th>\n      <th>USE Dom. Consumption</th>\n      <th>Withdrawal From Market</th>\n      <th>Yield</th>\n    </tr>\n  </thead>\n  <tbody>\n    <tr>\n      <th>0</th>\n      <td>Almonds, Shelled Basis</td>\n      <td>1960</td>\n      <td>0</td>\n      <td>Iran</td>\n      <td>NaN</td>\n      <td>NaN</td>\n      <td>NaN</td>\n      <td>NaN</td>\n      <td>NaN</td>\n      <td>NaN</td>\n      <td>...</td>\n      <td>NaN</td>\n      <td>NaN</td>\n      <td>NaN</td>\n      <td>0.0</td>\n      <td>NaN</td>\n      <td>4.0</td>\n      <td>NaN</td>\n      <td>NaN</td>\n      <td>NaN</td>\n      <td>NaN</td>\n    </tr>\n    <tr>\n      <th>1</th>\n      <td>Almonds, Shelled Basis</td>\n      <td>1960</td>\n      <td>0</td>\n      <td>Italy</td>\n      <td>NaN</td>\n      <td>NaN</td>\n      <td>NaN</td>\n      <td>NaN</td>\n      <td>NaN</td>\n      <td>NaN</td>\n      <td>...</td>\n      <td>NaN</td>\n      <td>NaN</td>\n      <td>NaN</td>\n      <td>0.0</td>\n      <td>NaN</td>\n      <td>13.0</td>\n      <td>NaN</td>\n      <td>NaN</td>\n      <td>NaN</td>\n      <td>NaN</td>\n    </tr>\n    <tr>\n      <th>2</th>\n      <td>Almonds, Shelled Basis</td>\n      <td>1960</td>\n      <td>0</td>\n      <td>Morocco</td>\n      <td>NaN</td>\n      <td>NaN</td>\n      <td>NaN</td>\n      <td>NaN</td>\n      <td>NaN</td>\n      <td>NaN</td>\n      <td>...</td>\n      <td>NaN</td>\n      <td>NaN</td>\n      <td>NaN</td>\n      <td>0.0</td>\n      <td>NaN</td>\n      <td>2.0</td>\n      <td>NaN</td>\n      <td>NaN</td>\n      <td>NaN</td>\n      <td>NaN</td>\n    </tr>\n    <tr>\n      <th>3</th>\n      <td>Almonds, Shelled Basis</td>\n      <td>1960</td>\n      <td>0</td>\n      <td>Portugal</td>\n      <td>NaN</td>\n      <td>NaN</td>\n      <td>NaN</td>\n      <td>NaN</td>\n      <td>NaN</td>\n      <td>NaN</td>\n      <td>...</td>\n      <td>NaN</td>\n      <td>NaN</td>\n      <td>NaN</td>\n      <td>0.0</td>\n      <td>NaN</td>\n      <td>1.0</td>\n      <td>NaN</td>\n      <td>NaN</td>\n      <td>NaN</td>\n      <td>NaN</td>\n    </tr>\n    <tr>\n      <th>4</th>\n      <td>Almonds, Shelled Basis</td>\n      <td>1960</td>\n      <td>0</td>\n      <td>Spain</td>\n      <td>NaN</td>\n      <td>NaN</td>\n      <td>NaN</td>\n      <td>NaN</td>\n      <td>NaN</td>\n      <td>NaN</td>\n      <td>...</td>\n      <td>NaN</td>\n      <td>NaN</td>\n      <td>NaN</td>\n      <td>0.0</td>\n      <td>NaN</td>\n      <td>29.0</td>\n      <td>NaN</td>\n      <td>NaN</td>\n      <td>NaN</td>\n      <td>NaN</td>\n    </tr>\n    <tr>\n      <th>...</th>\n      <td>...</td>\n      <td>...</td>\n      <td>...</td>\n      <td>...</td>\n      <td>...</td>\n      <td>...</td>\n      <td>...</td>\n      <td>...</td>\n      <td>...</td>\n      <td>...</td>\n      <td>...</td>\n      <td>...</td>\n      <td>...</td>\n      <td>...</td>\n      <td>...</td>\n      <td>...</td>\n      <td>...</td>\n      <td>...</td>\n      <td>...</td>\n      <td>...</td>\n      <td>...</td>\n    </tr>\n    <tr>\n      <th>146458</th>\n      <td>Wheat</td>\n      <td>2020</td>\n      <td>3</td>\n      <td>Venezuela</td>\n      <td>NaN</td>\n      <td>NaN</td>\n      <td>NaN</td>\n      <td>0.0</td>\n      <td>NaN</td>\n      <td>NaN</td>\n      <td>...</td>\n      <td>0.0</td>\n      <td>1000.0</td>\n      <td>NaN</td>\n      <td>1142.0</td>\n      <td>NaN</td>\n      <td>1142.0</td>\n      <td>NaN</td>\n      <td>NaN</td>\n      <td>NaN</td>\n      <td>0.00</td>\n    </tr>\n    <tr>\n      <th>146459</th>\n      <td>Wheat</td>\n      <td>2020</td>\n      <td>3</td>\n      <td>Vietnam</td>\n      <td>NaN</td>\n      <td>NaN</td>\n      <td>NaN</td>\n      <td>0.0</td>\n      <td>NaN</td>\n      <td>NaN</td>\n      <td>...</td>\n      <td>0.0</td>\n      <td>3400.0</td>\n      <td>NaN</td>\n      <td>4249.0</td>\n      <td>NaN</td>\n      <td>4249.0</td>\n      <td>NaN</td>\n      <td>NaN</td>\n      <td>NaN</td>\n      <td>0.00</td>\n    </tr>\n    <tr>\n      <th>146460</th>\n      <td>Wheat</td>\n      <td>2020</td>\n      <td>3</td>\n      <td>Yemen</td>\n      <td>NaN</td>\n      <td>NaN</td>\n      <td>NaN</td>\n      <td>95.0</td>\n      <td>NaN</td>\n      <td>NaN</td>\n      <td>...</td>\n      <td>0.0</td>\n      <td>3800.0</td>\n      <td>NaN</td>\n      <td>4502.0</td>\n      <td>NaN</td>\n      <td>4502.0</td>\n      <td>NaN</td>\n      <td>NaN</td>\n      <td>NaN</td>\n      <td>1.45</td>\n    </tr>\n    <tr>\n      <th>146461</th>\n      <td>Wheat</td>\n      <td>2020</td>\n      <td>3</td>\n      <td>Zambia</td>\n      <td>NaN</td>\n      <td>NaN</td>\n      <td>NaN</td>\n      <td>30.0</td>\n      <td>NaN</td>\n      <td>NaN</td>\n      <td>...</td>\n      <td>0.0</td>\n      <td>50.0</td>\n      <td>NaN</td>\n      <td>258.0</td>\n      <td>NaN</td>\n      <td>258.0</td>\n      <td>NaN</td>\n      <td>NaN</td>\n      <td>NaN</td>\n      <td>6.33</td>\n    </tr>\n    <tr>\n      <th>146462</th>\n      <td>Wheat</td>\n      <td>2020</td>\n      <td>3</td>\n      <td>Zimbabwe</td>\n      <td>NaN</td>\n      <td>NaN</td>\n      <td>NaN</td>\n      <td>63.0</td>\n      <td>NaN</td>\n      <td>NaN</td>\n      <td>...</td>\n      <td>0.0</td>\n      <td>100.0</td>\n      <td>NaN</td>\n      <td>391.0</td>\n      <td>NaN</td>\n      <td>391.0</td>\n      <td>NaN</td>\n      <td>NaN</td>\n      <td>NaN</td>\n      <td>3.97</td>\n    </tr>\n  </tbody>\n</table>\n<p>146463 rows × 75 columns</p>\n</div>"
          },
          "metadata": {},
          "execution_count": 10
        }
      ],
      "source": [
        "usda_pivot_reset = usda_pivot.reset_index(drop=False)\n",
        "usda_pivot_reset"
      ]
    },
    {
      "cell_type": "code",
      "execution_count": 11,
      "metadata": {},
      "outputs": [
        {
          "output_type": "execute_result",
          "data": {
            "text/plain": [
              "Attribute_Description   Commodity_Description  Market_Year  Month  \\\n",
              "0                      Almonds, Shelled Basis         1960      0   \n",
              "1                      Almonds, Shelled Basis         1960      0   \n",
              "2                      Almonds, Shelled Basis         1960      0   \n",
              "3                      Almonds, Shelled Basis         1960      0   \n",
              "4                      Almonds, Shelled Basis         1960      0   \n",
              "...                                       ...          ...    ...   \n",
              "146458                                  Wheat         2020      3   \n",
              "146459                                  Wheat         2020      3   \n",
              "146460                                  Wheat         2020      3   \n",
              "146461                                  Wheat         2020      3   \n",
              "146462                                  Wheat         2020      3   \n",
              "\n",
              "Attribute_Description Country_Name  Beginning Stocks  Ending Stocks  Imports  \\\n",
              "0                             Iran               0.0            0.0      0.0   \n",
              "1                            Italy               0.0            0.0      0.0   \n",
              "2                          Morocco               0.0            0.0      0.0   \n",
              "3                         Portugal               0.0            0.0      0.0   \n",
              "4                            Spain               0.0            0.0      0.0   \n",
              "...                            ...               ...            ...      ...   \n",
              "146458                   Venezuela             142.0          242.0   1000.0   \n",
              "146459                     Vietnam             849.0          649.0   3400.0   \n",
              "146460                       Yemen             564.0          602.0   3800.0   \n",
              "146461                      Zambia              18.0           23.0     50.0   \n",
              "146462                    Zimbabwe              41.0           81.0    100.0   \n",
              "\n",
              "Attribute_Description  Exports  Area Harvested  Yield  Production  \\\n",
              "0                          0.0             NaN    NaN         4.0   \n",
              "1                          0.0             NaN    NaN        13.0   \n",
              "2                          0.0             NaN    NaN         2.0   \n",
              "3                          0.0             NaN    NaN         1.0   \n",
              "4                          0.0             NaN    NaN        29.0   \n",
              "...                        ...             ...    ...         ...   \n",
              "146458                     0.0             0.0   0.00         0.0   \n",
              "146459                   250.0             0.0   0.00         0.0   \n",
              "146460                     0.0            95.0   1.45       138.0   \n",
              "146461                     0.0            30.0   6.33       190.0   \n",
              "146462                     0.0            63.0   3.97       250.0   \n",
              "\n",
              "Attribute_Description  Domestic Consumption  \n",
              "0                                       0.0  \n",
              "1                                       0.0  \n",
              "2                                       0.0  \n",
              "3                                       0.0  \n",
              "4                                       0.0  \n",
              "...                                     ...  \n",
              "146458                                900.0  \n",
              "146459                               3350.0  \n",
              "146460                               3900.0  \n",
              "146461                                235.0  \n",
              "146462                                310.0  \n",
              "\n",
              "[146463 rows x 12 columns]"
            ],
            "text/html": "<div>\n<style scoped>\n    .dataframe tbody tr th:only-of-type {\n        vertical-align: middle;\n    }\n\n    .dataframe tbody tr th {\n        vertical-align: top;\n    }\n\n    .dataframe thead th {\n        text-align: right;\n    }\n</style>\n<table border=\"1\" class=\"dataframe\">\n  <thead>\n    <tr style=\"text-align: right;\">\n      <th>Attribute_Description</th>\n      <th>Commodity_Description</th>\n      <th>Market_Year</th>\n      <th>Month</th>\n      <th>Country_Name</th>\n      <th>Beginning Stocks</th>\n      <th>Ending Stocks</th>\n      <th>Imports</th>\n      <th>Exports</th>\n      <th>Area Harvested</th>\n      <th>Yield</th>\n      <th>Production</th>\n      <th>Domestic Consumption</th>\n    </tr>\n  </thead>\n  <tbody>\n    <tr>\n      <th>0</th>\n      <td>Almonds, Shelled Basis</td>\n      <td>1960</td>\n      <td>0</td>\n      <td>Iran</td>\n      <td>0.0</td>\n      <td>0.0</td>\n      <td>0.0</td>\n      <td>0.0</td>\n      <td>NaN</td>\n      <td>NaN</td>\n      <td>4.0</td>\n      <td>0.0</td>\n    </tr>\n    <tr>\n      <th>1</th>\n      <td>Almonds, Shelled Basis</td>\n      <td>1960</td>\n      <td>0</td>\n      <td>Italy</td>\n      <td>0.0</td>\n      <td>0.0</td>\n      <td>0.0</td>\n      <td>0.0</td>\n      <td>NaN</td>\n      <td>NaN</td>\n      <td>13.0</td>\n      <td>0.0</td>\n    </tr>\n    <tr>\n      <th>2</th>\n      <td>Almonds, Shelled Basis</td>\n      <td>1960</td>\n      <td>0</td>\n      <td>Morocco</td>\n      <td>0.0</td>\n      <td>0.0</td>\n      <td>0.0</td>\n      <td>0.0</td>\n      <td>NaN</td>\n      <td>NaN</td>\n      <td>2.0</td>\n      <td>0.0</td>\n    </tr>\n    <tr>\n      <th>3</th>\n      <td>Almonds, Shelled Basis</td>\n      <td>1960</td>\n      <td>0</td>\n      <td>Portugal</td>\n      <td>0.0</td>\n      <td>0.0</td>\n      <td>0.0</td>\n      <td>0.0</td>\n      <td>NaN</td>\n      <td>NaN</td>\n      <td>1.0</td>\n      <td>0.0</td>\n    </tr>\n    <tr>\n      <th>4</th>\n      <td>Almonds, Shelled Basis</td>\n      <td>1960</td>\n      <td>0</td>\n      <td>Spain</td>\n      <td>0.0</td>\n      <td>0.0</td>\n      <td>0.0</td>\n      <td>0.0</td>\n      <td>NaN</td>\n      <td>NaN</td>\n      <td>29.0</td>\n      <td>0.0</td>\n    </tr>\n    <tr>\n      <th>...</th>\n      <td>...</td>\n      <td>...</td>\n      <td>...</td>\n      <td>...</td>\n      <td>...</td>\n      <td>...</td>\n      <td>...</td>\n      <td>...</td>\n      <td>...</td>\n      <td>...</td>\n      <td>...</td>\n      <td>...</td>\n    </tr>\n    <tr>\n      <th>146458</th>\n      <td>Wheat</td>\n      <td>2020</td>\n      <td>3</td>\n      <td>Venezuela</td>\n      <td>142.0</td>\n      <td>242.0</td>\n      <td>1000.0</td>\n      <td>0.0</td>\n      <td>0.0</td>\n      <td>0.00</td>\n      <td>0.0</td>\n      <td>900.0</td>\n    </tr>\n    <tr>\n      <th>146459</th>\n      <td>Wheat</td>\n      <td>2020</td>\n      <td>3</td>\n      <td>Vietnam</td>\n      <td>849.0</td>\n      <td>649.0</td>\n      <td>3400.0</td>\n      <td>250.0</td>\n      <td>0.0</td>\n      <td>0.00</td>\n      <td>0.0</td>\n      <td>3350.0</td>\n    </tr>\n    <tr>\n      <th>146460</th>\n      <td>Wheat</td>\n      <td>2020</td>\n      <td>3</td>\n      <td>Yemen</td>\n      <td>564.0</td>\n      <td>602.0</td>\n      <td>3800.0</td>\n      <td>0.0</td>\n      <td>95.0</td>\n      <td>1.45</td>\n      <td>138.0</td>\n      <td>3900.0</td>\n    </tr>\n    <tr>\n      <th>146461</th>\n      <td>Wheat</td>\n      <td>2020</td>\n      <td>3</td>\n      <td>Zambia</td>\n      <td>18.0</td>\n      <td>23.0</td>\n      <td>50.0</td>\n      <td>0.0</td>\n      <td>30.0</td>\n      <td>6.33</td>\n      <td>190.0</td>\n      <td>235.0</td>\n    </tr>\n    <tr>\n      <th>146462</th>\n      <td>Wheat</td>\n      <td>2020</td>\n      <td>3</td>\n      <td>Zimbabwe</td>\n      <td>41.0</td>\n      <td>81.0</td>\n      <td>100.0</td>\n      <td>0.0</td>\n      <td>63.0</td>\n      <td>3.97</td>\n      <td>250.0</td>\n      <td>310.0</td>\n    </tr>\n  </tbody>\n</table>\n<p>146463 rows × 12 columns</p>\n</div>"
          },
          "metadata": {},
          "execution_count": 11
        }
      ],
      "source": [
        "cols_to_keep = [\"Commodity_Description\", \"Market_Year\", \"Month\", \"Country_Name\",\n",
        "           \"Beginning Stocks\", \"Ending Stocks\", \"Imports\", \"Exports\", \n",
        "           \"Area Harvested\", \"Yield\", \"Production\", \"Domestic Consumption\"]\n",
        "\n",
        "output = usda_pivot_reset[cols_to_keep]\n",
        "\n",
        "output"
      ]
    },
    {
      "source": [
        "### The last step is to swap the `Country_Name` column for the matching political entity IDs."
      ],
      "cell_type": "markdown",
      "metadata": {}
    },
    {
      "cell_type": "code",
      "execution_count": 12,
      "metadata": {},
      "outputs": [
        {
          "output_type": "execute_result",
          "data": {
            "text/plain": [
              "         Commodity_Description  Market_Year  Month   id  Beginning Stocks  \\\n",
              "0       Almonds, Shelled Basis         1960      0  114               0.0   \n",
              "1       Almonds, Shelled Basis         1961      0  114               0.0   \n",
              "2       Almonds, Shelled Basis         1962      0  114               0.0   \n",
              "3       Almonds, Shelled Basis         1964      0  114               0.0   \n",
              "4       Almonds, Shelled Basis         1965      0  114            1300.0   \n",
              "...                        ...          ...    ...  ...               ...   \n",
              "146458      Sugar, Centrifugal         2019     11  237               0.0   \n",
              "146459      Sugar, Centrifugal         2020     11  237               0.0   \n",
              "146460      Sugar, Centrifugal         2021     11  237               0.0   \n",
              "146461      Sugar, Centrifugal         2005      5   62            4699.0   \n",
              "146462      Sugar, Centrifugal         2006      5   62            5339.0   \n",
              "\n",
              "        Ending Stocks  Imports  Exports  Area Harvested  Yield  Production  \\\n",
              "0                 0.0      0.0      0.0             NaN    NaN         4.0   \n",
              "1                 0.0      0.0      0.0             NaN    NaN         8.0   \n",
              "2                 0.0      0.0      0.0             NaN    NaN         7.0   \n",
              "3              1300.0      0.0      0.0             NaN    NaN      1300.0   \n",
              "4              1500.0      0.0   3500.0             NaN    NaN      7000.0   \n",
              "...               ...      ...      ...             ...    ...         ...   \n",
              "146458            0.0      0.0      0.0             NaN    NaN         0.0   \n",
              "146459            0.0      0.0      0.0             NaN    NaN         0.0   \n",
              "146460            0.0      0.0      0.0             NaN    NaN         0.0   \n",
              "146461         5339.0   2549.0   6028.0             NaN    NaN     21648.0   \n",
              "146462         4173.0   2630.0   8345.0             NaN    NaN     21373.0   \n",
              "\n",
              "        Domestic Consumption  \n",
              "0                        0.0  \n",
              "1                        0.0  \n",
              "2                        0.0  \n",
              "3                        0.0  \n",
              "4                     3300.0  \n",
              "...                      ...  \n",
              "146458                   NaN  \n",
              "146459                   NaN  \n",
              "146460                   NaN  \n",
              "146461                   NaN  \n",
              "146462                   NaN  \n",
              "\n",
              "[146463 rows x 12 columns]"
            ],
            "text/html": "<div>\n<style scoped>\n    .dataframe tbody tr th:only-of-type {\n        vertical-align: middle;\n    }\n\n    .dataframe tbody tr th {\n        vertical-align: top;\n    }\n\n    .dataframe thead th {\n        text-align: right;\n    }\n</style>\n<table border=\"1\" class=\"dataframe\">\n  <thead>\n    <tr style=\"text-align: right;\">\n      <th></th>\n      <th>Commodity_Description</th>\n      <th>Market_Year</th>\n      <th>Month</th>\n      <th>id</th>\n      <th>Beginning Stocks</th>\n      <th>Ending Stocks</th>\n      <th>Imports</th>\n      <th>Exports</th>\n      <th>Area Harvested</th>\n      <th>Yield</th>\n      <th>Production</th>\n      <th>Domestic Consumption</th>\n    </tr>\n  </thead>\n  <tbody>\n    <tr>\n      <th>0</th>\n      <td>Almonds, Shelled Basis</td>\n      <td>1960</td>\n      <td>0</td>\n      <td>114</td>\n      <td>0.0</td>\n      <td>0.0</td>\n      <td>0.0</td>\n      <td>0.0</td>\n      <td>NaN</td>\n      <td>NaN</td>\n      <td>4.0</td>\n      <td>0.0</td>\n    </tr>\n    <tr>\n      <th>1</th>\n      <td>Almonds, Shelled Basis</td>\n      <td>1961</td>\n      <td>0</td>\n      <td>114</td>\n      <td>0.0</td>\n      <td>0.0</td>\n      <td>0.0</td>\n      <td>0.0</td>\n      <td>NaN</td>\n      <td>NaN</td>\n      <td>8.0</td>\n      <td>0.0</td>\n    </tr>\n    <tr>\n      <th>2</th>\n      <td>Almonds, Shelled Basis</td>\n      <td>1962</td>\n      <td>0</td>\n      <td>114</td>\n      <td>0.0</td>\n      <td>0.0</td>\n      <td>0.0</td>\n      <td>0.0</td>\n      <td>NaN</td>\n      <td>NaN</td>\n      <td>7.0</td>\n      <td>0.0</td>\n    </tr>\n    <tr>\n      <th>3</th>\n      <td>Almonds, Shelled Basis</td>\n      <td>1964</td>\n      <td>0</td>\n      <td>114</td>\n      <td>0.0</td>\n      <td>1300.0</td>\n      <td>0.0</td>\n      <td>0.0</td>\n      <td>NaN</td>\n      <td>NaN</td>\n      <td>1300.0</td>\n      <td>0.0</td>\n    </tr>\n    <tr>\n      <th>4</th>\n      <td>Almonds, Shelled Basis</td>\n      <td>1965</td>\n      <td>0</td>\n      <td>114</td>\n      <td>1300.0</td>\n      <td>1500.0</td>\n      <td>0.0</td>\n      <td>3500.0</td>\n      <td>NaN</td>\n      <td>NaN</td>\n      <td>7000.0</td>\n      <td>3300.0</td>\n    </tr>\n    <tr>\n      <th>...</th>\n      <td>...</td>\n      <td>...</td>\n      <td>...</td>\n      <td>...</td>\n      <td>...</td>\n      <td>...</td>\n      <td>...</td>\n      <td>...</td>\n      <td>...</td>\n      <td>...</td>\n      <td>...</td>\n      <td>...</td>\n    </tr>\n    <tr>\n      <th>146458</th>\n      <td>Sugar, Centrifugal</td>\n      <td>2019</td>\n      <td>11</td>\n      <td>237</td>\n      <td>0.0</td>\n      <td>0.0</td>\n      <td>0.0</td>\n      <td>0.0</td>\n      <td>NaN</td>\n      <td>NaN</td>\n      <td>0.0</td>\n      <td>NaN</td>\n    </tr>\n    <tr>\n      <th>146459</th>\n      <td>Sugar, Centrifugal</td>\n      <td>2020</td>\n      <td>11</td>\n      <td>237</td>\n      <td>0.0</td>\n      <td>0.0</td>\n      <td>0.0</td>\n      <td>0.0</td>\n      <td>NaN</td>\n      <td>NaN</td>\n      <td>0.0</td>\n      <td>NaN</td>\n    </tr>\n    <tr>\n      <th>146460</th>\n      <td>Sugar, Centrifugal</td>\n      <td>2021</td>\n      <td>11</td>\n      <td>237</td>\n      <td>0.0</td>\n      <td>0.0</td>\n      <td>0.0</td>\n      <td>0.0</td>\n      <td>NaN</td>\n      <td>NaN</td>\n      <td>0.0</td>\n      <td>NaN</td>\n    </tr>\n    <tr>\n      <th>146461</th>\n      <td>Sugar, Centrifugal</td>\n      <td>2005</td>\n      <td>5</td>\n      <td>62</td>\n      <td>4699.0</td>\n      <td>5339.0</td>\n      <td>2549.0</td>\n      <td>6028.0</td>\n      <td>NaN</td>\n      <td>NaN</td>\n      <td>21648.0</td>\n      <td>NaN</td>\n    </tr>\n    <tr>\n      <th>146462</th>\n      <td>Sugar, Centrifugal</td>\n      <td>2006</td>\n      <td>5</td>\n      <td>62</td>\n      <td>5339.0</td>\n      <td>4173.0</td>\n      <td>2630.0</td>\n      <td>8345.0</td>\n      <td>NaN</td>\n      <td>NaN</td>\n      <td>21373.0</td>\n      <td>NaN</td>\n    </tr>\n  </tbody>\n</table>\n<p>146463 rows × 12 columns</p>\n</div>"
          },
          "metadata": {},
          "execution_count": 12
        }
      ],
      "source": [
        "pol_ent = pd.read_csv(out_path + \"political_entity.csv\")\n",
        "pol_ent = pol_ent[pol_ent[\"is_country\"] == 1]\n",
        "pol_ent = pol_ent.rename(columns={\"name\" : \"Country_Name\"})\n",
        "\n",
        "output = usda_pivot_reset.merge(pol_ent[[\"Country_Name\", \"id\"]], on = \"Country_Name\")\n",
        "\n",
        "cols_to_keep = [\"Commodity_Description\", \"Market_Year\", \"Month\", \"id\",\n",
        "                \"Beginning Stocks\", \"Ending Stocks\", \"Imports\", \"Exports\", \n",
        "                \"Area Harvested\", \"Yield\", \"Production\", \"Domestic Consumption\"]\n",
        "\n",
        "output = output[cols_to_keep]\n",
        "output"
      ]
    },
    {
      "cell_type": "code",
      "execution_count": 14,
      "metadata": {},
      "outputs": [
        {
          "output_type": "execute_result",
          "data": {
            "text/plain": [
              "         Market_Year          Month             id  Beginning Stocks  \\\n",
              "count  146463.000000  146463.000000  146463.000000     132707.000000   \n",
              "mean     1992.579846       5.250425     131.844616       1270.585983   \n",
              "std        16.565273       3.413278      79.509353      13430.282856   \n",
              "min      1960.000000       0.000000       0.000000      -1135.000000   \n",
              "25%      1979.000000       3.000000      57.000000          0.000000   \n",
              "50%      1993.000000       6.000000     123.000000          0.000000   \n",
              "75%      2007.000000       7.000000     206.000000         42.000000   \n",
              "max      2021.000000      12.000000     267.000000     584342.000000   \n",
              "\n",
              "       Ending Stocks       Imports       Exports  Area Harvested  \\\n",
              "count  132707.000000  1.464620e+05  1.464620e+05    57430.000000   \n",
              "mean     1288.692285  2.696456e+03  3.357661e+03      944.137803   \n",
              "std     13572.563606  2.734742e+04  3.860436e+04     3631.432589   \n",
              "min     -1135.000000  0.000000e+00  0.000000e+00        0.000000   \n",
              "25%         0.000000  0.000000e+00  0.000000e+00        2.000000   \n",
              "50%         0.000000  8.000000e+00  0.000000e+00       54.000000   \n",
              "75%        44.000000  9.900000e+01  2.400000e+01      335.000000   \n",
              "max    584342.000000  1.382800e+06  1.833000e+06    70205.000000   \n",
              "\n",
              "              Yield    Production  Domestic Consumption  \n",
              "count  60744.000000  1.464620e+05          1.275390e+05  \n",
              "mean      37.546946  2.793565e+04          2.605826e+04  \n",
              "std      157.843891  5.000721e+05          5.079439e+05  \n",
              "min        0.000000  0.000000e+00         -2.100000e+02  \n",
              "25%        0.230000  2.000000e+00          2.200000e+01  \n",
              "50%        1.140000  5.500000e+01          1.060000e+02  \n",
              "75%        2.500000  5.000000e+02          6.360000e+02  \n",
              "max     2443.000000  4.242500e+07          4.148710e+07  "
            ],
            "text/html": "<div>\n<style scoped>\n    .dataframe tbody tr th:only-of-type {\n        vertical-align: middle;\n    }\n\n    .dataframe tbody tr th {\n        vertical-align: top;\n    }\n\n    .dataframe thead th {\n        text-align: right;\n    }\n</style>\n<table border=\"1\" class=\"dataframe\">\n  <thead>\n    <tr style=\"text-align: right;\">\n      <th></th>\n      <th>Market_Year</th>\n      <th>Month</th>\n      <th>id</th>\n      <th>Beginning Stocks</th>\n      <th>Ending Stocks</th>\n      <th>Imports</th>\n      <th>Exports</th>\n      <th>Area Harvested</th>\n      <th>Yield</th>\n      <th>Production</th>\n      <th>Domestic Consumption</th>\n    </tr>\n  </thead>\n  <tbody>\n    <tr>\n      <th>count</th>\n      <td>146463.000000</td>\n      <td>146463.000000</td>\n      <td>146463.000000</td>\n      <td>132707.000000</td>\n      <td>132707.000000</td>\n      <td>1.464620e+05</td>\n      <td>1.464620e+05</td>\n      <td>57430.000000</td>\n      <td>60744.000000</td>\n      <td>1.464620e+05</td>\n      <td>1.275390e+05</td>\n    </tr>\n    <tr>\n      <th>mean</th>\n      <td>1992.579846</td>\n      <td>5.250425</td>\n      <td>131.844616</td>\n      <td>1270.585983</td>\n      <td>1288.692285</td>\n      <td>2.696456e+03</td>\n      <td>3.357661e+03</td>\n      <td>944.137803</td>\n      <td>37.546946</td>\n      <td>2.793565e+04</td>\n      <td>2.605826e+04</td>\n    </tr>\n    <tr>\n      <th>std</th>\n      <td>16.565273</td>\n      <td>3.413278</td>\n      <td>79.509353</td>\n      <td>13430.282856</td>\n      <td>13572.563606</td>\n      <td>2.734742e+04</td>\n      <td>3.860436e+04</td>\n      <td>3631.432589</td>\n      <td>157.843891</td>\n      <td>5.000721e+05</td>\n      <td>5.079439e+05</td>\n    </tr>\n    <tr>\n      <th>min</th>\n      <td>1960.000000</td>\n      <td>0.000000</td>\n      <td>0.000000</td>\n      <td>-1135.000000</td>\n      <td>-1135.000000</td>\n      <td>0.000000e+00</td>\n      <td>0.000000e+00</td>\n      <td>0.000000</td>\n      <td>0.000000</td>\n      <td>0.000000e+00</td>\n      <td>-2.100000e+02</td>\n    </tr>\n    <tr>\n      <th>25%</th>\n      <td>1979.000000</td>\n      <td>3.000000</td>\n      <td>57.000000</td>\n      <td>0.000000</td>\n      <td>0.000000</td>\n      <td>0.000000e+00</td>\n      <td>0.000000e+00</td>\n      <td>2.000000</td>\n      <td>0.230000</td>\n      <td>2.000000e+00</td>\n      <td>2.200000e+01</td>\n    </tr>\n    <tr>\n      <th>50%</th>\n      <td>1993.000000</td>\n      <td>6.000000</td>\n      <td>123.000000</td>\n      <td>0.000000</td>\n      <td>0.000000</td>\n      <td>8.000000e+00</td>\n      <td>0.000000e+00</td>\n      <td>54.000000</td>\n      <td>1.140000</td>\n      <td>5.500000e+01</td>\n      <td>1.060000e+02</td>\n    </tr>\n    <tr>\n      <th>75%</th>\n      <td>2007.000000</td>\n      <td>7.000000</td>\n      <td>206.000000</td>\n      <td>42.000000</td>\n      <td>44.000000</td>\n      <td>9.900000e+01</td>\n      <td>2.400000e+01</td>\n      <td>335.000000</td>\n      <td>2.500000</td>\n      <td>5.000000e+02</td>\n      <td>6.360000e+02</td>\n    </tr>\n    <tr>\n      <th>max</th>\n      <td>2021.000000</td>\n      <td>12.000000</td>\n      <td>267.000000</td>\n      <td>584342.000000</td>\n      <td>584342.000000</td>\n      <td>1.382800e+06</td>\n      <td>1.833000e+06</td>\n      <td>70205.000000</td>\n      <td>2443.000000</td>\n      <td>4.242500e+07</td>\n      <td>4.148710e+07</td>\n    </tr>\n  </tbody>\n</table>\n</div>"
          },
          "metadata": {},
          "execution_count": 14
        }
      ],
      "source": [
        "output.describe()"
      ]
    },
    {
      "cell_type": "code",
      "execution_count": 19,
      "metadata": {},
      "outputs": [
        {
          "output_type": "execute_result",
          "data": {
            "text/plain": [
              "     Commodity_Description  Market_Year  Month   id  Beginning Stocks  \\\n",
              "5386                Cotton         1983      6  221              82.0   \n",
              "\n",
              "      Ending Stocks  Imports  Exports  Area Harvested  Yield  Production  \\\n",
              "5386          122.0    368.0     13.0            40.0  996.0       183.0   \n",
              "\n",
              "      Domestic Consumption  \n",
              "5386                 498.0  "
            ],
            "text/html": "<div>\n<style scoped>\n    .dataframe tbody tr th:only-of-type {\n        vertical-align: middle;\n    }\n\n    .dataframe tbody tr th {\n        vertical-align: top;\n    }\n\n    .dataframe thead th {\n        text-align: right;\n    }\n</style>\n<table border=\"1\" class=\"dataframe\">\n  <thead>\n    <tr style=\"text-align: right;\">\n      <th></th>\n      <th>Commodity_Description</th>\n      <th>Market_Year</th>\n      <th>Month</th>\n      <th>id</th>\n      <th>Beginning Stocks</th>\n      <th>Ending Stocks</th>\n      <th>Imports</th>\n      <th>Exports</th>\n      <th>Area Harvested</th>\n      <th>Yield</th>\n      <th>Production</th>\n      <th>Domestic Consumption</th>\n    </tr>\n  </thead>\n  <tbody>\n    <tr>\n      <th>5386</th>\n      <td>Cotton</td>\n      <td>1983</td>\n      <td>6</td>\n      <td>221</td>\n      <td>82.0</td>\n      <td>122.0</td>\n      <td>368.0</td>\n      <td>13.0</td>\n      <td>40.0</td>\n      <td>996.0</td>\n      <td>183.0</td>\n      <td>498.0</td>\n    </tr>\n  </tbody>\n</table>\n</div>"
          },
          "metadata": {},
          "execution_count": 19
        }
      ],
      "source": [
        "output.iloc[[5386]]"
      ]
    },
    {
      "source": [
        "## Write the data set to CSV"
      ],
      "cell_type": "markdown",
      "metadata": {}
    },
    {
      "cell_type": "code",
      "execution_count": null,
      "metadata": {},
      "outputs": [],
      "source": [
        "output.to_csv(out_path + \"commodity.csv\", index = False)"
      ]
    }
  ]
}