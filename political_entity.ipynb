{
 "metadata": {
  "language_info": {
   "codemirror_mode": {
    "name": "ipython",
    "version": 3
   },
   "file_extension": ".py",
   "mimetype": "text/x-python",
   "name": "python",
   "nbconvert_exporter": "python",
   "pygments_lexer": "ipython3",
   "version": "3.8.5-final"
  },
  "orig_nbformat": 2,
  "kernelspec": {
   "name": "python3",
   "display_name": "Python 3.8.5 64-bit ('anaconda3': conda)",
   "metadata": {
    "interpreter": {
     "hash": "cce9197a0f8ea8b607b1b67db2f3e2bf52de120c7dd7508cd10b99b1af61fe6f"
    }
   }
  }
 },
 "nbformat": 4,
 "nbformat_minor": 2,
 "cells": [
  {
   "cell_type": "code",
   "execution_count": 1,
   "metadata": {},
   "outputs": [],
   "source": [
    "import requests, zipfile, io\n",
    "import pandas as pd\n",
    "import numpy as np\n",
    "data_path = \"~/CIS550/commodify/data/\""
   ]
  },
  {
   "source": [
    "### Create the Political Entity table \n",
    "\n",
    "We will use the unique countries in the USDA agricultural data and a list of US state and territory names borrowed from gist.github.com"
   ],
   "cell_type": "markdown",
   "metadata": {}
  },
  {
   "cell_type": "code",
   "execution_count": 2,
   "metadata": {},
   "outputs": [
    {
     "output_type": "execute_result",
     "data": {
      "text/plain": [
       "array(['Afghanistan', 'Algeria', 'Argentina', 'Australia', 'Brazil',\n",
       "       'Canada', 'Chile', 'China', 'Colombia', 'European Union', 'Greece',\n",
       "       'Hong Kong', 'India', 'Indonesia', 'Iran', 'Israel', 'Italy',\n",
       "       'Japan', 'Jordan', 'Kazakhstan', 'Korea, South', 'Malaysia',\n",
       "       'Mexico', 'Morocco', 'New Zealand', 'Norway', 'Pakistan',\n",
       "       'Portugal', 'Russia', 'Saudi Arabia', 'South Africa', 'Spain',\n",
       "       'Switzerland', 'Taiwan', 'Thailand', 'Tunisia', 'Turkey',\n",
       "       'United Arab Emirates', 'United States', 'Vietnam', 'Armenia',\n",
       "       'Austria', 'Azerbaijan', 'Belarus', 'Belgium-Luxembourg', 'Belize',\n",
       "       'Bulgaria', 'Costa Rica', 'Czech Republic', 'Denmark',\n",
       "       'Dominican Republic', 'Ecuador', 'Egypt', 'El Salvador', 'Estonia',\n",
       "       'EU-15', 'Finland', 'Former Czechoslovakia', 'Former Yugoslavia',\n",
       "       'France', 'Georgia', 'German Democratic Republic', 'Germany',\n",
       "       'Germany, Federal Republic of', 'Guatemala', 'Haiti', 'Honduras',\n",
       "       'Hungary', 'Ireland', 'Kyrgyzstan', 'Latvia', 'Lithuania',\n",
       "       'Moldova', 'Netherlands', 'Nicaragua', 'Panama', 'Peru',\n",
       "       'Philippines', 'Poland', 'Romania', 'Slovakia', 'Sweden',\n",
       "       'Tajikistan', 'Turkmenistan', 'Ukraine',\n",
       "       'Union of Soviet Socialist Repu', 'United Kingdom', 'Uruguay',\n",
       "       'Uzbekistan', 'Venezuela', 'Yugoslavia (>05/92)', 'Singapore',\n",
       "       'Albania', 'Angola', 'Bangladesh', 'Bosnia and Herzegovina',\n",
       "       'Burma', 'Croatia', 'Iraq', 'Korea, North', 'Kuwait', 'Lebanon',\n",
       "       'Libya', 'Nepal', 'Nigeria', 'Oman', 'Qatar', 'Serbia',\n",
       "       'Sri Lanka', 'Syria', 'Zambia', 'Zimbabwe', 'Bhutan', 'Bolivia',\n",
       "       'Cuba', 'Cyprus', 'Eritrea', 'Ethiopia', 'Iceland', 'Kenya',\n",
       "       'Malta', 'North Macedonia', 'Serbia and Montenegro', 'Slovenia',\n",
       "       'Yemen', 'Yemen (Sanaa)', 'Benin', 'Burundi', 'Cameroon',\n",
       "       'Central African Republic', 'Congo (Brazzaville)',\n",
       "       'Congo (Kinshasa)', \"Cote d'Ivoire\", 'Equatorial Guinea', 'Gabon',\n",
       "       'Ghana', 'Guinea', 'Guyana', 'Jamaica', 'Laos', 'Liberia',\n",
       "       'Madagascar', 'Malawi', 'New Caledonia', 'Papua New Guinea',\n",
       "       'Paraguay', 'Rwanda', 'Sierra Leone', 'Tanzania', 'Togo',\n",
       "       'Trinidad and Tobago', 'Uganda', 'Botswana', 'Burkina',\n",
       "       'Cabo Verde', 'Cambodia', 'Chad', 'Eswatini', 'Gambia, The',\n",
       "       'Guinea-Bissau', 'Lesotho', 'Mali', 'Mauritania', 'Mozambique',\n",
       "       'Namibia', 'Senegal', 'Somalia', 'South Sudan', 'Bahrain',\n",
       "       'Mauritius', 'Niger', 'Sudan', 'Yemen (Aden)', 'Luxembourg',\n",
       "       'Gaza Strip', 'Fiji', 'Samoa', 'Bermuda', 'Faroe Islands',\n",
       "       'Barbados', 'Netherlands Antilles', 'Suriname',\n",
       "       'Antigua and Barbuda', 'Bahamas, The', 'Macau', 'Montenegro',\n",
       "       'Djibouti', 'Other', 'Comoros', 'Sao Tome and Principe',\n",
       "       'Solomon Islands', 'Vanuatu/New Hebrides',\n",
       "       'Belgium (without Luxembourg)', 'Brunei', 'Reunion', 'EU-25',\n",
       "       'Fr.Ter.Africa-Issas', 'French Polynesia', 'French West Indies',\n",
       "       'Gibraltar', 'Gilbert and Ellice Islands', 'Greenland', 'Grenada',\n",
       "       'Guadeloupe', 'Maldives', 'Martinique', 'Mongolia', 'Puerto Rico',\n",
       "       'Seychelles', 'St. Kitts and Nevis', 'St. Lucia', 'Tonga',\n",
       "       'Virgin Islands of the U.S.'], dtype=object)"
      ]
     },
     "metadata": {},
     "execution_count": 2
    }
   ],
   "source": [
    "zip_url = \"https://apps.fas.usda.gov/psdonline/downloads/psd_alldata_csv.zip\"\n",
    "\n",
    "r = requests.get(zip_url)\n",
    "if r.ok:\n",
    "  z = zipfile.ZipFile(io.BytesIO(r.content))\n",
    "  usda_data = pd.read_csv(z.open('psd_alldata.csv'))\n",
    "\n",
    "usda_data[\"Country_Name\"].unique()"
   ]
  },
  {
   "cell_type": "code",
   "execution_count": 8,
   "metadata": {},
   "outputs": [
    {
     "output_type": "execute_result",
     "data": {
      "text/plain": [
       "                           name  is_country\n",
       "0                   Afghanistan           1\n",
       "1                       Algeria           1\n",
       "2                     Argentina           1\n",
       "3                     Australia           1\n",
       "4                        Brazil           1\n",
       "..                          ...         ...\n",
       "208                  Seychelles           1\n",
       "209         St. Kitts and Nevis           1\n",
       "210                   St. Lucia           1\n",
       "211                       Tonga           1\n",
       "212  Virgin Islands of the U.S.           1\n",
       "\n",
       "[213 rows x 2 columns]"
      ],
      "text/html": "<div>\n<style scoped>\n    .dataframe tbody tr th:only-of-type {\n        vertical-align: middle;\n    }\n\n    .dataframe tbody tr th {\n        vertical-align: top;\n    }\n\n    .dataframe thead th {\n        text-align: right;\n    }\n</style>\n<table border=\"1\" class=\"dataframe\">\n  <thead>\n    <tr style=\"text-align: right;\">\n      <th></th>\n      <th>name</th>\n      <th>is_country</th>\n    </tr>\n  </thead>\n  <tbody>\n    <tr>\n      <th>0</th>\n      <td>Afghanistan</td>\n      <td>1</td>\n    </tr>\n    <tr>\n      <th>1</th>\n      <td>Algeria</td>\n      <td>1</td>\n    </tr>\n    <tr>\n      <th>2</th>\n      <td>Argentina</td>\n      <td>1</td>\n    </tr>\n    <tr>\n      <th>3</th>\n      <td>Australia</td>\n      <td>1</td>\n    </tr>\n    <tr>\n      <th>4</th>\n      <td>Brazil</td>\n      <td>1</td>\n    </tr>\n    <tr>\n      <th>...</th>\n      <td>...</td>\n      <td>...</td>\n    </tr>\n    <tr>\n      <th>208</th>\n      <td>Seychelles</td>\n      <td>1</td>\n    </tr>\n    <tr>\n      <th>209</th>\n      <td>St. Kitts and Nevis</td>\n      <td>1</td>\n    </tr>\n    <tr>\n      <th>210</th>\n      <td>St. Lucia</td>\n      <td>1</td>\n    </tr>\n    <tr>\n      <th>211</th>\n      <td>Tonga</td>\n      <td>1</td>\n    </tr>\n    <tr>\n      <th>212</th>\n      <td>Virgin Islands of the U.S.</td>\n      <td>1</td>\n    </tr>\n  </tbody>\n</table>\n<p>213 rows × 2 columns</p>\n</div>"
     },
     "metadata": {},
     "execution_count": 8
    }
   ],
   "source": [
    "pol_ent = pd.DataFrame(usda_data[\"Country_Name\"].unique(), columns = [\"name\"])\n",
    "pol_ent[\"is_country\"] = 1\n",
    "pol_ent"
   ]
  },
  {
   "source": [
    "### Add in the US political entity names \n",
    "\n",
    "List of names taken from https://gist.github.com/norcal82/e4c7e8113f377db184bb"
   ],
   "cell_type": "markdown",
   "metadata": {}
  },
  {
   "cell_type": "code",
   "execution_count": 9,
   "metadata": {},
   "outputs": [
    {
     "output_type": "execute_result",
     "data": {
      "text/plain": [
       "                    name  is_country\n",
       "0                 Alaska           0\n",
       "1                Alabama           0\n",
       "2               Arkansas           0\n",
       "3         American Samoa           0\n",
       "4                Arizona           0\n",
       "5             California           0\n",
       "6               Colorado           0\n",
       "7            Connecticut           0\n",
       "8   District of Columbia           0\n",
       "9               Delaware           0\n",
       "10               Florida           0\n",
       "11               Georgia           0\n",
       "12                  Guam           0\n",
       "13                Hawaii           0\n",
       "14                  Iowa           0\n",
       "15                 Idaho           0\n",
       "16              Illinois           0\n",
       "17               Indiana           0\n",
       "18                Kansas           0\n",
       "19              Kentucky           0\n",
       "20             Louisiana           0\n",
       "21         Massachusetts           0\n",
       "22              Maryland           0\n",
       "23                 Maine           0\n",
       "24              Michigan           0\n",
       "25             Minnesota           0\n",
       "26              Missouri           0\n",
       "27           Mississippi           0\n",
       "28               Montana           0\n",
       "29        North Carolina           0\n",
       "30          North Dakota           0\n",
       "31              Nebraska           0\n",
       "32         New Hampshire           0\n",
       "33            New Jersey           0\n",
       "34            New Mexico           0\n",
       "35                Nevada           0\n",
       "36              New York           0\n",
       "37                  Ohio           0\n",
       "38              Oklahoma           0\n",
       "39                Oregon           0\n",
       "40          Pennsylvania           0\n",
       "41           Puerto Rico           0\n",
       "42          Rhode Island           0\n",
       "43        South Carolina           0\n",
       "44          South Dakota           0\n",
       "45             Tennessee           0\n",
       "46                 Texas           0\n",
       "47                  Utah           0\n",
       "48              Virginia           0\n",
       "49        Virgin Islands           0\n",
       "50               Vermont           0\n",
       "51            Washington           0\n",
       "52             Wisconsin           0\n",
       "53         West Virginia           0\n",
       "54               Wyoming           0"
      ],
      "text/html": "<div>\n<style scoped>\n    .dataframe tbody tr th:only-of-type {\n        vertical-align: middle;\n    }\n\n    .dataframe tbody tr th {\n        vertical-align: top;\n    }\n\n    .dataframe thead th {\n        text-align: right;\n    }\n</style>\n<table border=\"1\" class=\"dataframe\">\n  <thead>\n    <tr style=\"text-align: right;\">\n      <th></th>\n      <th>name</th>\n      <th>is_country</th>\n    </tr>\n  </thead>\n  <tbody>\n    <tr>\n      <th>0</th>\n      <td>Alaska</td>\n      <td>0</td>\n    </tr>\n    <tr>\n      <th>1</th>\n      <td>Alabama</td>\n      <td>0</td>\n    </tr>\n    <tr>\n      <th>2</th>\n      <td>Arkansas</td>\n      <td>0</td>\n    </tr>\n    <tr>\n      <th>3</th>\n      <td>American Samoa</td>\n      <td>0</td>\n    </tr>\n    <tr>\n      <th>4</th>\n      <td>Arizona</td>\n      <td>0</td>\n    </tr>\n    <tr>\n      <th>5</th>\n      <td>California</td>\n      <td>0</td>\n    </tr>\n    <tr>\n      <th>6</th>\n      <td>Colorado</td>\n      <td>0</td>\n    </tr>\n    <tr>\n      <th>7</th>\n      <td>Connecticut</td>\n      <td>0</td>\n    </tr>\n    <tr>\n      <th>8</th>\n      <td>District of Columbia</td>\n      <td>0</td>\n    </tr>\n    <tr>\n      <th>9</th>\n      <td>Delaware</td>\n      <td>0</td>\n    </tr>\n    <tr>\n      <th>10</th>\n      <td>Florida</td>\n      <td>0</td>\n    </tr>\n    <tr>\n      <th>11</th>\n      <td>Georgia</td>\n      <td>0</td>\n    </tr>\n    <tr>\n      <th>12</th>\n      <td>Guam</td>\n      <td>0</td>\n    </tr>\n    <tr>\n      <th>13</th>\n      <td>Hawaii</td>\n      <td>0</td>\n    </tr>\n    <tr>\n      <th>14</th>\n      <td>Iowa</td>\n      <td>0</td>\n    </tr>\n    <tr>\n      <th>15</th>\n      <td>Idaho</td>\n      <td>0</td>\n    </tr>\n    <tr>\n      <th>16</th>\n      <td>Illinois</td>\n      <td>0</td>\n    </tr>\n    <tr>\n      <th>17</th>\n      <td>Indiana</td>\n      <td>0</td>\n    </tr>\n    <tr>\n      <th>18</th>\n      <td>Kansas</td>\n      <td>0</td>\n    </tr>\n    <tr>\n      <th>19</th>\n      <td>Kentucky</td>\n      <td>0</td>\n    </tr>\n    <tr>\n      <th>20</th>\n      <td>Louisiana</td>\n      <td>0</td>\n    </tr>\n    <tr>\n      <th>21</th>\n      <td>Massachusetts</td>\n      <td>0</td>\n    </tr>\n    <tr>\n      <th>22</th>\n      <td>Maryland</td>\n      <td>0</td>\n    </tr>\n    <tr>\n      <th>23</th>\n      <td>Maine</td>\n      <td>0</td>\n    </tr>\n    <tr>\n      <th>24</th>\n      <td>Michigan</td>\n      <td>0</td>\n    </tr>\n    <tr>\n      <th>25</th>\n      <td>Minnesota</td>\n      <td>0</td>\n    </tr>\n    <tr>\n      <th>26</th>\n      <td>Missouri</td>\n      <td>0</td>\n    </tr>\n    <tr>\n      <th>27</th>\n      <td>Mississippi</td>\n      <td>0</td>\n    </tr>\n    <tr>\n      <th>28</th>\n      <td>Montana</td>\n      <td>0</td>\n    </tr>\n    <tr>\n      <th>29</th>\n      <td>North Carolina</td>\n      <td>0</td>\n    </tr>\n    <tr>\n      <th>30</th>\n      <td>North Dakota</td>\n      <td>0</td>\n    </tr>\n    <tr>\n      <th>31</th>\n      <td>Nebraska</td>\n      <td>0</td>\n    </tr>\n    <tr>\n      <th>32</th>\n      <td>New Hampshire</td>\n      <td>0</td>\n    </tr>\n    <tr>\n      <th>33</th>\n      <td>New Jersey</td>\n      <td>0</td>\n    </tr>\n    <tr>\n      <th>34</th>\n      <td>New Mexico</td>\n      <td>0</td>\n    </tr>\n    <tr>\n      <th>35</th>\n      <td>Nevada</td>\n      <td>0</td>\n    </tr>\n    <tr>\n      <th>36</th>\n      <td>New York</td>\n      <td>0</td>\n    </tr>\n    <tr>\n      <th>37</th>\n      <td>Ohio</td>\n      <td>0</td>\n    </tr>\n    <tr>\n      <th>38</th>\n      <td>Oklahoma</td>\n      <td>0</td>\n    </tr>\n    <tr>\n      <th>39</th>\n      <td>Oregon</td>\n      <td>0</td>\n    </tr>\n    <tr>\n      <th>40</th>\n      <td>Pennsylvania</td>\n      <td>0</td>\n    </tr>\n    <tr>\n      <th>41</th>\n      <td>Puerto Rico</td>\n      <td>0</td>\n    </tr>\n    <tr>\n      <th>42</th>\n      <td>Rhode Island</td>\n      <td>0</td>\n    </tr>\n    <tr>\n      <th>43</th>\n      <td>South Carolina</td>\n      <td>0</td>\n    </tr>\n    <tr>\n      <th>44</th>\n      <td>South Dakota</td>\n      <td>0</td>\n    </tr>\n    <tr>\n      <th>45</th>\n      <td>Tennessee</td>\n      <td>0</td>\n    </tr>\n    <tr>\n      <th>46</th>\n      <td>Texas</td>\n      <td>0</td>\n    </tr>\n    <tr>\n      <th>47</th>\n      <td>Utah</td>\n      <td>0</td>\n    </tr>\n    <tr>\n      <th>48</th>\n      <td>Virginia</td>\n      <td>0</td>\n    </tr>\n    <tr>\n      <th>49</th>\n      <td>Virgin Islands</td>\n      <td>0</td>\n    </tr>\n    <tr>\n      <th>50</th>\n      <td>Vermont</td>\n      <td>0</td>\n    </tr>\n    <tr>\n      <th>51</th>\n      <td>Washington</td>\n      <td>0</td>\n    </tr>\n    <tr>\n      <th>52</th>\n      <td>Wisconsin</td>\n      <td>0</td>\n    </tr>\n    <tr>\n      <th>53</th>\n      <td>West Virginia</td>\n      <td>0</td>\n    </tr>\n    <tr>\n      <th>54</th>\n      <td>Wyoming</td>\n      <td>0</td>\n    </tr>\n  </tbody>\n</table>\n</div>"
     },
     "metadata": {},
     "execution_count": 9
    }
   ],
   "source": [
    "us_names = np.array([\"Alaska\", \"Alabama\", \"Arkansas\", \"American Samoa\", \"Arizona\", \"California\", \"Colorado\", \"Connecticut\", \"District of Columbia\", \"Delaware\", \"Florida\", \"Georgia\", \"Guam\", \"Hawaii\", \"Iowa\", \"Idaho\", \"Illinois\", \"Indiana\", \"Kansas\", \"Kentucky\", \"Louisiana\", \"Massachusetts\", \"Maryland\", \"Maine\", \"Michigan\", \"Minnesota\", \"Missouri\", \"Mississippi\", \"Montana\", \"North Carolina\", \"North Dakota\", \"Nebraska\", \"New Hampshire\", \"New Jersey\", \"New Mexico\", \"Nevada\", \"New York\", \"Ohio\", \"Oklahoma\", \"Oregon\", \"Pennsylvania\", \"Puerto Rico\", \"Rhode Island\", \"South Carolina\", \"South Dakota\", \"Tennessee\", \"Texas\", \"Utah\", \"Virginia\", \"Virgin Islands\", \"Vermont\", \"Washington\", \"Wisconsin\", \"West Virginia\", \"Wyoming\"])\n",
    "\n",
    "us = pd.DataFrame(us_names, columns = [\"name\"])\n",
    "\n",
    "us[\"is_country\"] = 0\n",
    "\n",
    "us"
   ]
  },
  {
   "cell_type": "code",
   "execution_count": 10,
   "metadata": {},
   "outputs": [
    {
     "output_type": "execute_result",
     "data": {
      "text/plain": [
       "             name  is_country\n",
       "0     Afghanistan           1\n",
       "1         Algeria           1\n",
       "2       Argentina           1\n",
       "3       Australia           1\n",
       "4          Brazil           1\n",
       "..            ...         ...\n",
       "50        Vermont           0\n",
       "51     Washington           0\n",
       "52      Wisconsin           0\n",
       "53  West Virginia           0\n",
       "54        Wyoming           0\n",
       "\n",
       "[268 rows x 2 columns]"
      ],
      "text/html": "<div>\n<style scoped>\n    .dataframe tbody tr th:only-of-type {\n        vertical-align: middle;\n    }\n\n    .dataframe tbody tr th {\n        vertical-align: top;\n    }\n\n    .dataframe thead th {\n        text-align: right;\n    }\n</style>\n<table border=\"1\" class=\"dataframe\">\n  <thead>\n    <tr style=\"text-align: right;\">\n      <th></th>\n      <th>name</th>\n      <th>is_country</th>\n    </tr>\n  </thead>\n  <tbody>\n    <tr>\n      <th>0</th>\n      <td>Afghanistan</td>\n      <td>1</td>\n    </tr>\n    <tr>\n      <th>1</th>\n      <td>Algeria</td>\n      <td>1</td>\n    </tr>\n    <tr>\n      <th>2</th>\n      <td>Argentina</td>\n      <td>1</td>\n    </tr>\n    <tr>\n      <th>3</th>\n      <td>Australia</td>\n      <td>1</td>\n    </tr>\n    <tr>\n      <th>4</th>\n      <td>Brazil</td>\n      <td>1</td>\n    </tr>\n    <tr>\n      <th>...</th>\n      <td>...</td>\n      <td>...</td>\n    </tr>\n    <tr>\n      <th>50</th>\n      <td>Vermont</td>\n      <td>0</td>\n    </tr>\n    <tr>\n      <th>51</th>\n      <td>Washington</td>\n      <td>0</td>\n    </tr>\n    <tr>\n      <th>52</th>\n      <td>Wisconsin</td>\n      <td>0</td>\n    </tr>\n    <tr>\n      <th>53</th>\n      <td>West Virginia</td>\n      <td>0</td>\n    </tr>\n    <tr>\n      <th>54</th>\n      <td>Wyoming</td>\n      <td>0</td>\n    </tr>\n  </tbody>\n</table>\n<p>268 rows × 2 columns</p>\n</div>"
     },
     "metadata": {},
     "execution_count": 10
    }
   ],
   "source": [
    "pol_ent = pol_ent.append(us)\n",
    "pol_ent"
   ]
  },
  {
   "source": [
    "### Now create a unique ID just in case of name collisions between country names and US states/territories"
   ],
   "cell_type": "markdown",
   "metadata": {}
  },
  {
   "cell_type": "code",
   "execution_count": 11,
   "metadata": {},
   "outputs": [
    {
     "output_type": "execute_result",
     "data": {
      "text/plain": [
       "      id                 name  is_country\n",
       "0      0          Afghanistan           1\n",
       "1      1              Alabama           0\n",
       "0      2               Alaska           0\n",
       "92     3              Albania           1\n",
       "1      4              Algeria           1\n",
       "..   ...                  ...         ...\n",
       "172  263         Yemen (Aden)           1\n",
       "125  264        Yemen (Sanaa)           1\n",
       "90   265  Yugoslavia (>05/92)           1\n",
       "110  266               Zambia           1\n",
       "111  267             Zimbabwe           1\n",
       "\n",
       "[268 rows x 3 columns]"
      ],
      "text/html": "<div>\n<style scoped>\n    .dataframe tbody tr th:only-of-type {\n        vertical-align: middle;\n    }\n\n    .dataframe tbody tr th {\n        vertical-align: top;\n    }\n\n    .dataframe thead th {\n        text-align: right;\n    }\n</style>\n<table border=\"1\" class=\"dataframe\">\n  <thead>\n    <tr style=\"text-align: right;\">\n      <th></th>\n      <th>id</th>\n      <th>name</th>\n      <th>is_country</th>\n    </tr>\n  </thead>\n  <tbody>\n    <tr>\n      <th>0</th>\n      <td>0</td>\n      <td>Afghanistan</td>\n      <td>1</td>\n    </tr>\n    <tr>\n      <th>1</th>\n      <td>1</td>\n      <td>Alabama</td>\n      <td>0</td>\n    </tr>\n    <tr>\n      <th>0</th>\n      <td>2</td>\n      <td>Alaska</td>\n      <td>0</td>\n    </tr>\n    <tr>\n      <th>92</th>\n      <td>3</td>\n      <td>Albania</td>\n      <td>1</td>\n    </tr>\n    <tr>\n      <th>1</th>\n      <td>4</td>\n      <td>Algeria</td>\n      <td>1</td>\n    </tr>\n    <tr>\n      <th>...</th>\n      <td>...</td>\n      <td>...</td>\n      <td>...</td>\n    </tr>\n    <tr>\n      <th>172</th>\n      <td>263</td>\n      <td>Yemen (Aden)</td>\n      <td>1</td>\n    </tr>\n    <tr>\n      <th>125</th>\n      <td>264</td>\n      <td>Yemen (Sanaa)</td>\n      <td>1</td>\n    </tr>\n    <tr>\n      <th>90</th>\n      <td>265</td>\n      <td>Yugoslavia (&gt;05/92)</td>\n      <td>1</td>\n    </tr>\n    <tr>\n      <th>110</th>\n      <td>266</td>\n      <td>Zambia</td>\n      <td>1</td>\n    </tr>\n    <tr>\n      <th>111</th>\n      <td>267</td>\n      <td>Zimbabwe</td>\n      <td>1</td>\n    </tr>\n  </tbody>\n</table>\n<p>268 rows × 3 columns</p>\n</div>"
     },
     "metadata": {},
     "execution_count": 11
    }
   ],
   "source": [
    "pol_ent = pol_ent.sort_values(by = \"name\")\n",
    "pol_ent[\"id\"] = np.arange(0, pol_ent.shape[0])\n",
    "pol_ent[[\"id\", \"name\", \"is_country\"]]"
   ]
  },
  {
   "cell_type": "code",
   "execution_count": 12,
   "metadata": {},
   "outputs": [],
   "source": [
    "pol_ent[[\"id\", \"name\", \"is_country\"]].to_csv(data_path + \"political_entity.csv\", index = False)"
   ]
  },
  {
   "cell_type": "code",
   "execution_count": null,
   "metadata": {},
   "outputs": [],
   "source": []
  }
 ]
}