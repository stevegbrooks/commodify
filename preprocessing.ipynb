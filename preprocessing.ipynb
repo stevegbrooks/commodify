{
  "nbformat": 4,
  "nbformat_minor": 0,
  "metadata": {
    "colab": {
      "name": "preprocessing.ipynb",
      "provenance": [],
      "collapsed_sections": [],
      "authorship_tag": "ABX9TyN3oa6Y5GRDNJCSfA0tMSYD",
      "include_colab_link": true
    },
    "kernelspec": {
      "name": "python3",
      "display_name": "Python 3"
    }
  },
  "cells": [
    {
      "cell_type": "markdown",
      "metadata": {
        "id": "view-in-github",
        "colab_type": "text"
      },
      "source": [
        "<a href=\"https://colab.research.google.com/github/stevegbrooks/commodify/blob/main/preprocessing.ipynb\" target=\"_parent\"><img src=\"https://colab.research.google.com/assets/colab-badge.svg\" alt=\"Open In Colab\"/></a>"
      ]
    },
    {
      "cell_type": "code",
      "metadata": {
        "id": "sbZZ3AnrBJ9g"
      },
      "source": [
        "import requests, zipfile, io\n",
        "import pandas as pd"
      ],
      "execution_count": 22,
      "outputs": []
    },
    {
      "cell_type": "markdown",
      "metadata": {
        "id": "_xFENRmaA_4u"
      },
      "source": [
        "## Process commodities data from USDA"
      ]
    },
    {
      "cell_type": "code",
      "metadata": {
        "id": "G8k9nULSBEGf",
        "outputId": "0179229e-6d34-4fdb-b9c9-547ebc28e231",
        "colab": {
          "base_uri": "https://localhost:8080/",
          "height": 224
        }
      },
      "source": [
        "zip_url = \"https://apps.fas.usda.gov/psdonline/downloads/psd_alldata_csv.zip\"\n",
        "\n",
        "r = requests.get(zip_url)\n",
        "if r.ok:\n",
        "  z = zipfile.ZipFile(io.BytesIO(r.content))\n",
        "  usda_data = pd.read_csv(z.open('psd_alldata.csv'))\n",
        "\n",
        "usda_data.head(n=5)"
      ],
      "execution_count": 23,
      "outputs": [
        {
          "output_type": "execute_result",
          "data": {
            "text/html": [
              "<div>\n",
              "<style scoped>\n",
              "    .dataframe tbody tr th:only-of-type {\n",
              "        vertical-align: middle;\n",
              "    }\n",
              "\n",
              "    .dataframe tbody tr th {\n",
              "        vertical-align: top;\n",
              "    }\n",
              "\n",
              "    .dataframe thead th {\n",
              "        text-align: right;\n",
              "    }\n",
              "</style>\n",
              "<table border=\"1\" class=\"dataframe\">\n",
              "  <thead>\n",
              "    <tr style=\"text-align: right;\">\n",
              "      <th></th>\n",
              "      <th>Commodity_Code</th>\n",
              "      <th>Commodity_Description</th>\n",
              "      <th>Country_Code</th>\n",
              "      <th>Country_Name</th>\n",
              "      <th>Market_Year</th>\n",
              "      <th>Calendar_Year</th>\n",
              "      <th>Month</th>\n",
              "      <th>Attribute_ID</th>\n",
              "      <th>Attribute_Description</th>\n",
              "      <th>Unit_ID</th>\n",
              "      <th>Unit_Description</th>\n",
              "      <th>Value</th>\n",
              "    </tr>\n",
              "  </thead>\n",
              "  <tbody>\n",
              "    <tr>\n",
              "      <th>0</th>\n",
              "      <td>577400</td>\n",
              "      <td>Almonds, Shelled Basis</td>\n",
              "      <td>AF</td>\n",
              "      <td>Afghanistan</td>\n",
              "      <td>2010</td>\n",
              "      <td>2018</td>\n",
              "      <td>10</td>\n",
              "      <td>20</td>\n",
              "      <td>Beginning Stocks</td>\n",
              "      <td>21</td>\n",
              "      <td>(MT)</td>\n",
              "      <td>0.0</td>\n",
              "    </tr>\n",
              "    <tr>\n",
              "      <th>1</th>\n",
              "      <td>577400</td>\n",
              "      <td>Almonds, Shelled Basis</td>\n",
              "      <td>AF</td>\n",
              "      <td>Afghanistan</td>\n",
              "      <td>2010</td>\n",
              "      <td>2018</td>\n",
              "      <td>10</td>\n",
              "      <td>125</td>\n",
              "      <td>Domestic Consumption</td>\n",
              "      <td>21</td>\n",
              "      <td>(MT)</td>\n",
              "      <td>0.0</td>\n",
              "    </tr>\n",
              "    <tr>\n",
              "      <th>2</th>\n",
              "      <td>577400</td>\n",
              "      <td>Almonds, Shelled Basis</td>\n",
              "      <td>AF</td>\n",
              "      <td>Afghanistan</td>\n",
              "      <td>2010</td>\n",
              "      <td>2018</td>\n",
              "      <td>10</td>\n",
              "      <td>176</td>\n",
              "      <td>Ending Stocks</td>\n",
              "      <td>21</td>\n",
              "      <td>(MT)</td>\n",
              "      <td>0.0</td>\n",
              "    </tr>\n",
              "    <tr>\n",
              "      <th>3</th>\n",
              "      <td>577400</td>\n",
              "      <td>Almonds, Shelled Basis</td>\n",
              "      <td>AF</td>\n",
              "      <td>Afghanistan</td>\n",
              "      <td>2010</td>\n",
              "      <td>2018</td>\n",
              "      <td>10</td>\n",
              "      <td>88</td>\n",
              "      <td>Exports</td>\n",
              "      <td>21</td>\n",
              "      <td>(MT)</td>\n",
              "      <td>0.0</td>\n",
              "    </tr>\n",
              "    <tr>\n",
              "      <th>4</th>\n",
              "      <td>577400</td>\n",
              "      <td>Almonds, Shelled Basis</td>\n",
              "      <td>AF</td>\n",
              "      <td>Afghanistan</td>\n",
              "      <td>2010</td>\n",
              "      <td>2018</td>\n",
              "      <td>10</td>\n",
              "      <td>57</td>\n",
              "      <td>Imports</td>\n",
              "      <td>21</td>\n",
              "      <td>(MT)</td>\n",
              "      <td>0.0</td>\n",
              "    </tr>\n",
              "  </tbody>\n",
              "</table>\n",
              "</div>"
            ],
            "text/plain": [
              "   Commodity_Code   Commodity_Description  ... Unit_Description Value\n",
              "0          577400  Almonds, Shelled Basis  ...             (MT)   0.0\n",
              "1          577400  Almonds, Shelled Basis  ...             (MT)   0.0\n",
              "2          577400  Almonds, Shelled Basis  ...             (MT)   0.0\n",
              "3          577400  Almonds, Shelled Basis  ...             (MT)   0.0\n",
              "4          577400  Almonds, Shelled Basis  ...             (MT)   0.0\n",
              "\n",
              "[5 rows x 12 columns]"
            ]
          },
          "metadata": {
            "tags": []
          },
          "execution_count": 23
        }
      ]
    },
    {
      "cell_type": "code",
      "metadata": {
        "id": "OzgtSMjRDkWy"
      },
      "source": [
        ""
      ],
      "execution_count": null,
      "outputs": []
    }
  ]
}