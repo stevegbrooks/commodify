{
  "nbformat": 4,
  "nbformat_minor": 0,
  "metadata": {
    "colab": {
      "name": "preprocessing.ipynb",
      "provenance": [],
      "collapsed_sections": [],
      "authorship_tag": "ABX9TyPKIM6ucLj/6sqOeQOs6Mne",
      "include_colab_link": true
    },
    "kernelspec": {
      "name": "python3",
      "display_name": "Python 3",
      "language": "python"
    }
  },
  "cells": [
    {
      "cell_type": "markdown",
      "metadata": {
        "id": "view-in-github",
        "colab_type": "text"
      },
      "source": [
        "<a href=\"https://colab.research.google.com/github/stevegbrooks/commodify/blob/preprocessing/usda_preprocessing.ipynb\" target=\"_parent\"><img src=\"https://colab.research.google.com/assets/colab-badge.svg\" alt=\"Open In Colab\"/></a>"
      ]
    },
    {
      "cell_type": "code",
      "metadata": {
        "id": "sbZZ3AnrBJ9g"
      },
      "source": [
        "import requests, zipfile, io\n",
        "import pandas as pd\n",
        "out_path = \"~/CIS550/commodify/data/\""
      ],
      "execution_count": 1,
      "outputs": []
    },
    {
      "cell_type": "markdown",
      "metadata": {
        "id": "_xFENRmaA_4u"
      },
      "source": [
        "## Process commodities data from USDA"
      ]
    },
    {
      "cell_type": "code",
      "metadata": {
        "id": "G8k9nULSBEGf",
        "colab": {
          "base_uri": "https://localhost:8080/",
          "height": 204
        },
        "outputId": "ef2d55cf-734a-4869-e506-4beb0aafe27e"
      },
      "source": [
        "zip_url = \"https://apps.fas.usda.gov/psdonline/downloads/psd_alldata_csv.zip\"\n",
        "\n",
        "r = requests.get(zip_url)\n",
        "if r.ok:\n",
        "  z = zipfile.ZipFile(io.BytesIO(r.content))\n",
        "  usda_data = pd.read_csv(z.open('psd_alldata.csv'))\n",
        "\n",
        "usda_data.head(n=5)"
      ],
      "execution_count": 2,
      "outputs": [
        {
          "output_type": "execute_result",
          "data": {
            "text/plain": [
              "   Commodity_Code   Commodity_Description Country_Code Country_Name  \\\n",
              "0          577400  Almonds, Shelled Basis           AF  Afghanistan   \n",
              "1          577400  Almonds, Shelled Basis           AF  Afghanistan   \n",
              "2          577400  Almonds, Shelled Basis           AF  Afghanistan   \n",
              "3          577400  Almonds, Shelled Basis           AF  Afghanistan   \n",
              "4          577400  Almonds, Shelled Basis           AF  Afghanistan   \n",
              "\n",
              "   Market_Year  Calendar_Year  Month  Attribute_ID Attribute_Description  \\\n",
              "0         2010           2018     10            20      Beginning Stocks   \n",
              "1         2010           2018     10           125  Domestic Consumption   \n",
              "2         2010           2018     10           176         Ending Stocks   \n",
              "3         2010           2018     10            88               Exports   \n",
              "4         2010           2018     10            57               Imports   \n",
              "\n",
              "   Unit_ID Unit_Description  Value  \n",
              "0       21             (MT)    0.0  \n",
              "1       21             (MT)    0.0  \n",
              "2       21             (MT)    0.0  \n",
              "3       21             (MT)    0.0  \n",
              "4       21             (MT)    0.0  "
            ],
            "text/html": "<div>\n<style scoped>\n    .dataframe tbody tr th:only-of-type {\n        vertical-align: middle;\n    }\n\n    .dataframe tbody tr th {\n        vertical-align: top;\n    }\n\n    .dataframe thead th {\n        text-align: right;\n    }\n</style>\n<table border=\"1\" class=\"dataframe\">\n  <thead>\n    <tr style=\"text-align: right;\">\n      <th></th>\n      <th>Commodity_Code</th>\n      <th>Commodity_Description</th>\n      <th>Country_Code</th>\n      <th>Country_Name</th>\n      <th>Market_Year</th>\n      <th>Calendar_Year</th>\n      <th>Month</th>\n      <th>Attribute_ID</th>\n      <th>Attribute_Description</th>\n      <th>Unit_ID</th>\n      <th>Unit_Description</th>\n      <th>Value</th>\n    </tr>\n  </thead>\n  <tbody>\n    <tr>\n      <th>0</th>\n      <td>577400</td>\n      <td>Almonds, Shelled Basis</td>\n      <td>AF</td>\n      <td>Afghanistan</td>\n      <td>2010</td>\n      <td>2018</td>\n      <td>10</td>\n      <td>20</td>\n      <td>Beginning Stocks</td>\n      <td>21</td>\n      <td>(MT)</td>\n      <td>0.0</td>\n    </tr>\n    <tr>\n      <th>1</th>\n      <td>577400</td>\n      <td>Almonds, Shelled Basis</td>\n      <td>AF</td>\n      <td>Afghanistan</td>\n      <td>2010</td>\n      <td>2018</td>\n      <td>10</td>\n      <td>125</td>\n      <td>Domestic Consumption</td>\n      <td>21</td>\n      <td>(MT)</td>\n      <td>0.0</td>\n    </tr>\n    <tr>\n      <th>2</th>\n      <td>577400</td>\n      <td>Almonds, Shelled Basis</td>\n      <td>AF</td>\n      <td>Afghanistan</td>\n      <td>2010</td>\n      <td>2018</td>\n      <td>10</td>\n      <td>176</td>\n      <td>Ending Stocks</td>\n      <td>21</td>\n      <td>(MT)</td>\n      <td>0.0</td>\n    </tr>\n    <tr>\n      <th>3</th>\n      <td>577400</td>\n      <td>Almonds, Shelled Basis</td>\n      <td>AF</td>\n      <td>Afghanistan</td>\n      <td>2010</td>\n      <td>2018</td>\n      <td>10</td>\n      <td>88</td>\n      <td>Exports</td>\n      <td>21</td>\n      <td>(MT)</td>\n      <td>0.0</td>\n    </tr>\n    <tr>\n      <th>4</th>\n      <td>577400</td>\n      <td>Almonds, Shelled Basis</td>\n      <td>AF</td>\n      <td>Afghanistan</td>\n      <td>2010</td>\n      <td>2018</td>\n      <td>10</td>\n      <td>57</td>\n      <td>Imports</td>\n      <td>21</td>\n      <td>(MT)</td>\n      <td>0.0</td>\n    </tr>\n  </tbody>\n</table>\n</div>"
          },
          "metadata": {},
          "execution_count": 2
        }
      ]
    },
    {
      "source": [
        "### Deal with null values"
      ],
      "cell_type": "markdown",
      "metadata": {}
    },
    {
      "source": [
        "usda_data.isnull().values.any()"
      ],
      "cell_type": "code",
      "metadata": {},
      "execution_count": 3,
      "outputs": [
        {
          "output_type": "execute_result",
          "data": {
            "text/plain": [
              "True"
            ]
          },
          "metadata": {},
          "execution_count": 3
        }
      ]
    },
    {
      "source": [
        "It looks like only the `Country_Code` column has `NaN`. \n"
      ],
      "cell_type": "markdown",
      "metadata": {}
    },
    {
      "cell_type": "code",
      "execution_count": 4,
      "metadata": {},
      "outputs": [
        {
          "output_type": "execute_result",
          "data": {
            "text/plain": [
              "         Commodity_Code Commodity_Description Country_Code  \\\n",
              "716727           813100         Meal, Soybean          NaN   \n",
              "716728           813100         Meal, Soybean          NaN   \n",
              "716729           813100         Meal, Soybean          NaN   \n",
              "716730           813100         Meal, Soybean          NaN   \n",
              "716731           813100         Meal, Soybean          NaN   \n",
              "...                 ...                   ...          ...   \n",
              "1726314          612000    Sugar, Centrifugal          NaN   \n",
              "1726315          612000    Sugar, Centrifugal          NaN   \n",
              "1726316          612000    Sugar, Centrifugal          NaN   \n",
              "1726317          612000    Sugar, Centrifugal          NaN   \n",
              "1726318          612000    Sugar, Centrifugal          NaN   \n",
              "\n",
              "                 Country_Name  Market_Year  Calendar_Year  Month  \\\n",
              "716727   Netherlands Antilles         1976           2006      6   \n",
              "716728   Netherlands Antilles         1976           2006      6   \n",
              "716729   Netherlands Antilles         1976           2006      6   \n",
              "716730   Netherlands Antilles         1976           2006      6   \n",
              "716731   Netherlands Antilles         1976           2006      6   \n",
              "...                       ...          ...            ...    ...   \n",
              "1726314  Netherlands Antilles         2021           2020     11   \n",
              "1726315  Netherlands Antilles         2021           2020     11   \n",
              "1726316  Netherlands Antilles         2021           2020     11   \n",
              "1726317  Netherlands Antilles         2021           2020     11   \n",
              "1726318  Netherlands Antilles         2021           2020     11   \n",
              "\n",
              "         Attribute_ID  Attribute_Description  Unit_ID Unit_Description  Value  \n",
              "716727             20       Beginning Stocks        8        (1000 MT)    0.0  \n",
              "716728              7                  Crush        8        (1000 MT)    0.0  \n",
              "716729            125   Domestic Consumption        8        (1000 MT)    1.0  \n",
              "716730            176          Ending Stocks        8        (1000 MT)    0.0  \n",
              "716731             88                Exports        8        (1000 MT)    0.0  \n",
              "...               ...                    ...      ...              ...    ...  \n",
              "1726314            99  Refined Exp.(Raw Val)        8        (1000 MT)    0.0  \n",
              "1726315            74  Refined Imp.(Raw Val)        8        (1000 MT)    0.0  \n",
              "1726316           126    Total Disappearance        8        (1000 MT)    0.0  \n",
              "1726317           178     Total Distribution        8        (1000 MT)    0.0  \n",
              "1726318            86           Total Supply        8        (1000 MT)    0.0  \n",
              "\n",
              "[1004 rows x 12 columns]"
            ],
            "text/html": "<div>\n<style scoped>\n    .dataframe tbody tr th:only-of-type {\n        vertical-align: middle;\n    }\n\n    .dataframe tbody tr th {\n        vertical-align: top;\n    }\n\n    .dataframe thead th {\n        text-align: right;\n    }\n</style>\n<table border=\"1\" class=\"dataframe\">\n  <thead>\n    <tr style=\"text-align: right;\">\n      <th></th>\n      <th>Commodity_Code</th>\n      <th>Commodity_Description</th>\n      <th>Country_Code</th>\n      <th>Country_Name</th>\n      <th>Market_Year</th>\n      <th>Calendar_Year</th>\n      <th>Month</th>\n      <th>Attribute_ID</th>\n      <th>Attribute_Description</th>\n      <th>Unit_ID</th>\n      <th>Unit_Description</th>\n      <th>Value</th>\n    </tr>\n  </thead>\n  <tbody>\n    <tr>\n      <th>716727</th>\n      <td>813100</td>\n      <td>Meal, Soybean</td>\n      <td>NaN</td>\n      <td>Netherlands Antilles</td>\n      <td>1976</td>\n      <td>2006</td>\n      <td>6</td>\n      <td>20</td>\n      <td>Beginning Stocks</td>\n      <td>8</td>\n      <td>(1000 MT)</td>\n      <td>0.0</td>\n    </tr>\n    <tr>\n      <th>716728</th>\n      <td>813100</td>\n      <td>Meal, Soybean</td>\n      <td>NaN</td>\n      <td>Netherlands Antilles</td>\n      <td>1976</td>\n      <td>2006</td>\n      <td>6</td>\n      <td>7</td>\n      <td>Crush</td>\n      <td>8</td>\n      <td>(1000 MT)</td>\n      <td>0.0</td>\n    </tr>\n    <tr>\n      <th>716729</th>\n      <td>813100</td>\n      <td>Meal, Soybean</td>\n      <td>NaN</td>\n      <td>Netherlands Antilles</td>\n      <td>1976</td>\n      <td>2006</td>\n      <td>6</td>\n      <td>125</td>\n      <td>Domestic Consumption</td>\n      <td>8</td>\n      <td>(1000 MT)</td>\n      <td>1.0</td>\n    </tr>\n    <tr>\n      <th>716730</th>\n      <td>813100</td>\n      <td>Meal, Soybean</td>\n      <td>NaN</td>\n      <td>Netherlands Antilles</td>\n      <td>1976</td>\n      <td>2006</td>\n      <td>6</td>\n      <td>176</td>\n      <td>Ending Stocks</td>\n      <td>8</td>\n      <td>(1000 MT)</td>\n      <td>0.0</td>\n    </tr>\n    <tr>\n      <th>716731</th>\n      <td>813100</td>\n      <td>Meal, Soybean</td>\n      <td>NaN</td>\n      <td>Netherlands Antilles</td>\n      <td>1976</td>\n      <td>2006</td>\n      <td>6</td>\n      <td>88</td>\n      <td>Exports</td>\n      <td>8</td>\n      <td>(1000 MT)</td>\n      <td>0.0</td>\n    </tr>\n    <tr>\n      <th>...</th>\n      <td>...</td>\n      <td>...</td>\n      <td>...</td>\n      <td>...</td>\n      <td>...</td>\n      <td>...</td>\n      <td>...</td>\n      <td>...</td>\n      <td>...</td>\n      <td>...</td>\n      <td>...</td>\n      <td>...</td>\n    </tr>\n    <tr>\n      <th>1726314</th>\n      <td>612000</td>\n      <td>Sugar, Centrifugal</td>\n      <td>NaN</td>\n      <td>Netherlands Antilles</td>\n      <td>2021</td>\n      <td>2020</td>\n      <td>11</td>\n      <td>99</td>\n      <td>Refined Exp.(Raw Val)</td>\n      <td>8</td>\n      <td>(1000 MT)</td>\n      <td>0.0</td>\n    </tr>\n    <tr>\n      <th>1726315</th>\n      <td>612000</td>\n      <td>Sugar, Centrifugal</td>\n      <td>NaN</td>\n      <td>Netherlands Antilles</td>\n      <td>2021</td>\n      <td>2020</td>\n      <td>11</td>\n      <td>74</td>\n      <td>Refined Imp.(Raw Val)</td>\n      <td>8</td>\n      <td>(1000 MT)</td>\n      <td>0.0</td>\n    </tr>\n    <tr>\n      <th>1726316</th>\n      <td>612000</td>\n      <td>Sugar, Centrifugal</td>\n      <td>NaN</td>\n      <td>Netherlands Antilles</td>\n      <td>2021</td>\n      <td>2020</td>\n      <td>11</td>\n      <td>126</td>\n      <td>Total Disappearance</td>\n      <td>8</td>\n      <td>(1000 MT)</td>\n      <td>0.0</td>\n    </tr>\n    <tr>\n      <th>1726317</th>\n      <td>612000</td>\n      <td>Sugar, Centrifugal</td>\n      <td>NaN</td>\n      <td>Netherlands Antilles</td>\n      <td>2021</td>\n      <td>2020</td>\n      <td>11</td>\n      <td>178</td>\n      <td>Total Distribution</td>\n      <td>8</td>\n      <td>(1000 MT)</td>\n      <td>0.0</td>\n    </tr>\n    <tr>\n      <th>1726318</th>\n      <td>612000</td>\n      <td>Sugar, Centrifugal</td>\n      <td>NaN</td>\n      <td>Netherlands Antilles</td>\n      <td>2021</td>\n      <td>2020</td>\n      <td>11</td>\n      <td>86</td>\n      <td>Total Supply</td>\n      <td>8</td>\n      <td>(1000 MT)</td>\n      <td>0.0</td>\n    </tr>\n  </tbody>\n</table>\n<p>1004 rows × 12 columns</p>\n</div>"
          },
          "metadata": {},
          "execution_count": 4
        }
      ],
      "source": [
        "usda_data[usda_data.isnull().any(axis=1)]"
      ]
    },
    {
      "source": [
        "Lets check which values for `Country_Name` don't have a `Country_Code`"
      ],
      "cell_type": "markdown",
      "metadata": {}
    },
    {
      "cell_type": "code",
      "execution_count": 5,
      "metadata": {},
      "outputs": [
        {
          "output_type": "execute_result",
          "data": {
            "text/plain": [
              "array(['Netherlands Antilles'], dtype=object)"
            ]
          },
          "metadata": {},
          "execution_count": 5
        }
      ],
      "source": [
        "usda_data[usda_data.isnull().any(axis=1)][\"Country_Name\"].unique()"
      ]
    },
    {
      "source": [
        "Before gaining indepedence in 2010, these islands were part of the Netherlands, but now the group of islands consists of smaller countries. \n",
        "\n",
        "We can just set the country code of Netherlands Antilles to the Netherlands' country code."
      ],
      "cell_type": "markdown",
      "metadata": {}
    },
    {
      "cell_type": "code",
      "execution_count": 6,
      "metadata": {},
      "outputs": [
        {
          "output_type": "execute_result",
          "data": {
            "text/plain": [
              "array(['NL'], dtype=object)"
            ]
          },
          "metadata": {},
          "execution_count": 6
        }
      ],
      "source": [
        "usda_data[usda_data[\"Country_Name\"] == \"Netherlands\"][\"Country_Code\"].unique()"
      ]
    },
    {
      "cell_type": "code",
      "execution_count": 7,
      "metadata": {},
      "outputs": [],
      "source": [
        "usda_data.loc[usda_data.Country_Name == \"Netherlands Antilles\", 'Country_Code'] = \"NL\""
      ]
    },
    {
      "source": [
        "Check to make sure it worked."
      ],
      "cell_type": "markdown",
      "metadata": {}
    },
    {
      "cell_type": "code",
      "execution_count": 8,
      "metadata": {},
      "outputs": [
        {
          "output_type": "execute_result",
          "data": {
            "text/plain": [
              "False"
            ]
          },
          "metadata": {},
          "execution_count": 8
        }
      ],
      "source": [
        "usda_data.isnull().values.any()"
      ]
    },
    {
      "source": [
        "## Reshape from long to wide"
      ],
      "cell_type": "markdown",
      "metadata": {}
    },
    {
      "cell_type": "code",
      "execution_count": 37,
      "metadata": {},
      "outputs": [],
      "source": [
        "usda_pivot = usda_data.pivot(index = [\"Commodity_Description\", \"Market_Year\", \"Month\", \"Country_Name\"], columns = \"Attribute_Description\", values = \"Value\")\n"
      ]
    },
    {
      "cell_type": "code",
      "execution_count": 43,
      "metadata": {},
      "outputs": [
        {
          "output_type": "execute_result",
          "data": {
            "text/plain": [
              "Attribute_Description  Annual % Change Per Cap. Cons.  \\\n",
              "0                                                 NaN   \n",
              "1                                                 NaN   \n",
              "2                                                 NaN   \n",
              "3                                                 NaN   \n",
              "4                                                 NaN   \n",
              "...                                               ...   \n",
              "146458                                            NaN   \n",
              "146459                                            NaN   \n",
              "146460                                            NaN   \n",
              "146461                                            NaN   \n",
              "146462                                            NaN   \n",
              "\n",
              "Attribute_Description  Annual % Change Prod. To Sows  Arabica Production  \\\n",
              "0                                                NaN                 NaN   \n",
              "1                                                NaN                 NaN   \n",
              "2                                                NaN                 NaN   \n",
              "3                                                NaN                 NaN   \n",
              "4                                                NaN                 NaN   \n",
              "...                                              ...                 ...   \n",
              "146458                                           NaN                 NaN   \n",
              "146459                                           NaN                 NaN   \n",
              "146460                                           NaN                 NaN   \n",
              "146461                                           NaN                 NaN   \n",
              "146462                                           NaN                 NaN   \n",
              "\n",
              "Attribute_Description  Area Harvested  Bean Exports  Bean Imports  \\\n",
              "0                                 NaN           NaN           NaN   \n",
              "1                                 NaN           NaN           NaN   \n",
              "2                                 NaN           NaN           NaN   \n",
              "3                                 NaN           NaN           NaN   \n",
              "4                                 NaN           NaN           NaN   \n",
              "...                               ...           ...           ...   \n",
              "146458                            0.0           NaN           NaN   \n",
              "146459                            0.0           NaN           NaN   \n",
              "146460                           95.0           NaN           NaN   \n",
              "146461                           30.0           NaN           NaN   \n",
              "146462                           63.0           NaN           NaN   \n",
              "\n",
              "Attribute_Description  Beef Cows Beg. Stocks  Beet Sugar Production  \\\n",
              "0                                        NaN                    NaN   \n",
              "1                                        NaN                    NaN   \n",
              "2                                        NaN                    NaN   \n",
              "3                                        NaN                    NaN   \n",
              "4                                        NaN                    NaN   \n",
              "...                                      ...                    ...   \n",
              "146458                                   NaN                    NaN   \n",
              "146459                                   NaN                    NaN   \n",
              "146460                                   NaN                    NaN   \n",
              "146461                                   NaN                    NaN   \n",
              "146462                                   NaN                    NaN   \n",
              "\n",
              "Attribute_Description  Beginning Stocks  Calf Slaughter  ...  \\\n",
              "0                                   0.0             NaN  ...   \n",
              "1                                   0.0             NaN  ...   \n",
              "2                                   0.0             NaN  ...   \n",
              "3                                   0.0             NaN  ...   \n",
              "4                                   0.0             NaN  ...   \n",
              "...                                 ...             ...  ...   \n",
              "146458                            142.0             NaN  ...   \n",
              "146459                            799.0             NaN  ...   \n",
              "146460                            564.0             NaN  ...   \n",
              "146461                             18.0             NaN  ...   \n",
              "146462                             41.0             NaN  ...   \n",
              "\n",
              "Attribute_Description  TY Imp. from U.S.  TY Imports  Total Disappearance  \\\n",
              "0                                    NaN         NaN                  NaN   \n",
              "1                                    NaN         NaN                  NaN   \n",
              "2                                    NaN         NaN                  NaN   \n",
              "3                                    NaN         NaN                  NaN   \n",
              "4                                    NaN         NaN                  NaN   \n",
              "...                                  ...         ...                  ...   \n",
              "146458                               0.0      1000.0                  NaN   \n",
              "146459                               0.0      3600.0                  NaN   \n",
              "146460                               0.0      3800.0                  NaN   \n",
              "146461                               0.0        50.0                  NaN   \n",
              "146462                               0.0       100.0                  NaN   \n",
              "\n",
              "Attribute_Description  Total Distribution  Total Slaughter  Total Supply  \\\n",
              "0                                     0.0              NaN           4.0   \n",
              "1                                     0.0              NaN          13.0   \n",
              "2                                     0.0              NaN           2.0   \n",
              "3                                     0.0              NaN           1.0   \n",
              "4                                     0.0              NaN          29.0   \n",
              "...                                   ...              ...           ...   \n",
              "146458                             1142.0              NaN        1142.0   \n",
              "146459                             4399.0              NaN        4399.0   \n",
              "146460                             4502.0              NaN        4502.0   \n",
              "146461                              258.0              NaN         258.0   \n",
              "146462                              391.0              NaN         391.0   \n",
              "\n",
              "Attribute_Description  Total Use  USE Dom. Consumption  \\\n",
              "0                            NaN                   NaN   \n",
              "1                            NaN                   NaN   \n",
              "2                            NaN                   NaN   \n",
              "3                            NaN                   NaN   \n",
              "4                            NaN                   NaN   \n",
              "...                          ...                   ...   \n",
              "146458                       NaN                   NaN   \n",
              "146459                       NaN                   NaN   \n",
              "146460                       NaN                   NaN   \n",
              "146461                       NaN                   NaN   \n",
              "146462                       NaN                   NaN   \n",
              "\n",
              "Attribute_Description  Withdrawal From Market  Yield  \n",
              "0                                         NaN    NaN  \n",
              "1                                         NaN    NaN  \n",
              "2                                         NaN    NaN  \n",
              "3                                         NaN    NaN  \n",
              "4                                         NaN    NaN  \n",
              "...                                       ...    ...  \n",
              "146458                                    NaN   0.00  \n",
              "146459                                    NaN   0.00  \n",
              "146460                                    NaN   1.45  \n",
              "146461                                    NaN   6.33  \n",
              "146462                                    NaN   3.97  \n",
              "\n",
              "[146463 rows x 71 columns]"
            ],
            "text/html": "<div>\n<style scoped>\n    .dataframe tbody tr th:only-of-type {\n        vertical-align: middle;\n    }\n\n    .dataframe tbody tr th {\n        vertical-align: top;\n    }\n\n    .dataframe thead th {\n        text-align: right;\n    }\n</style>\n<table border=\"1\" class=\"dataframe\">\n  <thead>\n    <tr style=\"text-align: right;\">\n      <th>Attribute_Description</th>\n      <th>Annual % Change Per Cap. Cons.</th>\n      <th>Annual % Change Prod. To Sows</th>\n      <th>Arabica Production</th>\n      <th>Area Harvested</th>\n      <th>Bean Exports</th>\n      <th>Bean Imports</th>\n      <th>Beef Cows Beg. Stocks</th>\n      <th>Beet Sugar Production</th>\n      <th>Beginning Stocks</th>\n      <th>Calf Slaughter</th>\n      <th>...</th>\n      <th>TY Imp. from U.S.</th>\n      <th>TY Imports</th>\n      <th>Total Disappearance</th>\n      <th>Total Distribution</th>\n      <th>Total Slaughter</th>\n      <th>Total Supply</th>\n      <th>Total Use</th>\n      <th>USE Dom. Consumption</th>\n      <th>Withdrawal From Market</th>\n      <th>Yield</th>\n    </tr>\n  </thead>\n  <tbody>\n    <tr>\n      <th>0</th>\n      <td>NaN</td>\n      <td>NaN</td>\n      <td>NaN</td>\n      <td>NaN</td>\n      <td>NaN</td>\n      <td>NaN</td>\n      <td>NaN</td>\n      <td>NaN</td>\n      <td>0.0</td>\n      <td>NaN</td>\n      <td>...</td>\n      <td>NaN</td>\n      <td>NaN</td>\n      <td>NaN</td>\n      <td>0.0</td>\n      <td>NaN</td>\n      <td>4.0</td>\n      <td>NaN</td>\n      <td>NaN</td>\n      <td>NaN</td>\n      <td>NaN</td>\n    </tr>\n    <tr>\n      <th>1</th>\n      <td>NaN</td>\n      <td>NaN</td>\n      <td>NaN</td>\n      <td>NaN</td>\n      <td>NaN</td>\n      <td>NaN</td>\n      <td>NaN</td>\n      <td>NaN</td>\n      <td>0.0</td>\n      <td>NaN</td>\n      <td>...</td>\n      <td>NaN</td>\n      <td>NaN</td>\n      <td>NaN</td>\n      <td>0.0</td>\n      <td>NaN</td>\n      <td>13.0</td>\n      <td>NaN</td>\n      <td>NaN</td>\n      <td>NaN</td>\n      <td>NaN</td>\n    </tr>\n    <tr>\n      <th>2</th>\n      <td>NaN</td>\n      <td>NaN</td>\n      <td>NaN</td>\n      <td>NaN</td>\n      <td>NaN</td>\n      <td>NaN</td>\n      <td>NaN</td>\n      <td>NaN</td>\n      <td>0.0</td>\n      <td>NaN</td>\n      <td>...</td>\n      <td>NaN</td>\n      <td>NaN</td>\n      <td>NaN</td>\n      <td>0.0</td>\n      <td>NaN</td>\n      <td>2.0</td>\n      <td>NaN</td>\n      <td>NaN</td>\n      <td>NaN</td>\n      <td>NaN</td>\n    </tr>\n    <tr>\n      <th>3</th>\n      <td>NaN</td>\n      <td>NaN</td>\n      <td>NaN</td>\n      <td>NaN</td>\n      <td>NaN</td>\n      <td>NaN</td>\n      <td>NaN</td>\n      <td>NaN</td>\n      <td>0.0</td>\n      <td>NaN</td>\n      <td>...</td>\n      <td>NaN</td>\n      <td>NaN</td>\n      <td>NaN</td>\n      <td>0.0</td>\n      <td>NaN</td>\n      <td>1.0</td>\n      <td>NaN</td>\n      <td>NaN</td>\n      <td>NaN</td>\n      <td>NaN</td>\n    </tr>\n    <tr>\n      <th>4</th>\n      <td>NaN</td>\n      <td>NaN</td>\n      <td>NaN</td>\n      <td>NaN</td>\n      <td>NaN</td>\n      <td>NaN</td>\n      <td>NaN</td>\n      <td>NaN</td>\n      <td>0.0</td>\n      <td>NaN</td>\n      <td>...</td>\n      <td>NaN</td>\n      <td>NaN</td>\n      <td>NaN</td>\n      <td>0.0</td>\n      <td>NaN</td>\n      <td>29.0</td>\n      <td>NaN</td>\n      <td>NaN</td>\n      <td>NaN</td>\n      <td>NaN</td>\n    </tr>\n    <tr>\n      <th>...</th>\n      <td>...</td>\n      <td>...</td>\n      <td>...</td>\n      <td>...</td>\n      <td>...</td>\n      <td>...</td>\n      <td>...</td>\n      <td>...</td>\n      <td>...</td>\n      <td>...</td>\n      <td>...</td>\n      <td>...</td>\n      <td>...</td>\n      <td>...</td>\n      <td>...</td>\n      <td>...</td>\n      <td>...</td>\n      <td>...</td>\n      <td>...</td>\n      <td>...</td>\n      <td>...</td>\n    </tr>\n    <tr>\n      <th>146458</th>\n      <td>NaN</td>\n      <td>NaN</td>\n      <td>NaN</td>\n      <td>0.0</td>\n      <td>NaN</td>\n      <td>NaN</td>\n      <td>NaN</td>\n      <td>NaN</td>\n      <td>142.0</td>\n      <td>NaN</td>\n      <td>...</td>\n      <td>0.0</td>\n      <td>1000.0</td>\n      <td>NaN</td>\n      <td>1142.0</td>\n      <td>NaN</td>\n      <td>1142.0</td>\n      <td>NaN</td>\n      <td>NaN</td>\n      <td>NaN</td>\n      <td>0.00</td>\n    </tr>\n    <tr>\n      <th>146459</th>\n      <td>NaN</td>\n      <td>NaN</td>\n      <td>NaN</td>\n      <td>0.0</td>\n      <td>NaN</td>\n      <td>NaN</td>\n      <td>NaN</td>\n      <td>NaN</td>\n      <td>799.0</td>\n      <td>NaN</td>\n      <td>...</td>\n      <td>0.0</td>\n      <td>3600.0</td>\n      <td>NaN</td>\n      <td>4399.0</td>\n      <td>NaN</td>\n      <td>4399.0</td>\n      <td>NaN</td>\n      <td>NaN</td>\n      <td>NaN</td>\n      <td>0.00</td>\n    </tr>\n    <tr>\n      <th>146460</th>\n      <td>NaN</td>\n      <td>NaN</td>\n      <td>NaN</td>\n      <td>95.0</td>\n      <td>NaN</td>\n      <td>NaN</td>\n      <td>NaN</td>\n      <td>NaN</td>\n      <td>564.0</td>\n      <td>NaN</td>\n      <td>...</td>\n      <td>0.0</td>\n      <td>3800.0</td>\n      <td>NaN</td>\n      <td>4502.0</td>\n      <td>NaN</td>\n      <td>4502.0</td>\n      <td>NaN</td>\n      <td>NaN</td>\n      <td>NaN</td>\n      <td>1.45</td>\n    </tr>\n    <tr>\n      <th>146461</th>\n      <td>NaN</td>\n      <td>NaN</td>\n      <td>NaN</td>\n      <td>30.0</td>\n      <td>NaN</td>\n      <td>NaN</td>\n      <td>NaN</td>\n      <td>NaN</td>\n      <td>18.0</td>\n      <td>NaN</td>\n      <td>...</td>\n      <td>0.0</td>\n      <td>50.0</td>\n      <td>NaN</td>\n      <td>258.0</td>\n      <td>NaN</td>\n      <td>258.0</td>\n      <td>NaN</td>\n      <td>NaN</td>\n      <td>NaN</td>\n      <td>6.33</td>\n    </tr>\n    <tr>\n      <th>146462</th>\n      <td>NaN</td>\n      <td>NaN</td>\n      <td>NaN</td>\n      <td>63.0</td>\n      <td>NaN</td>\n      <td>NaN</td>\n      <td>NaN</td>\n      <td>NaN</td>\n      <td>41.0</td>\n      <td>NaN</td>\n      <td>...</td>\n      <td>0.0</td>\n      <td>100.0</td>\n      <td>NaN</td>\n      <td>391.0</td>\n      <td>NaN</td>\n      <td>391.0</td>\n      <td>NaN</td>\n      <td>NaN</td>\n      <td>NaN</td>\n      <td>3.97</td>\n    </tr>\n  </tbody>\n</table>\n<p>146463 rows × 71 columns</p>\n</div>"
          },
          "metadata": {},
          "execution_count": 43
        }
      ],
      "source": [
        "usda_pivot_reset = usda_pivot.reset_index(drop=True)\n",
        "usda_pivot_reset"
      ]
    },
    {
      "cell_type": "code",
      "execution_count": 44,
      "metadata": {},
      "outputs": [
        {
          "output_type": "error",
          "ename": "KeyError",
          "evalue": "\"['Country_Name', 'Market_Year', 'Month', 'Commodity_Description'] not in index\"",
          "traceback": [
            "\u001b[0;31m---------------------------------------------------------------------------\u001b[0m",
            "\u001b[0;31mKeyError\u001b[0m                                  Traceback (most recent call last)",
            "\u001b[0;32m<ipython-input-44-e91dec7859a3>\u001b[0m in \u001b[0;36m<module>\u001b[0;34m\u001b[0m\n\u001b[1;32m      2\u001b[0m            \u001b[0;34m\"Beginning Stocks\"\u001b[0m\u001b[0;34m,\u001b[0m \u001b[0;34m\"Ending Stocks\"\u001b[0m\u001b[0;34m,\u001b[0m \u001b[0;34m\"Imports\"\u001b[0m\u001b[0;34m,\u001b[0m \u001b[0;34m\"Exports\"\u001b[0m\u001b[0;34m,\u001b[0m\u001b[0;34m\u001b[0m\u001b[0;34m\u001b[0m\u001b[0m\n\u001b[1;32m      3\u001b[0m            \"Area Harvested\", \"Yield\", \"Production\", \"Domestic Consumption\"]\n\u001b[0;32m----> 4\u001b[0;31m \u001b[0musda_pivot_reset\u001b[0m\u001b[0;34m[\u001b[0m\u001b[0mcols_to_keep\u001b[0m\u001b[0;34m]\u001b[0m\u001b[0;34m.\u001b[0m\u001b[0mto_csv\u001b[0m\u001b[0;34m(\u001b[0m\u001b[0mout_path\u001b[0m \u001b[0;34m+\u001b[0m \u001b[0;34m\"usda_data.csv\"\u001b[0m\u001b[0;34m)\u001b[0m\u001b[0;34m\u001b[0m\u001b[0;34m\u001b[0m\u001b[0m\n\u001b[0m",
            "\u001b[0;32m~/opt/anaconda3/lib/python3.8/site-packages/pandas/core/frame.py\u001b[0m in \u001b[0;36m__getitem__\u001b[0;34m(self, key)\u001b[0m\n\u001b[1;32m   2906\u001b[0m             \u001b[0;32mif\u001b[0m \u001b[0mis_iterator\u001b[0m\u001b[0;34m(\u001b[0m\u001b[0mkey\u001b[0m\u001b[0;34m)\u001b[0m\u001b[0;34m:\u001b[0m\u001b[0;34m\u001b[0m\u001b[0;34m\u001b[0m\u001b[0m\n\u001b[1;32m   2907\u001b[0m                 \u001b[0mkey\u001b[0m \u001b[0;34m=\u001b[0m \u001b[0mlist\u001b[0m\u001b[0;34m(\u001b[0m\u001b[0mkey\u001b[0m\u001b[0;34m)\u001b[0m\u001b[0;34m\u001b[0m\u001b[0;34m\u001b[0m\u001b[0m\n\u001b[0;32m-> 2908\u001b[0;31m             \u001b[0mindexer\u001b[0m \u001b[0;34m=\u001b[0m \u001b[0mself\u001b[0m\u001b[0;34m.\u001b[0m\u001b[0mloc\u001b[0m\u001b[0;34m.\u001b[0m\u001b[0m_get_listlike_indexer\u001b[0m\u001b[0;34m(\u001b[0m\u001b[0mkey\u001b[0m\u001b[0;34m,\u001b[0m \u001b[0maxis\u001b[0m\u001b[0;34m=\u001b[0m\u001b[0;36m1\u001b[0m\u001b[0;34m,\u001b[0m \u001b[0mraise_missing\u001b[0m\u001b[0;34m=\u001b[0m\u001b[0;32mTrue\u001b[0m\u001b[0;34m)\u001b[0m\u001b[0;34m[\u001b[0m\u001b[0;36m1\u001b[0m\u001b[0;34m]\u001b[0m\u001b[0;34m\u001b[0m\u001b[0;34m\u001b[0m\u001b[0m\n\u001b[0m\u001b[1;32m   2909\u001b[0m \u001b[0;34m\u001b[0m\u001b[0m\n\u001b[1;32m   2910\u001b[0m         \u001b[0;31m# take() does not accept boolean indexers\u001b[0m\u001b[0;34m\u001b[0m\u001b[0;34m\u001b[0m\u001b[0;34m\u001b[0m\u001b[0m\n",
            "\u001b[0;32m~/opt/anaconda3/lib/python3.8/site-packages/pandas/core/indexing.py\u001b[0m in \u001b[0;36m_get_listlike_indexer\u001b[0;34m(self, key, axis, raise_missing)\u001b[0m\n\u001b[1;32m   1252\u001b[0m             \u001b[0mkeyarr\u001b[0m\u001b[0;34m,\u001b[0m \u001b[0mindexer\u001b[0m\u001b[0;34m,\u001b[0m \u001b[0mnew_indexer\u001b[0m \u001b[0;34m=\u001b[0m \u001b[0max\u001b[0m\u001b[0;34m.\u001b[0m\u001b[0m_reindex_non_unique\u001b[0m\u001b[0;34m(\u001b[0m\u001b[0mkeyarr\u001b[0m\u001b[0;34m)\u001b[0m\u001b[0;34m\u001b[0m\u001b[0;34m\u001b[0m\u001b[0m\n\u001b[1;32m   1253\u001b[0m \u001b[0;34m\u001b[0m\u001b[0m\n\u001b[0;32m-> 1254\u001b[0;31m         \u001b[0mself\u001b[0m\u001b[0;34m.\u001b[0m\u001b[0m_validate_read_indexer\u001b[0m\u001b[0;34m(\u001b[0m\u001b[0mkeyarr\u001b[0m\u001b[0;34m,\u001b[0m \u001b[0mindexer\u001b[0m\u001b[0;34m,\u001b[0m \u001b[0maxis\u001b[0m\u001b[0;34m,\u001b[0m \u001b[0mraise_missing\u001b[0m\u001b[0;34m=\u001b[0m\u001b[0mraise_missing\u001b[0m\u001b[0;34m)\u001b[0m\u001b[0;34m\u001b[0m\u001b[0;34m\u001b[0m\u001b[0m\n\u001b[0m\u001b[1;32m   1255\u001b[0m         \u001b[0;32mreturn\u001b[0m \u001b[0mkeyarr\u001b[0m\u001b[0;34m,\u001b[0m \u001b[0mindexer\u001b[0m\u001b[0;34m\u001b[0m\u001b[0;34m\u001b[0m\u001b[0m\n\u001b[1;32m   1256\u001b[0m \u001b[0;34m\u001b[0m\u001b[0m\n",
            "\u001b[0;32m~/opt/anaconda3/lib/python3.8/site-packages/pandas/core/indexing.py\u001b[0m in \u001b[0;36m_validate_read_indexer\u001b[0;34m(self, key, indexer, axis, raise_missing)\u001b[0m\n\u001b[1;32m   1302\u001b[0m             \u001b[0;32mif\u001b[0m \u001b[0mraise_missing\u001b[0m\u001b[0;34m:\u001b[0m\u001b[0;34m\u001b[0m\u001b[0;34m\u001b[0m\u001b[0m\n\u001b[1;32m   1303\u001b[0m                 \u001b[0mnot_found\u001b[0m \u001b[0;34m=\u001b[0m \u001b[0mlist\u001b[0m\u001b[0;34m(\u001b[0m\u001b[0mset\u001b[0m\u001b[0;34m(\u001b[0m\u001b[0mkey\u001b[0m\u001b[0;34m)\u001b[0m \u001b[0;34m-\u001b[0m \u001b[0mset\u001b[0m\u001b[0;34m(\u001b[0m\u001b[0max\u001b[0m\u001b[0;34m)\u001b[0m\u001b[0;34m)\u001b[0m\u001b[0;34m\u001b[0m\u001b[0;34m\u001b[0m\u001b[0m\n\u001b[0;32m-> 1304\u001b[0;31m                 \u001b[0;32mraise\u001b[0m \u001b[0mKeyError\u001b[0m\u001b[0;34m(\u001b[0m\u001b[0;34mf\"{not_found} not in index\"\u001b[0m\u001b[0;34m)\u001b[0m\u001b[0;34m\u001b[0m\u001b[0;34m\u001b[0m\u001b[0m\n\u001b[0m\u001b[1;32m   1305\u001b[0m \u001b[0;34m\u001b[0m\u001b[0m\n\u001b[1;32m   1306\u001b[0m             \u001b[0;31m# we skip the warning on Categorical\u001b[0m\u001b[0;34m\u001b[0m\u001b[0;34m\u001b[0m\u001b[0;34m\u001b[0m\u001b[0m\n",
            "\u001b[0;31mKeyError\u001b[0m: \"['Country_Name', 'Market_Year', 'Month', 'Commodity_Description'] not in index\""
          ]
        }
      ],
      "source": [
        "cols_to_keep = [\"Commodity_Description\", \"Market_Year\", \"Month\", \"Country_Name\",\n",
        "           \"Beginning Stocks\", \"Ending Stocks\", \"Imports\", \"Exports\", \n",
        "           \"Area Harvested\", \"Yield\", \"Production\", \"Domestic Consumption\"]\n",
        "usda_pivot_reset[cols_to_keep].to_csv(out_path + \"usda_data.csv\")"
      ]
    },
    {
      "cell_type": "code",
      "execution_count": null,
      "metadata": {},
      "outputs": [],
      "source": []
    }
  ]
}