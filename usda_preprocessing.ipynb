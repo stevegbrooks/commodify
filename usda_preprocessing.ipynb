{
  "nbformat": 4,
  "nbformat_minor": 0,
  "metadata": {
    "colab": {
      "name": "preprocessing.ipynb",
      "provenance": [],
      "collapsed_sections": [],
      "authorship_tag": "ABX9TyPKIM6ucLj/6sqOeQOs6Mne",
      "include_colab_link": true
    },
    "kernelspec": {
      "name": "python3",
      "display_name": "Python 3",
      "language": "python"
    }
  },
  "cells": [
    {
      "cell_type": "markdown",
      "metadata": {
        "id": "view-in-github",
        "colab_type": "text"
      },
      "source": [
        "<a href=\"https://colab.research.google.com/github/stevegbrooks/commodify/blob/preprocessing/usda_preprocessing.ipynb\" target=\"_parent\"><img src=\"https://colab.research.google.com/assets/colab-badge.svg\" alt=\"Open In Colab\"/></a>"
      ]
    },
    {
      "cell_type": "code",
      "metadata": {
        "id": "sbZZ3AnrBJ9g"
      },
      "source": [
        "import requests, zipfile, io\n",
        "import pandas as pd"
      ],
      "execution_count": 1,
      "outputs": []
    },
    {
      "cell_type": "markdown",
      "metadata": {
        "id": "_xFENRmaA_4u"
      },
      "source": [
        "## Process commodities data from USDA"
      ]
    },
    {
      "cell_type": "code",
      "metadata": {
        "id": "G8k9nULSBEGf",
        "colab": {
          "base_uri": "https://localhost:8080/",
          "height": 204
        },
        "outputId": "ef2d55cf-734a-4869-e506-4beb0aafe27e"
      },
      "source": [
        "zip_url = \"https://apps.fas.usda.gov/psdonline/downloads/psd_alldata_csv.zip\"\n",
        "\n",
        "r = requests.get(zip_url)\n",
        "if r.ok:\n",
        "  z = zipfile.ZipFile(io.BytesIO(r.content))\n",
        "  usda_data = pd.read_csv(z.open('psd_alldata.csv'))\n",
        "\n",
        "usda_data.head(n=5)"
      ],
      "execution_count": 23,
      "outputs": [
        {
          "output_type": "execute_result",
          "data": {
            "text/plain": [
              "   Commodity_Code   Commodity_Description Country_Code Country_Name  \\\n",
              "0          577400  Almonds, Shelled Basis           AF  Afghanistan   \n",
              "1          577400  Almonds, Shelled Basis           AF  Afghanistan   \n",
              "2          577400  Almonds, Shelled Basis           AF  Afghanistan   \n",
              "3          577400  Almonds, Shelled Basis           AF  Afghanistan   \n",
              "4          577400  Almonds, Shelled Basis           AF  Afghanistan   \n",
              "\n",
              "   Market_Year  Calendar_Year  Month  Attribute_ID Attribute_Description  \\\n",
              "0         2010           2018     10            20      Beginning Stocks   \n",
              "1         2010           2018     10           125  Domestic Consumption   \n",
              "2         2010           2018     10           176         Ending Stocks   \n",
              "3         2010           2018     10            88               Exports   \n",
              "4         2010           2018     10            57               Imports   \n",
              "\n",
              "   Unit_ID Unit_Description  Value  \n",
              "0       21             (MT)    0.0  \n",
              "1       21             (MT)    0.0  \n",
              "2       21             (MT)    0.0  \n",
              "3       21             (MT)    0.0  \n",
              "4       21             (MT)    0.0  "
            ],
            "text/html": "<div>\n<style scoped>\n    .dataframe tbody tr th:only-of-type {\n        vertical-align: middle;\n    }\n\n    .dataframe tbody tr th {\n        vertical-align: top;\n    }\n\n    .dataframe thead th {\n        text-align: right;\n    }\n</style>\n<table border=\"1\" class=\"dataframe\">\n  <thead>\n    <tr style=\"text-align: right;\">\n      <th></th>\n      <th>Commodity_Code</th>\n      <th>Commodity_Description</th>\n      <th>Country_Code</th>\n      <th>Country_Name</th>\n      <th>Market_Year</th>\n      <th>Calendar_Year</th>\n      <th>Month</th>\n      <th>Attribute_ID</th>\n      <th>Attribute_Description</th>\n      <th>Unit_ID</th>\n      <th>Unit_Description</th>\n      <th>Value</th>\n    </tr>\n  </thead>\n  <tbody>\n    <tr>\n      <th>0</th>\n      <td>577400</td>\n      <td>Almonds, Shelled Basis</td>\n      <td>AF</td>\n      <td>Afghanistan</td>\n      <td>2010</td>\n      <td>2018</td>\n      <td>10</td>\n      <td>20</td>\n      <td>Beginning Stocks</td>\n      <td>21</td>\n      <td>(MT)</td>\n      <td>0.0</td>\n    </tr>\n    <tr>\n      <th>1</th>\n      <td>577400</td>\n      <td>Almonds, Shelled Basis</td>\n      <td>AF</td>\n      <td>Afghanistan</td>\n      <td>2010</td>\n      <td>2018</td>\n      <td>10</td>\n      <td>125</td>\n      <td>Domestic Consumption</td>\n      <td>21</td>\n      <td>(MT)</td>\n      <td>0.0</td>\n    </tr>\n    <tr>\n      <th>2</th>\n      <td>577400</td>\n      <td>Almonds, Shelled Basis</td>\n      <td>AF</td>\n      <td>Afghanistan</td>\n      <td>2010</td>\n      <td>2018</td>\n      <td>10</td>\n      <td>176</td>\n      <td>Ending Stocks</td>\n      <td>21</td>\n      <td>(MT)</td>\n      <td>0.0</td>\n    </tr>\n    <tr>\n      <th>3</th>\n      <td>577400</td>\n      <td>Almonds, Shelled Basis</td>\n      <td>AF</td>\n      <td>Afghanistan</td>\n      <td>2010</td>\n      <td>2018</td>\n      <td>10</td>\n      <td>88</td>\n      <td>Exports</td>\n      <td>21</td>\n      <td>(MT)</td>\n      <td>0.0</td>\n    </tr>\n    <tr>\n      <th>4</th>\n      <td>577400</td>\n      <td>Almonds, Shelled Basis</td>\n      <td>AF</td>\n      <td>Afghanistan</td>\n      <td>2010</td>\n      <td>2018</td>\n      <td>10</td>\n      <td>57</td>\n      <td>Imports</td>\n      <td>21</td>\n      <td>(MT)</td>\n      <td>0.0</td>\n    </tr>\n  </tbody>\n</table>\n</div>"
          },
          "metadata": {},
          "execution_count": 23
        }
      ]
    },
    {
      "source": [
        "### Deal with null values"
      ],
      "cell_type": "markdown",
      "metadata": {}
    },
    {
      "source": [
        "usda_data.isnull().values.any()"
      ],
      "cell_type": "code",
      "metadata": {},
      "execution_count": 24,
      "outputs": [
        {
          "output_type": "execute_result",
          "data": {
            "text/plain": [
              "True"
            ]
          },
          "metadata": {},
          "execution_count": 24
        }
      ]
    },
    {
      "source": [
        "It looks like only the `Country_Code` column has `NaN`. \n"
      ],
      "cell_type": "markdown",
      "metadata": {}
    },
    {
      "cell_type": "code",
      "execution_count": 25,
      "metadata": {},
      "outputs": [
        {
          "output_type": "execute_result",
          "data": {
            "text/plain": [
              "         Commodity_Code Commodity_Description Country_Code  \\\n",
              "716727           813100         Meal, Soybean          NaN   \n",
              "716728           813100         Meal, Soybean          NaN   \n",
              "716729           813100         Meal, Soybean          NaN   \n",
              "716730           813100         Meal, Soybean          NaN   \n",
              "716731           813100         Meal, Soybean          NaN   \n",
              "...                 ...                   ...          ...   \n",
              "1726314          612000    Sugar, Centrifugal          NaN   \n",
              "1726315          612000    Sugar, Centrifugal          NaN   \n",
              "1726316          612000    Sugar, Centrifugal          NaN   \n",
              "1726317          612000    Sugar, Centrifugal          NaN   \n",
              "1726318          612000    Sugar, Centrifugal          NaN   \n",
              "\n",
              "                 Country_Name  Market_Year  Calendar_Year  Month  \\\n",
              "716727   Netherlands Antilles         1976           2006      6   \n",
              "716728   Netherlands Antilles         1976           2006      6   \n",
              "716729   Netherlands Antilles         1976           2006      6   \n",
              "716730   Netherlands Antilles         1976           2006      6   \n",
              "716731   Netherlands Antilles         1976           2006      6   \n",
              "...                       ...          ...            ...    ...   \n",
              "1726314  Netherlands Antilles         2021           2020     11   \n",
              "1726315  Netherlands Antilles         2021           2020     11   \n",
              "1726316  Netherlands Antilles         2021           2020     11   \n",
              "1726317  Netherlands Antilles         2021           2020     11   \n",
              "1726318  Netherlands Antilles         2021           2020     11   \n",
              "\n",
              "         Attribute_ID  Attribute_Description  Unit_ID Unit_Description  Value  \n",
              "716727             20       Beginning Stocks        8        (1000 MT)    0.0  \n",
              "716728              7                  Crush        8        (1000 MT)    0.0  \n",
              "716729            125   Domestic Consumption        8        (1000 MT)    1.0  \n",
              "716730            176          Ending Stocks        8        (1000 MT)    0.0  \n",
              "716731             88                Exports        8        (1000 MT)    0.0  \n",
              "...               ...                    ...      ...              ...    ...  \n",
              "1726314            99  Refined Exp.(Raw Val)        8        (1000 MT)    0.0  \n",
              "1726315            74  Refined Imp.(Raw Val)        8        (1000 MT)    0.0  \n",
              "1726316           126    Total Disappearance        8        (1000 MT)    0.0  \n",
              "1726317           178     Total Distribution        8        (1000 MT)    0.0  \n",
              "1726318            86           Total Supply        8        (1000 MT)    0.0  \n",
              "\n",
              "[1004 rows x 12 columns]"
            ],
            "text/html": "<div>\n<style scoped>\n    .dataframe tbody tr th:only-of-type {\n        vertical-align: middle;\n    }\n\n    .dataframe tbody tr th {\n        vertical-align: top;\n    }\n\n    .dataframe thead th {\n        text-align: right;\n    }\n</style>\n<table border=\"1\" class=\"dataframe\">\n  <thead>\n    <tr style=\"text-align: right;\">\n      <th></th>\n      <th>Commodity_Code</th>\n      <th>Commodity_Description</th>\n      <th>Country_Code</th>\n      <th>Country_Name</th>\n      <th>Market_Year</th>\n      <th>Calendar_Year</th>\n      <th>Month</th>\n      <th>Attribute_ID</th>\n      <th>Attribute_Description</th>\n      <th>Unit_ID</th>\n      <th>Unit_Description</th>\n      <th>Value</th>\n    </tr>\n  </thead>\n  <tbody>\n    <tr>\n      <th>716727</th>\n      <td>813100</td>\n      <td>Meal, Soybean</td>\n      <td>NaN</td>\n      <td>Netherlands Antilles</td>\n      <td>1976</td>\n      <td>2006</td>\n      <td>6</td>\n      <td>20</td>\n      <td>Beginning Stocks</td>\n      <td>8</td>\n      <td>(1000 MT)</td>\n      <td>0.0</td>\n    </tr>\n    <tr>\n      <th>716728</th>\n      <td>813100</td>\n      <td>Meal, Soybean</td>\n      <td>NaN</td>\n      <td>Netherlands Antilles</td>\n      <td>1976</td>\n      <td>2006</td>\n      <td>6</td>\n      <td>7</td>\n      <td>Crush</td>\n      <td>8</td>\n      <td>(1000 MT)</td>\n      <td>0.0</td>\n    </tr>\n    <tr>\n      <th>716729</th>\n      <td>813100</td>\n      <td>Meal, Soybean</td>\n      <td>NaN</td>\n      <td>Netherlands Antilles</td>\n      <td>1976</td>\n      <td>2006</td>\n      <td>6</td>\n      <td>125</td>\n      <td>Domestic Consumption</td>\n      <td>8</td>\n      <td>(1000 MT)</td>\n      <td>1.0</td>\n    </tr>\n    <tr>\n      <th>716730</th>\n      <td>813100</td>\n      <td>Meal, Soybean</td>\n      <td>NaN</td>\n      <td>Netherlands Antilles</td>\n      <td>1976</td>\n      <td>2006</td>\n      <td>6</td>\n      <td>176</td>\n      <td>Ending Stocks</td>\n      <td>8</td>\n      <td>(1000 MT)</td>\n      <td>0.0</td>\n    </tr>\n    <tr>\n      <th>716731</th>\n      <td>813100</td>\n      <td>Meal, Soybean</td>\n      <td>NaN</td>\n      <td>Netherlands Antilles</td>\n      <td>1976</td>\n      <td>2006</td>\n      <td>6</td>\n      <td>88</td>\n      <td>Exports</td>\n      <td>8</td>\n      <td>(1000 MT)</td>\n      <td>0.0</td>\n    </tr>\n    <tr>\n      <th>...</th>\n      <td>...</td>\n      <td>...</td>\n      <td>...</td>\n      <td>...</td>\n      <td>...</td>\n      <td>...</td>\n      <td>...</td>\n      <td>...</td>\n      <td>...</td>\n      <td>...</td>\n      <td>...</td>\n      <td>...</td>\n    </tr>\n    <tr>\n      <th>1726314</th>\n      <td>612000</td>\n      <td>Sugar, Centrifugal</td>\n      <td>NaN</td>\n      <td>Netherlands Antilles</td>\n      <td>2021</td>\n      <td>2020</td>\n      <td>11</td>\n      <td>99</td>\n      <td>Refined Exp.(Raw Val)</td>\n      <td>8</td>\n      <td>(1000 MT)</td>\n      <td>0.0</td>\n    </tr>\n    <tr>\n      <th>1726315</th>\n      <td>612000</td>\n      <td>Sugar, Centrifugal</td>\n      <td>NaN</td>\n      <td>Netherlands Antilles</td>\n      <td>2021</td>\n      <td>2020</td>\n      <td>11</td>\n      <td>74</td>\n      <td>Refined Imp.(Raw Val)</td>\n      <td>8</td>\n      <td>(1000 MT)</td>\n      <td>0.0</td>\n    </tr>\n    <tr>\n      <th>1726316</th>\n      <td>612000</td>\n      <td>Sugar, Centrifugal</td>\n      <td>NaN</td>\n      <td>Netherlands Antilles</td>\n      <td>2021</td>\n      <td>2020</td>\n      <td>11</td>\n      <td>126</td>\n      <td>Total Disappearance</td>\n      <td>8</td>\n      <td>(1000 MT)</td>\n      <td>0.0</td>\n    </tr>\n    <tr>\n      <th>1726317</th>\n      <td>612000</td>\n      <td>Sugar, Centrifugal</td>\n      <td>NaN</td>\n      <td>Netherlands Antilles</td>\n      <td>2021</td>\n      <td>2020</td>\n      <td>11</td>\n      <td>178</td>\n      <td>Total Distribution</td>\n      <td>8</td>\n      <td>(1000 MT)</td>\n      <td>0.0</td>\n    </tr>\n    <tr>\n      <th>1726318</th>\n      <td>612000</td>\n      <td>Sugar, Centrifugal</td>\n      <td>NaN</td>\n      <td>Netherlands Antilles</td>\n      <td>2021</td>\n      <td>2020</td>\n      <td>11</td>\n      <td>86</td>\n      <td>Total Supply</td>\n      <td>8</td>\n      <td>(1000 MT)</td>\n      <td>0.0</td>\n    </tr>\n  </tbody>\n</table>\n<p>1004 rows × 12 columns</p>\n</div>"
          },
          "metadata": {},
          "execution_count": 25
        }
      ],
      "source": [
        "usda_data[usda_data.isnull().any(axis=1)]"
      ]
    },
    {
      "source": [
        "Lets check which values for `Country_Name` don't have a `Country_Code`"
      ],
      "cell_type": "markdown",
      "metadata": {}
    },
    {
      "cell_type": "code",
      "execution_count": 26,
      "metadata": {},
      "outputs": [
        {
          "output_type": "execute_result",
          "data": {
            "text/plain": [
              "array(['Netherlands Antilles'], dtype=object)"
            ]
          },
          "metadata": {},
          "execution_count": 26
        }
      ],
      "source": [
        "usda_data[usda_data.isnull().any(axis=1)][\"Country_Name\"].unique()"
      ]
    },
    {
      "source": [
        "Before gaining indepedence in 2010, these islands were part of the Netherlands, so we'll consider their agricultural output to be part of the Netherlands as well."
      ],
      "cell_type": "markdown",
      "metadata": {}
    },
    {
      "cell_type": "code",
      "execution_count": 27,
      "metadata": {},
      "outputs": [
        {
          "output_type": "execute_result",
          "data": {
            "text/plain": [
              "array(['NL'], dtype=object)"
            ]
          },
          "metadata": {},
          "execution_count": 27
        }
      ],
      "source": [
        "usda_data[usda_data[\"Country_Name\"] == \"Netherlands\"][\"Country_Code\"].unique()"
      ]
    },
    {
      "cell_type": "code",
      "execution_count": 33,
      "metadata": {},
      "outputs": [],
      "source": [
        "usda_data.loc[usda_data.Country_Name == \"Netherlands Antilles\", 'Country_Code'] = \"NL\""
      ]
    },
    {
      "source": [
        "Check to make sure it worked."
      ],
      "cell_type": "markdown",
      "metadata": {}
    },
    {
      "cell_type": "code",
      "execution_count": 34,
      "metadata": {},
      "outputs": [
        {
          "output_type": "execute_result",
          "data": {
            "text/plain": [
              "False"
            ]
          },
          "metadata": {},
          "execution_count": 34
        }
      ],
      "source": [
        "usda_data.isnull().values.any()"
      ]
    },
    {
      "source": [
        "### Clean up the `Commodity_Description` column"
      ],
      "cell_type": "markdown",
      "metadata": {}
    },
    {
      "cell_type": "code",
      "execution_count": null,
      "metadata": {},
      "outputs": [],
      "source": []
    }
  ]
}