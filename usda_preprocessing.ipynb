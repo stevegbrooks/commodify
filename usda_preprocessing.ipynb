{
  "nbformat": 4,
  "nbformat_minor": 0,
  "metadata": {
    "colab": {
      "name": "preprocessing.ipynb",
      "provenance": [],
      "collapsed_sections": [],
      "authorship_tag": "ABX9TyPKIM6ucLj/6sqOeQOs6Mne",
      "include_colab_link": true
    },
    "kernelspec": {
      "name": "python3",
      "display_name": "Python 3",
      "language": "python"
    }
  },
  "cells": [
    {
      "cell_type": "markdown",
      "metadata": {
        "id": "view-in-github",
        "colab_type": "text"
      },
      "source": [
        "<a href=\"https://colab.research.google.com/github/stevegbrooks/commodify/blob/preprocessing/usda_preprocessing.ipynb\" target=\"_parent\"><img src=\"https://colab.research.google.com/assets/colab-badge.svg\" alt=\"Open In Colab\"/></a>"
      ]
    },
    {
      "cell_type": "code",
      "metadata": {
        "id": "sbZZ3AnrBJ9g"
      },
      "source": [
        "import requests, zipfile, io\n",
        "import pandas as pd\n",
        "import numpy as np\n",
        "out_path = \"~/CIS550/commodify/data/\""
      ],
      "execution_count": 30,
      "outputs": []
    },
    {
      "cell_type": "markdown",
      "metadata": {
        "id": "_xFENRmaA_4u"
      },
      "source": [
        "## Process commodities data from USDA"
      ]
    },
    {
      "cell_type": "code",
      "metadata": {
        "id": "G8k9nULSBEGf",
        "colab": {
          "base_uri": "https://localhost:8080/",
          "height": 204
        },
        "outputId": "ef2d55cf-734a-4869-e506-4beb0aafe27e"
      },
      "source": [
        "zip_url = \"https://apps.fas.usda.gov/psdonline/downloads/psd_alldata_csv.zip\"\n",
        "\n",
        "r = requests.get(zip_url)\n",
        "if r.ok:\n",
        "  z = zipfile.ZipFile(io.BytesIO(r.content))\n",
        "  usda_data = pd.read_csv(z.open('psd_alldata.csv'))\n",
        "\n",
        "usda_data.head(n=5)"
      ],
      "execution_count": 2,
      "outputs": [
        {
          "output_type": "execute_result",
          "data": {
            "text/plain": [
              "   Commodity_Code   Commodity_Description Country_Code Country_Name  \\\n",
              "0          577400  Almonds, Shelled Basis           AF  Afghanistan   \n",
              "1          577400  Almonds, Shelled Basis           AF  Afghanistan   \n",
              "2          577400  Almonds, Shelled Basis           AF  Afghanistan   \n",
              "3          577400  Almonds, Shelled Basis           AF  Afghanistan   \n",
              "4          577400  Almonds, Shelled Basis           AF  Afghanistan   \n",
              "\n",
              "   Market_Year  Calendar_Year  Month  Attribute_ID Attribute_Description  \\\n",
              "0         2010           2018     10            20      Beginning Stocks   \n",
              "1         2010           2018     10           125  Domestic Consumption   \n",
              "2         2010           2018     10           176         Ending Stocks   \n",
              "3         2010           2018     10            88               Exports   \n",
              "4         2010           2018     10            57               Imports   \n",
              "\n",
              "   Unit_ID Unit_Description  Value  \n",
              "0       21             (MT)    0.0  \n",
              "1       21             (MT)    0.0  \n",
              "2       21             (MT)    0.0  \n",
              "3       21             (MT)    0.0  \n",
              "4       21             (MT)    0.0  "
            ],
            "text/html": "<div>\n<style scoped>\n    .dataframe tbody tr th:only-of-type {\n        vertical-align: middle;\n    }\n\n    .dataframe tbody tr th {\n        vertical-align: top;\n    }\n\n    .dataframe thead th {\n        text-align: right;\n    }\n</style>\n<table border=\"1\" class=\"dataframe\">\n  <thead>\n    <tr style=\"text-align: right;\">\n      <th></th>\n      <th>Commodity_Code</th>\n      <th>Commodity_Description</th>\n      <th>Country_Code</th>\n      <th>Country_Name</th>\n      <th>Market_Year</th>\n      <th>Calendar_Year</th>\n      <th>Month</th>\n      <th>Attribute_ID</th>\n      <th>Attribute_Description</th>\n      <th>Unit_ID</th>\n      <th>Unit_Description</th>\n      <th>Value</th>\n    </tr>\n  </thead>\n  <tbody>\n    <tr>\n      <th>0</th>\n      <td>577400</td>\n      <td>Almonds, Shelled Basis</td>\n      <td>AF</td>\n      <td>Afghanistan</td>\n      <td>2010</td>\n      <td>2018</td>\n      <td>10</td>\n      <td>20</td>\n      <td>Beginning Stocks</td>\n      <td>21</td>\n      <td>(MT)</td>\n      <td>0.0</td>\n    </tr>\n    <tr>\n      <th>1</th>\n      <td>577400</td>\n      <td>Almonds, Shelled Basis</td>\n      <td>AF</td>\n      <td>Afghanistan</td>\n      <td>2010</td>\n      <td>2018</td>\n      <td>10</td>\n      <td>125</td>\n      <td>Domestic Consumption</td>\n      <td>21</td>\n      <td>(MT)</td>\n      <td>0.0</td>\n    </tr>\n    <tr>\n      <th>2</th>\n      <td>577400</td>\n      <td>Almonds, Shelled Basis</td>\n      <td>AF</td>\n      <td>Afghanistan</td>\n      <td>2010</td>\n      <td>2018</td>\n      <td>10</td>\n      <td>176</td>\n      <td>Ending Stocks</td>\n      <td>21</td>\n      <td>(MT)</td>\n      <td>0.0</td>\n    </tr>\n    <tr>\n      <th>3</th>\n      <td>577400</td>\n      <td>Almonds, Shelled Basis</td>\n      <td>AF</td>\n      <td>Afghanistan</td>\n      <td>2010</td>\n      <td>2018</td>\n      <td>10</td>\n      <td>88</td>\n      <td>Exports</td>\n      <td>21</td>\n      <td>(MT)</td>\n      <td>0.0</td>\n    </tr>\n    <tr>\n      <th>4</th>\n      <td>577400</td>\n      <td>Almonds, Shelled Basis</td>\n      <td>AF</td>\n      <td>Afghanistan</td>\n      <td>2010</td>\n      <td>2018</td>\n      <td>10</td>\n      <td>57</td>\n      <td>Imports</td>\n      <td>21</td>\n      <td>(MT)</td>\n      <td>0.0</td>\n    </tr>\n  </tbody>\n</table>\n</div>"
          },
          "metadata": {},
          "execution_count": 2
        }
      ]
    },
    {
      "source": [
        "### Deal with null values"
      ],
      "cell_type": "markdown",
      "metadata": {}
    },
    {
      "source": [
        "usda_data.isnull().values.any()"
      ],
      "cell_type": "code",
      "metadata": {},
      "execution_count": 3,
      "outputs": [
        {
          "output_type": "execute_result",
          "data": {
            "text/plain": [
              "True"
            ]
          },
          "metadata": {},
          "execution_count": 3
        }
      ]
    },
    {
      "source": [
        "It looks like only the `Country_Code` column has `NaN`. \n"
      ],
      "cell_type": "markdown",
      "metadata": {}
    },
    {
      "cell_type": "code",
      "execution_count": 4,
      "metadata": {},
      "outputs": [
        {
          "output_type": "execute_result",
          "data": {
            "text/plain": [
              "         Commodity_Code Commodity_Description Country_Code  \\\n",
              "716727           813100         Meal, Soybean          NaN   \n",
              "716728           813100         Meal, Soybean          NaN   \n",
              "716729           813100         Meal, Soybean          NaN   \n",
              "716730           813100         Meal, Soybean          NaN   \n",
              "716731           813100         Meal, Soybean          NaN   \n",
              "...                 ...                   ...          ...   \n",
              "1726314          612000    Sugar, Centrifugal          NaN   \n",
              "1726315          612000    Sugar, Centrifugal          NaN   \n",
              "1726316          612000    Sugar, Centrifugal          NaN   \n",
              "1726317          612000    Sugar, Centrifugal          NaN   \n",
              "1726318          612000    Sugar, Centrifugal          NaN   \n",
              "\n",
              "                 Country_Name  Market_Year  Calendar_Year  Month  \\\n",
              "716727   Netherlands Antilles         1976           2006      6   \n",
              "716728   Netherlands Antilles         1976           2006      6   \n",
              "716729   Netherlands Antilles         1976           2006      6   \n",
              "716730   Netherlands Antilles         1976           2006      6   \n",
              "716731   Netherlands Antilles         1976           2006      6   \n",
              "...                       ...          ...            ...    ...   \n",
              "1726314  Netherlands Antilles         2021           2020     11   \n",
              "1726315  Netherlands Antilles         2021           2020     11   \n",
              "1726316  Netherlands Antilles         2021           2020     11   \n",
              "1726317  Netherlands Antilles         2021           2020     11   \n",
              "1726318  Netherlands Antilles         2021           2020     11   \n",
              "\n",
              "         Attribute_ID  Attribute_Description  Unit_ID Unit_Description  Value  \n",
              "716727             20       Beginning Stocks        8        (1000 MT)    0.0  \n",
              "716728              7                  Crush        8        (1000 MT)    0.0  \n",
              "716729            125   Domestic Consumption        8        (1000 MT)    1.0  \n",
              "716730            176          Ending Stocks        8        (1000 MT)    0.0  \n",
              "716731             88                Exports        8        (1000 MT)    0.0  \n",
              "...               ...                    ...      ...              ...    ...  \n",
              "1726314            99  Refined Exp.(Raw Val)        8        (1000 MT)    0.0  \n",
              "1726315            74  Refined Imp.(Raw Val)        8        (1000 MT)    0.0  \n",
              "1726316           126    Total Disappearance        8        (1000 MT)    0.0  \n",
              "1726317           178     Total Distribution        8        (1000 MT)    0.0  \n",
              "1726318            86           Total Supply        8        (1000 MT)    0.0  \n",
              "\n",
              "[1004 rows x 12 columns]"
            ],
            "text/html": "<div>\n<style scoped>\n    .dataframe tbody tr th:only-of-type {\n        vertical-align: middle;\n    }\n\n    .dataframe tbody tr th {\n        vertical-align: top;\n    }\n\n    .dataframe thead th {\n        text-align: right;\n    }\n</style>\n<table border=\"1\" class=\"dataframe\">\n  <thead>\n    <tr style=\"text-align: right;\">\n      <th></th>\n      <th>Commodity_Code</th>\n      <th>Commodity_Description</th>\n      <th>Country_Code</th>\n      <th>Country_Name</th>\n      <th>Market_Year</th>\n      <th>Calendar_Year</th>\n      <th>Month</th>\n      <th>Attribute_ID</th>\n      <th>Attribute_Description</th>\n      <th>Unit_ID</th>\n      <th>Unit_Description</th>\n      <th>Value</th>\n    </tr>\n  </thead>\n  <tbody>\n    <tr>\n      <th>716727</th>\n      <td>813100</td>\n      <td>Meal, Soybean</td>\n      <td>NaN</td>\n      <td>Netherlands Antilles</td>\n      <td>1976</td>\n      <td>2006</td>\n      <td>6</td>\n      <td>20</td>\n      <td>Beginning Stocks</td>\n      <td>8</td>\n      <td>(1000 MT)</td>\n      <td>0.0</td>\n    </tr>\n    <tr>\n      <th>716728</th>\n      <td>813100</td>\n      <td>Meal, Soybean</td>\n      <td>NaN</td>\n      <td>Netherlands Antilles</td>\n      <td>1976</td>\n      <td>2006</td>\n      <td>6</td>\n      <td>7</td>\n      <td>Crush</td>\n      <td>8</td>\n      <td>(1000 MT)</td>\n      <td>0.0</td>\n    </tr>\n    <tr>\n      <th>716729</th>\n      <td>813100</td>\n      <td>Meal, Soybean</td>\n      <td>NaN</td>\n      <td>Netherlands Antilles</td>\n      <td>1976</td>\n      <td>2006</td>\n      <td>6</td>\n      <td>125</td>\n      <td>Domestic Consumption</td>\n      <td>8</td>\n      <td>(1000 MT)</td>\n      <td>1.0</td>\n    </tr>\n    <tr>\n      <th>716730</th>\n      <td>813100</td>\n      <td>Meal, Soybean</td>\n      <td>NaN</td>\n      <td>Netherlands Antilles</td>\n      <td>1976</td>\n      <td>2006</td>\n      <td>6</td>\n      <td>176</td>\n      <td>Ending Stocks</td>\n      <td>8</td>\n      <td>(1000 MT)</td>\n      <td>0.0</td>\n    </tr>\n    <tr>\n      <th>716731</th>\n      <td>813100</td>\n      <td>Meal, Soybean</td>\n      <td>NaN</td>\n      <td>Netherlands Antilles</td>\n      <td>1976</td>\n      <td>2006</td>\n      <td>6</td>\n      <td>88</td>\n      <td>Exports</td>\n      <td>8</td>\n      <td>(1000 MT)</td>\n      <td>0.0</td>\n    </tr>\n    <tr>\n      <th>...</th>\n      <td>...</td>\n      <td>...</td>\n      <td>...</td>\n      <td>...</td>\n      <td>...</td>\n      <td>...</td>\n      <td>...</td>\n      <td>...</td>\n      <td>...</td>\n      <td>...</td>\n      <td>...</td>\n      <td>...</td>\n    </tr>\n    <tr>\n      <th>1726314</th>\n      <td>612000</td>\n      <td>Sugar, Centrifugal</td>\n      <td>NaN</td>\n      <td>Netherlands Antilles</td>\n      <td>2021</td>\n      <td>2020</td>\n      <td>11</td>\n      <td>99</td>\n      <td>Refined Exp.(Raw Val)</td>\n      <td>8</td>\n      <td>(1000 MT)</td>\n      <td>0.0</td>\n    </tr>\n    <tr>\n      <th>1726315</th>\n      <td>612000</td>\n      <td>Sugar, Centrifugal</td>\n      <td>NaN</td>\n      <td>Netherlands Antilles</td>\n      <td>2021</td>\n      <td>2020</td>\n      <td>11</td>\n      <td>74</td>\n      <td>Refined Imp.(Raw Val)</td>\n      <td>8</td>\n      <td>(1000 MT)</td>\n      <td>0.0</td>\n    </tr>\n    <tr>\n      <th>1726316</th>\n      <td>612000</td>\n      <td>Sugar, Centrifugal</td>\n      <td>NaN</td>\n      <td>Netherlands Antilles</td>\n      <td>2021</td>\n      <td>2020</td>\n      <td>11</td>\n      <td>126</td>\n      <td>Total Disappearance</td>\n      <td>8</td>\n      <td>(1000 MT)</td>\n      <td>0.0</td>\n    </tr>\n    <tr>\n      <th>1726317</th>\n      <td>612000</td>\n      <td>Sugar, Centrifugal</td>\n      <td>NaN</td>\n      <td>Netherlands Antilles</td>\n      <td>2021</td>\n      <td>2020</td>\n      <td>11</td>\n      <td>178</td>\n      <td>Total Distribution</td>\n      <td>8</td>\n      <td>(1000 MT)</td>\n      <td>0.0</td>\n    </tr>\n    <tr>\n      <th>1726318</th>\n      <td>612000</td>\n      <td>Sugar, Centrifugal</td>\n      <td>NaN</td>\n      <td>Netherlands Antilles</td>\n      <td>2021</td>\n      <td>2020</td>\n      <td>11</td>\n      <td>86</td>\n      <td>Total Supply</td>\n      <td>8</td>\n      <td>(1000 MT)</td>\n      <td>0.0</td>\n    </tr>\n  </tbody>\n</table>\n<p>1004 rows × 12 columns</p>\n</div>"
          },
          "metadata": {},
          "execution_count": 4
        }
      ],
      "source": [
        "usda_data[usda_data.isnull().any(axis=1)]"
      ]
    },
    {
      "source": [
        "Lets check which values for `Country_Name` don't have a `Country_Code`"
      ],
      "cell_type": "markdown",
      "metadata": {}
    },
    {
      "cell_type": "code",
      "execution_count": 5,
      "metadata": {},
      "outputs": [
        {
          "output_type": "execute_result",
          "data": {
            "text/plain": [
              "array(['Netherlands Antilles'], dtype=object)"
            ]
          },
          "metadata": {},
          "execution_count": 5
        }
      ],
      "source": [
        "usda_data[usda_data.isnull().any(axis=1)][\"Country_Name\"].unique()"
      ]
    },
    {
      "source": [
        "Before gaining indepedence in 2010, these islands were part of the Netherlands, but now the group of islands consists of smaller countries. \n",
        "\n",
        "We can just set the country code of Netherlands Antilles to the Netherlands' country code."
      ],
      "cell_type": "markdown",
      "metadata": {}
    },
    {
      "cell_type": "code",
      "execution_count": 6,
      "metadata": {},
      "outputs": [
        {
          "output_type": "execute_result",
          "data": {
            "text/plain": [
              "array(['NL'], dtype=object)"
            ]
          },
          "metadata": {},
          "execution_count": 6
        }
      ],
      "source": [
        "usda_data[usda_data[\"Country_Name\"] == \"Netherlands\"][\"Country_Code\"].unique()"
      ]
    },
    {
      "cell_type": "code",
      "execution_count": 9,
      "metadata": {},
      "outputs": [],
      "source": [
        "usda_data.loc[usda_data.Country_Name == \"Netherlands Antilles\", 'Country_Code'] = \"NL\""
      ]
    },
    {
      "source": [
        "Check to make sure it worked."
      ],
      "cell_type": "markdown",
      "metadata": {}
    },
    {
      "cell_type": "code",
      "execution_count": 10,
      "metadata": {},
      "outputs": [
        {
          "output_type": "execute_result",
          "data": {
            "text/plain": [
              "False"
            ]
          },
          "metadata": {},
          "execution_count": 10
        }
      ],
      "source": [
        "usda_data.isnull().values.any()"
      ]
    },
    {
      "source": [
        "## Reshape from long to wide"
      ],
      "cell_type": "markdown",
      "metadata": {}
    },
    {
      "cell_type": "code",
      "execution_count": 15,
      "metadata": {},
      "outputs": [
        {
          "output_type": "execute_result",
          "data": {
            "text/plain": [
              "Attribute_Description                                  Annual % Change Per Cap. Cons.  \\\n",
              "Commodity_Description  Market_Year Month Country_Name                                   \n",
              "Almonds, Shelled Basis 1960        0     Iran                                     NaN   \n",
              "                                         Italy                                    NaN   \n",
              "                                         Morocco                                  NaN   \n",
              "                                         Portugal                                 NaN   \n",
              "                                         Spain                                    NaN   \n",
              "...                                                                               ...   \n",
              "Wheat                  2020        3     Venezuela                                NaN   \n",
              "                                         Vietnam                                  NaN   \n",
              "                                         Yemen                                    NaN   \n",
              "                                         Zambia                                   NaN   \n",
              "                                         Zimbabwe                                 NaN   \n",
              "\n",
              "Attribute_Description                                  Annual % Change Prod. To Sows  \\\n",
              "Commodity_Description  Market_Year Month Country_Name                                  \n",
              "Almonds, Shelled Basis 1960        0     Iran                                    NaN   \n",
              "                                         Italy                                   NaN   \n",
              "                                         Morocco                                 NaN   \n",
              "                                         Portugal                                NaN   \n",
              "                                         Spain                                   NaN   \n",
              "...                                                                              ...   \n",
              "Wheat                  2020        3     Venezuela                               NaN   \n",
              "                                         Vietnam                                 NaN   \n",
              "                                         Yemen                                   NaN   \n",
              "                                         Zambia                                  NaN   \n",
              "                                         Zimbabwe                                NaN   \n",
              "\n",
              "Attribute_Description                                  Arabica Production  \\\n",
              "Commodity_Description  Market_Year Month Country_Name                       \n",
              "Almonds, Shelled Basis 1960        0     Iran                         NaN   \n",
              "                                         Italy                        NaN   \n",
              "                                         Morocco                      NaN   \n",
              "                                         Portugal                     NaN   \n",
              "                                         Spain                        NaN   \n",
              "...                                                                   ...   \n",
              "Wheat                  2020        3     Venezuela                    NaN   \n",
              "                                         Vietnam                      NaN   \n",
              "                                         Yemen                        NaN   \n",
              "                                         Zambia                       NaN   \n",
              "                                         Zimbabwe                     NaN   \n",
              "\n",
              "Attribute_Description                                  Area Harvested  \\\n",
              "Commodity_Description  Market_Year Month Country_Name                   \n",
              "Almonds, Shelled Basis 1960        0     Iran                     NaN   \n",
              "                                         Italy                    NaN   \n",
              "                                         Morocco                  NaN   \n",
              "                                         Portugal                 NaN   \n",
              "                                         Spain                    NaN   \n",
              "...                                                               ...   \n",
              "Wheat                  2020        3     Venezuela                0.0   \n",
              "                                         Vietnam                  0.0   \n",
              "                                         Yemen                   95.0   \n",
              "                                         Zambia                  30.0   \n",
              "                                         Zimbabwe                63.0   \n",
              "\n",
              "Attribute_Description                                  Bean Exports  \\\n",
              "Commodity_Description  Market_Year Month Country_Name                 \n",
              "Almonds, Shelled Basis 1960        0     Iran                   NaN   \n",
              "                                         Italy                  NaN   \n",
              "                                         Morocco                NaN   \n",
              "                                         Portugal               NaN   \n",
              "                                         Spain                  NaN   \n",
              "...                                                             ...   \n",
              "Wheat                  2020        3     Venezuela              NaN   \n",
              "                                         Vietnam                NaN   \n",
              "                                         Yemen                  NaN   \n",
              "                                         Zambia                 NaN   \n",
              "                                         Zimbabwe               NaN   \n",
              "\n",
              "Attribute_Description                                  Bean Imports  \\\n",
              "Commodity_Description  Market_Year Month Country_Name                 \n",
              "Almonds, Shelled Basis 1960        0     Iran                   NaN   \n",
              "                                         Italy                  NaN   \n",
              "                                         Morocco                NaN   \n",
              "                                         Portugal               NaN   \n",
              "                                         Spain                  NaN   \n",
              "...                                                             ...   \n",
              "Wheat                  2020        3     Venezuela              NaN   \n",
              "                                         Vietnam                NaN   \n",
              "                                         Yemen                  NaN   \n",
              "                                         Zambia                 NaN   \n",
              "                                         Zimbabwe               NaN   \n",
              "\n",
              "Attribute_Description                                  Beef Cows Beg. Stocks  \\\n",
              "Commodity_Description  Market_Year Month Country_Name                          \n",
              "Almonds, Shelled Basis 1960        0     Iran                            NaN   \n",
              "                                         Italy                           NaN   \n",
              "                                         Morocco                         NaN   \n",
              "                                         Portugal                        NaN   \n",
              "                                         Spain                           NaN   \n",
              "...                                                                      ...   \n",
              "Wheat                  2020        3     Venezuela                       NaN   \n",
              "                                         Vietnam                         NaN   \n",
              "                                         Yemen                           NaN   \n",
              "                                         Zambia                          NaN   \n",
              "                                         Zimbabwe                        NaN   \n",
              "\n",
              "Attribute_Description                                  Beet Sugar Production  \\\n",
              "Commodity_Description  Market_Year Month Country_Name                          \n",
              "Almonds, Shelled Basis 1960        0     Iran                            NaN   \n",
              "                                         Italy                           NaN   \n",
              "                                         Morocco                         NaN   \n",
              "                                         Portugal                        NaN   \n",
              "                                         Spain                           NaN   \n",
              "...                                                                      ...   \n",
              "Wheat                  2020        3     Venezuela                       NaN   \n",
              "                                         Vietnam                         NaN   \n",
              "                                         Yemen                           NaN   \n",
              "                                         Zambia                          NaN   \n",
              "                                         Zimbabwe                        NaN   \n",
              "\n",
              "Attribute_Description                                  Beginning Stocks  \\\n",
              "Commodity_Description  Market_Year Month Country_Name                     \n",
              "Almonds, Shelled Basis 1960        0     Iran                       0.0   \n",
              "                                         Italy                      0.0   \n",
              "                                         Morocco                    0.0   \n",
              "                                         Portugal                   0.0   \n",
              "                                         Spain                      0.0   \n",
              "...                                                                 ...   \n",
              "Wheat                  2020        3     Venezuela                142.0   \n",
              "                                         Vietnam                  849.0   \n",
              "                                         Yemen                    564.0   \n",
              "                                         Zambia                    18.0   \n",
              "                                         Zimbabwe                  41.0   \n",
              "\n",
              "Attribute_Description                                  Calf Slaughter  ...  \\\n",
              "Commodity_Description  Market_Year Month Country_Name                  ...   \n",
              "Almonds, Shelled Basis 1960        0     Iran                     NaN  ...   \n",
              "                                         Italy                    NaN  ...   \n",
              "                                         Morocco                  NaN  ...   \n",
              "                                         Portugal                 NaN  ...   \n",
              "                                         Spain                    NaN  ...   \n",
              "...                                                               ...  ...   \n",
              "Wheat                  2020        3     Venezuela                NaN  ...   \n",
              "                                         Vietnam                  NaN  ...   \n",
              "                                         Yemen                    NaN  ...   \n",
              "                                         Zambia                   NaN  ...   \n",
              "                                         Zimbabwe                 NaN  ...   \n",
              "\n",
              "Attribute_Description                                  TY Imp. from U.S.  \\\n",
              "Commodity_Description  Market_Year Month Country_Name                      \n",
              "Almonds, Shelled Basis 1960        0     Iran                        NaN   \n",
              "                                         Italy                       NaN   \n",
              "                                         Morocco                     NaN   \n",
              "                                         Portugal                    NaN   \n",
              "                                         Spain                       NaN   \n",
              "...                                                                  ...   \n",
              "Wheat                  2020        3     Venezuela                   0.0   \n",
              "                                         Vietnam                     0.0   \n",
              "                                         Yemen                       0.0   \n",
              "                                         Zambia                      0.0   \n",
              "                                         Zimbabwe                    0.0   \n",
              "\n",
              "Attribute_Description                                  TY Imports  \\\n",
              "Commodity_Description  Market_Year Month Country_Name               \n",
              "Almonds, Shelled Basis 1960        0     Iran                 NaN   \n",
              "                                         Italy                NaN   \n",
              "                                         Morocco              NaN   \n",
              "                                         Portugal             NaN   \n",
              "                                         Spain                NaN   \n",
              "...                                                           ...   \n",
              "Wheat                  2020        3     Venezuela         1000.0   \n",
              "                                         Vietnam           3400.0   \n",
              "                                         Yemen             3800.0   \n",
              "                                         Zambia              50.0   \n",
              "                                         Zimbabwe           100.0   \n",
              "\n",
              "Attribute_Description                                  Total Disappearance  \\\n",
              "Commodity_Description  Market_Year Month Country_Name                        \n",
              "Almonds, Shelled Basis 1960        0     Iran                          NaN   \n",
              "                                         Italy                         NaN   \n",
              "                                         Morocco                       NaN   \n",
              "                                         Portugal                      NaN   \n",
              "                                         Spain                         NaN   \n",
              "...                                                                    ...   \n",
              "Wheat                  2020        3     Venezuela                     NaN   \n",
              "                                         Vietnam                       NaN   \n",
              "                                         Yemen                         NaN   \n",
              "                                         Zambia                        NaN   \n",
              "                                         Zimbabwe                      NaN   \n",
              "\n",
              "Attribute_Description                                  Total Distribution  \\\n",
              "Commodity_Description  Market_Year Month Country_Name                       \n",
              "Almonds, Shelled Basis 1960        0     Iran                         0.0   \n",
              "                                         Italy                        0.0   \n",
              "                                         Morocco                      0.0   \n",
              "                                         Portugal                     0.0   \n",
              "                                         Spain                        0.0   \n",
              "...                                                                   ...   \n",
              "Wheat                  2020        3     Venezuela                 1142.0   \n",
              "                                         Vietnam                   4249.0   \n",
              "                                         Yemen                     4502.0   \n",
              "                                         Zambia                     258.0   \n",
              "                                         Zimbabwe                   391.0   \n",
              "\n",
              "Attribute_Description                                  Total Slaughter  \\\n",
              "Commodity_Description  Market_Year Month Country_Name                    \n",
              "Almonds, Shelled Basis 1960        0     Iran                      NaN   \n",
              "                                         Italy                     NaN   \n",
              "                                         Morocco                   NaN   \n",
              "                                         Portugal                  NaN   \n",
              "                                         Spain                     NaN   \n",
              "...                                                                ...   \n",
              "Wheat                  2020        3     Venezuela                 NaN   \n",
              "                                         Vietnam                   NaN   \n",
              "                                         Yemen                     NaN   \n",
              "                                         Zambia                    NaN   \n",
              "                                         Zimbabwe                  NaN   \n",
              "\n",
              "Attribute_Description                                  Total Supply  \\\n",
              "Commodity_Description  Market_Year Month Country_Name                 \n",
              "Almonds, Shelled Basis 1960        0     Iran                   4.0   \n",
              "                                         Italy                 13.0   \n",
              "                                         Morocco                2.0   \n",
              "                                         Portugal               1.0   \n",
              "                                         Spain                 29.0   \n",
              "...                                                             ...   \n",
              "Wheat                  2020        3     Venezuela           1142.0   \n",
              "                                         Vietnam             4249.0   \n",
              "                                         Yemen               4502.0   \n",
              "                                         Zambia               258.0   \n",
              "                                         Zimbabwe             391.0   \n",
              "\n",
              "Attribute_Description                                  Total Use  \\\n",
              "Commodity_Description  Market_Year Month Country_Name              \n",
              "Almonds, Shelled Basis 1960        0     Iran                NaN   \n",
              "                                         Italy               NaN   \n",
              "                                         Morocco             NaN   \n",
              "                                         Portugal            NaN   \n",
              "                                         Spain               NaN   \n",
              "...                                                          ...   \n",
              "Wheat                  2020        3     Venezuela           NaN   \n",
              "                                         Vietnam             NaN   \n",
              "                                         Yemen               NaN   \n",
              "                                         Zambia              NaN   \n",
              "                                         Zimbabwe            NaN   \n",
              "\n",
              "Attribute_Description                                  USE Dom. Consumption  \\\n",
              "Commodity_Description  Market_Year Month Country_Name                         \n",
              "Almonds, Shelled Basis 1960        0     Iran                           NaN   \n",
              "                                         Italy                          NaN   \n",
              "                                         Morocco                        NaN   \n",
              "                                         Portugal                       NaN   \n",
              "                                         Spain                          NaN   \n",
              "...                                                                     ...   \n",
              "Wheat                  2020        3     Venezuela                      NaN   \n",
              "                                         Vietnam                        NaN   \n",
              "                                         Yemen                          NaN   \n",
              "                                         Zambia                         NaN   \n",
              "                                         Zimbabwe                       NaN   \n",
              "\n",
              "Attribute_Description                                  Withdrawal From Market  \\\n",
              "Commodity_Description  Market_Year Month Country_Name                           \n",
              "Almonds, Shelled Basis 1960        0     Iran                             NaN   \n",
              "                                         Italy                            NaN   \n",
              "                                         Morocco                          NaN   \n",
              "                                         Portugal                         NaN   \n",
              "                                         Spain                            NaN   \n",
              "...                                                                       ...   \n",
              "Wheat                  2020        3     Venezuela                        NaN   \n",
              "                                         Vietnam                          NaN   \n",
              "                                         Yemen                            NaN   \n",
              "                                         Zambia                           NaN   \n",
              "                                         Zimbabwe                         NaN   \n",
              "\n",
              "Attribute_Description                                  Yield  \n",
              "Commodity_Description  Market_Year Month Country_Name         \n",
              "Almonds, Shelled Basis 1960        0     Iran            NaN  \n",
              "                                         Italy           NaN  \n",
              "                                         Morocco         NaN  \n",
              "                                         Portugal        NaN  \n",
              "                                         Spain           NaN  \n",
              "...                                                      ...  \n",
              "Wheat                  2020        3     Venezuela      0.00  \n",
              "                                         Vietnam        0.00  \n",
              "                                         Yemen          1.45  \n",
              "                                         Zambia         6.33  \n",
              "                                         Zimbabwe       3.97  \n",
              "\n",
              "[146463 rows x 71 columns]"
            ],
            "text/html": "<div>\n<style scoped>\n    .dataframe tbody tr th:only-of-type {\n        vertical-align: middle;\n    }\n\n    .dataframe tbody tr th {\n        vertical-align: top;\n    }\n\n    .dataframe thead th {\n        text-align: right;\n    }\n</style>\n<table border=\"1\" class=\"dataframe\">\n  <thead>\n    <tr style=\"text-align: right;\">\n      <th></th>\n      <th></th>\n      <th></th>\n      <th>Attribute_Description</th>\n      <th>Annual % Change Per Cap. Cons.</th>\n      <th>Annual % Change Prod. To Sows</th>\n      <th>Arabica Production</th>\n      <th>Area Harvested</th>\n      <th>Bean Exports</th>\n      <th>Bean Imports</th>\n      <th>Beef Cows Beg. Stocks</th>\n      <th>Beet Sugar Production</th>\n      <th>Beginning Stocks</th>\n      <th>Calf Slaughter</th>\n      <th>...</th>\n      <th>TY Imp. from U.S.</th>\n      <th>TY Imports</th>\n      <th>Total Disappearance</th>\n      <th>Total Distribution</th>\n      <th>Total Slaughter</th>\n      <th>Total Supply</th>\n      <th>Total Use</th>\n      <th>USE Dom. Consumption</th>\n      <th>Withdrawal From Market</th>\n      <th>Yield</th>\n    </tr>\n    <tr>\n      <th>Commodity_Description</th>\n      <th>Market_Year</th>\n      <th>Month</th>\n      <th>Country_Name</th>\n      <th></th>\n      <th></th>\n      <th></th>\n      <th></th>\n      <th></th>\n      <th></th>\n      <th></th>\n      <th></th>\n      <th></th>\n      <th></th>\n      <th></th>\n      <th></th>\n      <th></th>\n      <th></th>\n      <th></th>\n      <th></th>\n      <th></th>\n      <th></th>\n      <th></th>\n      <th></th>\n      <th></th>\n    </tr>\n  </thead>\n  <tbody>\n    <tr>\n      <th rowspan=\"5\" valign=\"top\">Almonds, Shelled Basis</th>\n      <th rowspan=\"5\" valign=\"top\">1960</th>\n      <th rowspan=\"5\" valign=\"top\">0</th>\n      <th>Iran</th>\n      <td>NaN</td>\n      <td>NaN</td>\n      <td>NaN</td>\n      <td>NaN</td>\n      <td>NaN</td>\n      <td>NaN</td>\n      <td>NaN</td>\n      <td>NaN</td>\n      <td>0.0</td>\n      <td>NaN</td>\n      <td>...</td>\n      <td>NaN</td>\n      <td>NaN</td>\n      <td>NaN</td>\n      <td>0.0</td>\n      <td>NaN</td>\n      <td>4.0</td>\n      <td>NaN</td>\n      <td>NaN</td>\n      <td>NaN</td>\n      <td>NaN</td>\n    </tr>\n    <tr>\n      <th>Italy</th>\n      <td>NaN</td>\n      <td>NaN</td>\n      <td>NaN</td>\n      <td>NaN</td>\n      <td>NaN</td>\n      <td>NaN</td>\n      <td>NaN</td>\n      <td>NaN</td>\n      <td>0.0</td>\n      <td>NaN</td>\n      <td>...</td>\n      <td>NaN</td>\n      <td>NaN</td>\n      <td>NaN</td>\n      <td>0.0</td>\n      <td>NaN</td>\n      <td>13.0</td>\n      <td>NaN</td>\n      <td>NaN</td>\n      <td>NaN</td>\n      <td>NaN</td>\n    </tr>\n    <tr>\n      <th>Morocco</th>\n      <td>NaN</td>\n      <td>NaN</td>\n      <td>NaN</td>\n      <td>NaN</td>\n      <td>NaN</td>\n      <td>NaN</td>\n      <td>NaN</td>\n      <td>NaN</td>\n      <td>0.0</td>\n      <td>NaN</td>\n      <td>...</td>\n      <td>NaN</td>\n      <td>NaN</td>\n      <td>NaN</td>\n      <td>0.0</td>\n      <td>NaN</td>\n      <td>2.0</td>\n      <td>NaN</td>\n      <td>NaN</td>\n      <td>NaN</td>\n      <td>NaN</td>\n    </tr>\n    <tr>\n      <th>Portugal</th>\n      <td>NaN</td>\n      <td>NaN</td>\n      <td>NaN</td>\n      <td>NaN</td>\n      <td>NaN</td>\n      <td>NaN</td>\n      <td>NaN</td>\n      <td>NaN</td>\n      <td>0.0</td>\n      <td>NaN</td>\n      <td>...</td>\n      <td>NaN</td>\n      <td>NaN</td>\n      <td>NaN</td>\n      <td>0.0</td>\n      <td>NaN</td>\n      <td>1.0</td>\n      <td>NaN</td>\n      <td>NaN</td>\n      <td>NaN</td>\n      <td>NaN</td>\n    </tr>\n    <tr>\n      <th>Spain</th>\n      <td>NaN</td>\n      <td>NaN</td>\n      <td>NaN</td>\n      <td>NaN</td>\n      <td>NaN</td>\n      <td>NaN</td>\n      <td>NaN</td>\n      <td>NaN</td>\n      <td>0.0</td>\n      <td>NaN</td>\n      <td>...</td>\n      <td>NaN</td>\n      <td>NaN</td>\n      <td>NaN</td>\n      <td>0.0</td>\n      <td>NaN</td>\n      <td>29.0</td>\n      <td>NaN</td>\n      <td>NaN</td>\n      <td>NaN</td>\n      <td>NaN</td>\n    </tr>\n    <tr>\n      <th>...</th>\n      <th>...</th>\n      <th>...</th>\n      <th>...</th>\n      <td>...</td>\n      <td>...</td>\n      <td>...</td>\n      <td>...</td>\n      <td>...</td>\n      <td>...</td>\n      <td>...</td>\n      <td>...</td>\n      <td>...</td>\n      <td>...</td>\n      <td>...</td>\n      <td>...</td>\n      <td>...</td>\n      <td>...</td>\n      <td>...</td>\n      <td>...</td>\n      <td>...</td>\n      <td>...</td>\n      <td>...</td>\n      <td>...</td>\n      <td>...</td>\n    </tr>\n    <tr>\n      <th rowspan=\"5\" valign=\"top\">Wheat</th>\n      <th rowspan=\"5\" valign=\"top\">2020</th>\n      <th rowspan=\"5\" valign=\"top\">3</th>\n      <th>Venezuela</th>\n      <td>NaN</td>\n      <td>NaN</td>\n      <td>NaN</td>\n      <td>0.0</td>\n      <td>NaN</td>\n      <td>NaN</td>\n      <td>NaN</td>\n      <td>NaN</td>\n      <td>142.0</td>\n      <td>NaN</td>\n      <td>...</td>\n      <td>0.0</td>\n      <td>1000.0</td>\n      <td>NaN</td>\n      <td>1142.0</td>\n      <td>NaN</td>\n      <td>1142.0</td>\n      <td>NaN</td>\n      <td>NaN</td>\n      <td>NaN</td>\n      <td>0.00</td>\n    </tr>\n    <tr>\n      <th>Vietnam</th>\n      <td>NaN</td>\n      <td>NaN</td>\n      <td>NaN</td>\n      <td>0.0</td>\n      <td>NaN</td>\n      <td>NaN</td>\n      <td>NaN</td>\n      <td>NaN</td>\n      <td>849.0</td>\n      <td>NaN</td>\n      <td>...</td>\n      <td>0.0</td>\n      <td>3400.0</td>\n      <td>NaN</td>\n      <td>4249.0</td>\n      <td>NaN</td>\n      <td>4249.0</td>\n      <td>NaN</td>\n      <td>NaN</td>\n      <td>NaN</td>\n      <td>0.00</td>\n    </tr>\n    <tr>\n      <th>Yemen</th>\n      <td>NaN</td>\n      <td>NaN</td>\n      <td>NaN</td>\n      <td>95.0</td>\n      <td>NaN</td>\n      <td>NaN</td>\n      <td>NaN</td>\n      <td>NaN</td>\n      <td>564.0</td>\n      <td>NaN</td>\n      <td>...</td>\n      <td>0.0</td>\n      <td>3800.0</td>\n      <td>NaN</td>\n      <td>4502.0</td>\n      <td>NaN</td>\n      <td>4502.0</td>\n      <td>NaN</td>\n      <td>NaN</td>\n      <td>NaN</td>\n      <td>1.45</td>\n    </tr>\n    <tr>\n      <th>Zambia</th>\n      <td>NaN</td>\n      <td>NaN</td>\n      <td>NaN</td>\n      <td>30.0</td>\n      <td>NaN</td>\n      <td>NaN</td>\n      <td>NaN</td>\n      <td>NaN</td>\n      <td>18.0</td>\n      <td>NaN</td>\n      <td>...</td>\n      <td>0.0</td>\n      <td>50.0</td>\n      <td>NaN</td>\n      <td>258.0</td>\n      <td>NaN</td>\n      <td>258.0</td>\n      <td>NaN</td>\n      <td>NaN</td>\n      <td>NaN</td>\n      <td>6.33</td>\n    </tr>\n    <tr>\n      <th>Zimbabwe</th>\n      <td>NaN</td>\n      <td>NaN</td>\n      <td>NaN</td>\n      <td>63.0</td>\n      <td>NaN</td>\n      <td>NaN</td>\n      <td>NaN</td>\n      <td>NaN</td>\n      <td>41.0</td>\n      <td>NaN</td>\n      <td>...</td>\n      <td>0.0</td>\n      <td>100.0</td>\n      <td>NaN</td>\n      <td>391.0</td>\n      <td>NaN</td>\n      <td>391.0</td>\n      <td>NaN</td>\n      <td>NaN</td>\n      <td>NaN</td>\n      <td>3.97</td>\n    </tr>\n  </tbody>\n</table>\n<p>146463 rows × 71 columns</p>\n</div>"
          },
          "metadata": {},
          "execution_count": 15
        }
      ],
      "source": [
        "usda_pivot = usda_data.pivot(index = [\"Commodity_Description\", \"Market_Year\", \"Month\", \"Country_Name\"], columns = \"Attribute_Description\", values = \"Value\")\n",
        "usda_pivot"
      ]
    },
    {
      "cell_type": "code",
      "execution_count": 18,
      "metadata": {},
      "outputs": [
        {
          "output_type": "execute_result",
          "data": {
            "text/plain": [
              "Attribute_Description   Commodity_Description  Market_Year  Month  \\\n",
              "0                      Almonds, Shelled Basis         1960      0   \n",
              "1                      Almonds, Shelled Basis         1960      0   \n",
              "2                      Almonds, Shelled Basis         1960      0   \n",
              "3                      Almonds, Shelled Basis         1960      0   \n",
              "4                      Almonds, Shelled Basis         1960      0   \n",
              "...                                       ...          ...    ...   \n",
              "146458                                  Wheat         2020      3   \n",
              "146459                                  Wheat         2020      3   \n",
              "146460                                  Wheat         2020      3   \n",
              "146461                                  Wheat         2020      3   \n",
              "146462                                  Wheat         2020      3   \n",
              "\n",
              "Attribute_Description Country_Name  Annual % Change Per Cap. Cons.  \\\n",
              "0                             Iran                             NaN   \n",
              "1                            Italy                             NaN   \n",
              "2                          Morocco                             NaN   \n",
              "3                         Portugal                             NaN   \n",
              "4                            Spain                             NaN   \n",
              "...                            ...                             ...   \n",
              "146458                   Venezuela                             NaN   \n",
              "146459                     Vietnam                             NaN   \n",
              "146460                       Yemen                             NaN   \n",
              "146461                      Zambia                             NaN   \n",
              "146462                    Zimbabwe                             NaN   \n",
              "\n",
              "Attribute_Description  Annual % Change Prod. To Sows  Arabica Production  \\\n",
              "0                                                NaN                 NaN   \n",
              "1                                                NaN                 NaN   \n",
              "2                                                NaN                 NaN   \n",
              "3                                                NaN                 NaN   \n",
              "4                                                NaN                 NaN   \n",
              "...                                              ...                 ...   \n",
              "146458                                           NaN                 NaN   \n",
              "146459                                           NaN                 NaN   \n",
              "146460                                           NaN                 NaN   \n",
              "146461                                           NaN                 NaN   \n",
              "146462                                           NaN                 NaN   \n",
              "\n",
              "Attribute_Description  Area Harvested  Bean Exports  Bean Imports  ...  \\\n",
              "0                                 NaN           NaN           NaN  ...   \n",
              "1                                 NaN           NaN           NaN  ...   \n",
              "2                                 NaN           NaN           NaN  ...   \n",
              "3                                 NaN           NaN           NaN  ...   \n",
              "4                                 NaN           NaN           NaN  ...   \n",
              "...                               ...           ...           ...  ...   \n",
              "146458                            0.0           NaN           NaN  ...   \n",
              "146459                            0.0           NaN           NaN  ...   \n",
              "146460                           95.0           NaN           NaN  ...   \n",
              "146461                           30.0           NaN           NaN  ...   \n",
              "146462                           63.0           NaN           NaN  ...   \n",
              "\n",
              "Attribute_Description  TY Imp. from U.S.  TY Imports  Total Disappearance  \\\n",
              "0                                    NaN         NaN                  NaN   \n",
              "1                                    NaN         NaN                  NaN   \n",
              "2                                    NaN         NaN                  NaN   \n",
              "3                                    NaN         NaN                  NaN   \n",
              "4                                    NaN         NaN                  NaN   \n",
              "...                                  ...         ...                  ...   \n",
              "146458                               0.0      1000.0                  NaN   \n",
              "146459                               0.0      3400.0                  NaN   \n",
              "146460                               0.0      3800.0                  NaN   \n",
              "146461                               0.0        50.0                  NaN   \n",
              "146462                               0.0       100.0                  NaN   \n",
              "\n",
              "Attribute_Description  Total Distribution  Total Slaughter  Total Supply  \\\n",
              "0                                     0.0              NaN           4.0   \n",
              "1                                     0.0              NaN          13.0   \n",
              "2                                     0.0              NaN           2.0   \n",
              "3                                     0.0              NaN           1.0   \n",
              "4                                     0.0              NaN          29.0   \n",
              "...                                   ...              ...           ...   \n",
              "146458                             1142.0              NaN        1142.0   \n",
              "146459                             4249.0              NaN        4249.0   \n",
              "146460                             4502.0              NaN        4502.0   \n",
              "146461                              258.0              NaN         258.0   \n",
              "146462                              391.0              NaN         391.0   \n",
              "\n",
              "Attribute_Description  Total Use  USE Dom. Consumption  \\\n",
              "0                            NaN                   NaN   \n",
              "1                            NaN                   NaN   \n",
              "2                            NaN                   NaN   \n",
              "3                            NaN                   NaN   \n",
              "4                            NaN                   NaN   \n",
              "...                          ...                   ...   \n",
              "146458                       NaN                   NaN   \n",
              "146459                       NaN                   NaN   \n",
              "146460                       NaN                   NaN   \n",
              "146461                       NaN                   NaN   \n",
              "146462                       NaN                   NaN   \n",
              "\n",
              "Attribute_Description  Withdrawal From Market  Yield  \n",
              "0                                         NaN    NaN  \n",
              "1                                         NaN    NaN  \n",
              "2                                         NaN    NaN  \n",
              "3                                         NaN    NaN  \n",
              "4                                         NaN    NaN  \n",
              "...                                       ...    ...  \n",
              "146458                                    NaN   0.00  \n",
              "146459                                    NaN   0.00  \n",
              "146460                                    NaN   1.45  \n",
              "146461                                    NaN   6.33  \n",
              "146462                                    NaN   3.97  \n",
              "\n",
              "[146463 rows x 75 columns]"
            ],
            "text/html": "<div>\n<style scoped>\n    .dataframe tbody tr th:only-of-type {\n        vertical-align: middle;\n    }\n\n    .dataframe tbody tr th {\n        vertical-align: top;\n    }\n\n    .dataframe thead th {\n        text-align: right;\n    }\n</style>\n<table border=\"1\" class=\"dataframe\">\n  <thead>\n    <tr style=\"text-align: right;\">\n      <th>Attribute_Description</th>\n      <th>Commodity_Description</th>\n      <th>Market_Year</th>\n      <th>Month</th>\n      <th>Country_Name</th>\n      <th>Annual % Change Per Cap. Cons.</th>\n      <th>Annual % Change Prod. To Sows</th>\n      <th>Arabica Production</th>\n      <th>Area Harvested</th>\n      <th>Bean Exports</th>\n      <th>Bean Imports</th>\n      <th>...</th>\n      <th>TY Imp. from U.S.</th>\n      <th>TY Imports</th>\n      <th>Total Disappearance</th>\n      <th>Total Distribution</th>\n      <th>Total Slaughter</th>\n      <th>Total Supply</th>\n      <th>Total Use</th>\n      <th>USE Dom. Consumption</th>\n      <th>Withdrawal From Market</th>\n      <th>Yield</th>\n    </tr>\n  </thead>\n  <tbody>\n    <tr>\n      <th>0</th>\n      <td>Almonds, Shelled Basis</td>\n      <td>1960</td>\n      <td>0</td>\n      <td>Iran</td>\n      <td>NaN</td>\n      <td>NaN</td>\n      <td>NaN</td>\n      <td>NaN</td>\n      <td>NaN</td>\n      <td>NaN</td>\n      <td>...</td>\n      <td>NaN</td>\n      <td>NaN</td>\n      <td>NaN</td>\n      <td>0.0</td>\n      <td>NaN</td>\n      <td>4.0</td>\n      <td>NaN</td>\n      <td>NaN</td>\n      <td>NaN</td>\n      <td>NaN</td>\n    </tr>\n    <tr>\n      <th>1</th>\n      <td>Almonds, Shelled Basis</td>\n      <td>1960</td>\n      <td>0</td>\n      <td>Italy</td>\n      <td>NaN</td>\n      <td>NaN</td>\n      <td>NaN</td>\n      <td>NaN</td>\n      <td>NaN</td>\n      <td>NaN</td>\n      <td>...</td>\n      <td>NaN</td>\n      <td>NaN</td>\n      <td>NaN</td>\n      <td>0.0</td>\n      <td>NaN</td>\n      <td>13.0</td>\n      <td>NaN</td>\n      <td>NaN</td>\n      <td>NaN</td>\n      <td>NaN</td>\n    </tr>\n    <tr>\n      <th>2</th>\n      <td>Almonds, Shelled Basis</td>\n      <td>1960</td>\n      <td>0</td>\n      <td>Morocco</td>\n      <td>NaN</td>\n      <td>NaN</td>\n      <td>NaN</td>\n      <td>NaN</td>\n      <td>NaN</td>\n      <td>NaN</td>\n      <td>...</td>\n      <td>NaN</td>\n      <td>NaN</td>\n      <td>NaN</td>\n      <td>0.0</td>\n      <td>NaN</td>\n      <td>2.0</td>\n      <td>NaN</td>\n      <td>NaN</td>\n      <td>NaN</td>\n      <td>NaN</td>\n    </tr>\n    <tr>\n      <th>3</th>\n      <td>Almonds, Shelled Basis</td>\n      <td>1960</td>\n      <td>0</td>\n      <td>Portugal</td>\n      <td>NaN</td>\n      <td>NaN</td>\n      <td>NaN</td>\n      <td>NaN</td>\n      <td>NaN</td>\n      <td>NaN</td>\n      <td>...</td>\n      <td>NaN</td>\n      <td>NaN</td>\n      <td>NaN</td>\n      <td>0.0</td>\n      <td>NaN</td>\n      <td>1.0</td>\n      <td>NaN</td>\n      <td>NaN</td>\n      <td>NaN</td>\n      <td>NaN</td>\n    </tr>\n    <tr>\n      <th>4</th>\n      <td>Almonds, Shelled Basis</td>\n      <td>1960</td>\n      <td>0</td>\n      <td>Spain</td>\n      <td>NaN</td>\n      <td>NaN</td>\n      <td>NaN</td>\n      <td>NaN</td>\n      <td>NaN</td>\n      <td>NaN</td>\n      <td>...</td>\n      <td>NaN</td>\n      <td>NaN</td>\n      <td>NaN</td>\n      <td>0.0</td>\n      <td>NaN</td>\n      <td>29.0</td>\n      <td>NaN</td>\n      <td>NaN</td>\n      <td>NaN</td>\n      <td>NaN</td>\n    </tr>\n    <tr>\n      <th>...</th>\n      <td>...</td>\n      <td>...</td>\n      <td>...</td>\n      <td>...</td>\n      <td>...</td>\n      <td>...</td>\n      <td>...</td>\n      <td>...</td>\n      <td>...</td>\n      <td>...</td>\n      <td>...</td>\n      <td>...</td>\n      <td>...</td>\n      <td>...</td>\n      <td>...</td>\n      <td>...</td>\n      <td>...</td>\n      <td>...</td>\n      <td>...</td>\n      <td>...</td>\n      <td>...</td>\n    </tr>\n    <tr>\n      <th>146458</th>\n      <td>Wheat</td>\n      <td>2020</td>\n      <td>3</td>\n      <td>Venezuela</td>\n      <td>NaN</td>\n      <td>NaN</td>\n      <td>NaN</td>\n      <td>0.0</td>\n      <td>NaN</td>\n      <td>NaN</td>\n      <td>...</td>\n      <td>0.0</td>\n      <td>1000.0</td>\n      <td>NaN</td>\n      <td>1142.0</td>\n      <td>NaN</td>\n      <td>1142.0</td>\n      <td>NaN</td>\n      <td>NaN</td>\n      <td>NaN</td>\n      <td>0.00</td>\n    </tr>\n    <tr>\n      <th>146459</th>\n      <td>Wheat</td>\n      <td>2020</td>\n      <td>3</td>\n      <td>Vietnam</td>\n      <td>NaN</td>\n      <td>NaN</td>\n      <td>NaN</td>\n      <td>0.0</td>\n      <td>NaN</td>\n      <td>NaN</td>\n      <td>...</td>\n      <td>0.0</td>\n      <td>3400.0</td>\n      <td>NaN</td>\n      <td>4249.0</td>\n      <td>NaN</td>\n      <td>4249.0</td>\n      <td>NaN</td>\n      <td>NaN</td>\n      <td>NaN</td>\n      <td>0.00</td>\n    </tr>\n    <tr>\n      <th>146460</th>\n      <td>Wheat</td>\n      <td>2020</td>\n      <td>3</td>\n      <td>Yemen</td>\n      <td>NaN</td>\n      <td>NaN</td>\n      <td>NaN</td>\n      <td>95.0</td>\n      <td>NaN</td>\n      <td>NaN</td>\n      <td>...</td>\n      <td>0.0</td>\n      <td>3800.0</td>\n      <td>NaN</td>\n      <td>4502.0</td>\n      <td>NaN</td>\n      <td>4502.0</td>\n      <td>NaN</td>\n      <td>NaN</td>\n      <td>NaN</td>\n      <td>1.45</td>\n    </tr>\n    <tr>\n      <th>146461</th>\n      <td>Wheat</td>\n      <td>2020</td>\n      <td>3</td>\n      <td>Zambia</td>\n      <td>NaN</td>\n      <td>NaN</td>\n      <td>NaN</td>\n      <td>30.0</td>\n      <td>NaN</td>\n      <td>NaN</td>\n      <td>...</td>\n      <td>0.0</td>\n      <td>50.0</td>\n      <td>NaN</td>\n      <td>258.0</td>\n      <td>NaN</td>\n      <td>258.0</td>\n      <td>NaN</td>\n      <td>NaN</td>\n      <td>NaN</td>\n      <td>6.33</td>\n    </tr>\n    <tr>\n      <th>146462</th>\n      <td>Wheat</td>\n      <td>2020</td>\n      <td>3</td>\n      <td>Zimbabwe</td>\n      <td>NaN</td>\n      <td>NaN</td>\n      <td>NaN</td>\n      <td>63.0</td>\n      <td>NaN</td>\n      <td>NaN</td>\n      <td>...</td>\n      <td>0.0</td>\n      <td>100.0</td>\n      <td>NaN</td>\n      <td>391.0</td>\n      <td>NaN</td>\n      <td>391.0</td>\n      <td>NaN</td>\n      <td>NaN</td>\n      <td>NaN</td>\n      <td>3.97</td>\n    </tr>\n  </tbody>\n</table>\n<p>146463 rows × 75 columns</p>\n</div>"
          },
          "metadata": {},
          "execution_count": 18
        }
      ],
      "source": [
        "usda_pivot_reset = usda_pivot.reset_index(drop=False)\n",
        "usda_pivot_reset"
      ]
    },
    {
      "cell_type": "code",
      "execution_count": 24,
      "metadata": {},
      "outputs": [
        {
          "output_type": "execute_result",
          "data": {
            "text/plain": [
              "Attribute_Description   Commodity_Description  Market_Year  Month  \\\n",
              "0                      Almonds, Shelled Basis         1960      0   \n",
              "1                      Almonds, Shelled Basis         1960      0   \n",
              "2                      Almonds, Shelled Basis         1960      0   \n",
              "3                      Almonds, Shelled Basis         1960      0   \n",
              "4                      Almonds, Shelled Basis         1960      0   \n",
              "...                                       ...          ...    ...   \n",
              "146458                                  Wheat         2020      3   \n",
              "146459                                  Wheat         2020      3   \n",
              "146460                                  Wheat         2020      3   \n",
              "146461                                  Wheat         2020      3   \n",
              "146462                                  Wheat         2020      3   \n",
              "\n",
              "Attribute_Description Country_Name  Beginning Stocks  Ending Stocks  Imports  \\\n",
              "0                             Iran               0.0            0.0      0.0   \n",
              "1                            Italy               0.0            0.0      0.0   \n",
              "2                          Morocco               0.0            0.0      0.0   \n",
              "3                         Portugal               0.0            0.0      0.0   \n",
              "4                            Spain               0.0            0.0      0.0   \n",
              "...                            ...               ...            ...      ...   \n",
              "146458                   Venezuela             142.0          242.0   1000.0   \n",
              "146459                     Vietnam             849.0          649.0   3400.0   \n",
              "146460                       Yemen             564.0          602.0   3800.0   \n",
              "146461                      Zambia              18.0           23.0     50.0   \n",
              "146462                    Zimbabwe              41.0           81.0    100.0   \n",
              "\n",
              "Attribute_Description  Exports  Area Harvested  Yield  Production  \\\n",
              "0                          0.0             NaN    NaN         4.0   \n",
              "1                          0.0             NaN    NaN        13.0   \n",
              "2                          0.0             NaN    NaN         2.0   \n",
              "3                          0.0             NaN    NaN         1.0   \n",
              "4                          0.0             NaN    NaN        29.0   \n",
              "...                        ...             ...    ...         ...   \n",
              "146458                     0.0             0.0   0.00         0.0   \n",
              "146459                   250.0             0.0   0.00         0.0   \n",
              "146460                     0.0            95.0   1.45       138.0   \n",
              "146461                     0.0            30.0   6.33       190.0   \n",
              "146462                     0.0            63.0   3.97       250.0   \n",
              "\n",
              "Attribute_Description  Domestic Consumption  \n",
              "0                                       0.0  \n",
              "1                                       0.0  \n",
              "2                                       0.0  \n",
              "3                                       0.0  \n",
              "4                                       0.0  \n",
              "...                                     ...  \n",
              "146458                                900.0  \n",
              "146459                               3350.0  \n",
              "146460                               3900.0  \n",
              "146461                                235.0  \n",
              "146462                                310.0  \n",
              "\n",
              "[146463 rows x 12 columns]"
            ],
            "text/html": "<div>\n<style scoped>\n    .dataframe tbody tr th:only-of-type {\n        vertical-align: middle;\n    }\n\n    .dataframe tbody tr th {\n        vertical-align: top;\n    }\n\n    .dataframe thead th {\n        text-align: right;\n    }\n</style>\n<table border=\"1\" class=\"dataframe\">\n  <thead>\n    <tr style=\"text-align: right;\">\n      <th>Attribute_Description</th>\n      <th>Commodity_Description</th>\n      <th>Market_Year</th>\n      <th>Month</th>\n      <th>Country_Name</th>\n      <th>Beginning Stocks</th>\n      <th>Ending Stocks</th>\n      <th>Imports</th>\n      <th>Exports</th>\n      <th>Area Harvested</th>\n      <th>Yield</th>\n      <th>Production</th>\n      <th>Domestic Consumption</th>\n    </tr>\n  </thead>\n  <tbody>\n    <tr>\n      <th>0</th>\n      <td>Almonds, Shelled Basis</td>\n      <td>1960</td>\n      <td>0</td>\n      <td>Iran</td>\n      <td>0.0</td>\n      <td>0.0</td>\n      <td>0.0</td>\n      <td>0.0</td>\n      <td>NaN</td>\n      <td>NaN</td>\n      <td>4.0</td>\n      <td>0.0</td>\n    </tr>\n    <tr>\n      <th>1</th>\n      <td>Almonds, Shelled Basis</td>\n      <td>1960</td>\n      <td>0</td>\n      <td>Italy</td>\n      <td>0.0</td>\n      <td>0.0</td>\n      <td>0.0</td>\n      <td>0.0</td>\n      <td>NaN</td>\n      <td>NaN</td>\n      <td>13.0</td>\n      <td>0.0</td>\n    </tr>\n    <tr>\n      <th>2</th>\n      <td>Almonds, Shelled Basis</td>\n      <td>1960</td>\n      <td>0</td>\n      <td>Morocco</td>\n      <td>0.0</td>\n      <td>0.0</td>\n      <td>0.0</td>\n      <td>0.0</td>\n      <td>NaN</td>\n      <td>NaN</td>\n      <td>2.0</td>\n      <td>0.0</td>\n    </tr>\n    <tr>\n      <th>3</th>\n      <td>Almonds, Shelled Basis</td>\n      <td>1960</td>\n      <td>0</td>\n      <td>Portugal</td>\n      <td>0.0</td>\n      <td>0.0</td>\n      <td>0.0</td>\n      <td>0.0</td>\n      <td>NaN</td>\n      <td>NaN</td>\n      <td>1.0</td>\n      <td>0.0</td>\n    </tr>\n    <tr>\n      <th>4</th>\n      <td>Almonds, Shelled Basis</td>\n      <td>1960</td>\n      <td>0</td>\n      <td>Spain</td>\n      <td>0.0</td>\n      <td>0.0</td>\n      <td>0.0</td>\n      <td>0.0</td>\n      <td>NaN</td>\n      <td>NaN</td>\n      <td>29.0</td>\n      <td>0.0</td>\n    </tr>\n    <tr>\n      <th>...</th>\n      <td>...</td>\n      <td>...</td>\n      <td>...</td>\n      <td>...</td>\n      <td>...</td>\n      <td>...</td>\n      <td>...</td>\n      <td>...</td>\n      <td>...</td>\n      <td>...</td>\n      <td>...</td>\n      <td>...</td>\n    </tr>\n    <tr>\n      <th>146458</th>\n      <td>Wheat</td>\n      <td>2020</td>\n      <td>3</td>\n      <td>Venezuela</td>\n      <td>142.0</td>\n      <td>242.0</td>\n      <td>1000.0</td>\n      <td>0.0</td>\n      <td>0.0</td>\n      <td>0.00</td>\n      <td>0.0</td>\n      <td>900.0</td>\n    </tr>\n    <tr>\n      <th>146459</th>\n      <td>Wheat</td>\n      <td>2020</td>\n      <td>3</td>\n      <td>Vietnam</td>\n      <td>849.0</td>\n      <td>649.0</td>\n      <td>3400.0</td>\n      <td>250.0</td>\n      <td>0.0</td>\n      <td>0.00</td>\n      <td>0.0</td>\n      <td>3350.0</td>\n    </tr>\n    <tr>\n      <th>146460</th>\n      <td>Wheat</td>\n      <td>2020</td>\n      <td>3</td>\n      <td>Yemen</td>\n      <td>564.0</td>\n      <td>602.0</td>\n      <td>3800.0</td>\n      <td>0.0</td>\n      <td>95.0</td>\n      <td>1.45</td>\n      <td>138.0</td>\n      <td>3900.0</td>\n    </tr>\n    <tr>\n      <th>146461</th>\n      <td>Wheat</td>\n      <td>2020</td>\n      <td>3</td>\n      <td>Zambia</td>\n      <td>18.0</td>\n      <td>23.0</td>\n      <td>50.0</td>\n      <td>0.0</td>\n      <td>30.0</td>\n      <td>6.33</td>\n      <td>190.0</td>\n      <td>235.0</td>\n    </tr>\n    <tr>\n      <th>146462</th>\n      <td>Wheat</td>\n      <td>2020</td>\n      <td>3</td>\n      <td>Zimbabwe</td>\n      <td>41.0</td>\n      <td>81.0</td>\n      <td>100.0</td>\n      <td>0.0</td>\n      <td>63.0</td>\n      <td>3.97</td>\n      <td>250.0</td>\n      <td>310.0</td>\n    </tr>\n  </tbody>\n</table>\n<p>146463 rows × 12 columns</p>\n</div>"
          },
          "metadata": {},
          "execution_count": 24
        }
      ],
      "source": [
        "cols_to_keep = [\"Commodity_Description\", \"Market_Year\", \"Month\", \"Country_Name\",\n",
        "           \"Beginning Stocks\", \"Ending Stocks\", \"Imports\", \"Exports\", \n",
        "           \"Area Harvested\", \"Yield\", \"Production\", \"Domestic Consumption\"]\n",
        "\n",
        "output = usda_pivot_reset[cols_to_keep]\n",
        "\n",
        "output.to_csv(out_path + \"usda_data.csv\", index = False)\n",
        "\n",
        "output"
      ]
    },
    {
      "source": [
        "## Create \"Political Entity\" data by grabbing unique country names"
      ],
      "cell_type": "markdown",
      "metadata": {}
    },
    {
      "cell_type": "code",
      "execution_count": 21,
      "metadata": {},
      "outputs": [
        {
          "output_type": "execute_result",
          "data": {
            "text/plain": [
              "array(['Iran', 'Italy', 'Morocco', 'Portugal', 'Spain', 'United States',\n",
              "       'Turkey', 'Greece', 'Tunisia', 'Thailand', 'Algeria', 'Argentina',\n",
              "       'Australia', 'Brazil', 'Canada', 'Chile', 'China', 'Colombia',\n",
              "       'European Union', 'Hong Kong', 'India', 'Indonesia', 'Israel',\n",
              "       'Japan', 'Jordan', 'Kazakhstan', 'Korea, South', 'Malaysia',\n",
              "       'Mexico', 'New Zealand', 'Norway', 'Pakistan', 'Russia',\n",
              "       'Saudi Arabia', 'South Africa', 'Switzerland', 'Taiwan',\n",
              "       'United Arab Emirates', 'Vietnam', 'Afghanistan', 'Austria',\n",
              "       'Belgium-Luxembourg', 'Bulgaria', 'Costa Rica', 'Denmark',\n",
              "       'Dominican Republic', 'Ecuador', 'El Salvador', 'Finland',\n",
              "       'Former Czechoslovakia', 'Former Yugoslavia', 'France',\n",
              "       'German Democratic Republic', 'Germany, Federal Republic of',\n",
              "       'Guatemala', 'Honduras', 'Hungary', 'Ireland', 'Netherlands',\n",
              "       'Nicaragua', 'Panama', 'Peru', 'Philippines', 'Poland', 'Romania',\n",
              "       'Sweden', 'Union of Soviet Socialist Repu', 'United Kingdom',\n",
              "       'Uruguay', 'Venezuela', 'Egypt', 'Belize', 'Belarus', 'Armenia',\n",
              "       'Azerbaijan', 'Estonia', 'Georgia', 'Kyrgyzstan', 'Latvia',\n",
              "       'Lithuania', 'Moldova', 'Tajikistan', 'Turkmenistan', 'Ukraine',\n",
              "       'Uzbekistan', 'Czech Republic', 'Haiti', 'Slovakia', 'Germany',\n",
              "       'Yugoslavia (>05/92)', 'EU-15', 'Singapore', 'Albania', 'Angola',\n",
              "       'Bosnia and Herzegovina', 'Burma', 'Iraq', 'Korea, North',\n",
              "       'Kuwait', 'Nepal', 'Nigeria', 'Oman', 'Qatar', 'Syria', 'Zambia',\n",
              "       'Zimbabwe', 'Lebanon', 'Bangladesh', 'Libya', 'Sri Lanka',\n",
              "       'Croatia', 'Serbia', 'Bolivia', 'Cyprus', 'Ethiopia', 'Iceland',\n",
              "       'Kenya', 'Malta', 'Cuba', 'Yemen (Sanaa)', 'Bhutan', 'Yemen',\n",
              "       'North Macedonia', 'Serbia and Montenegro', 'Slovenia', 'Eritrea',\n",
              "       'Uganda', 'Benin', 'Burundi', 'Cameroon',\n",
              "       'Central African Republic', 'Congo (Brazzaville)',\n",
              "       'Congo (Kinshasa)', \"Cote d'Ivoire\", 'Equatorial Guinea', 'Gabon',\n",
              "       'Ghana', 'Guinea', 'Guyana', 'Jamaica', 'Liberia', 'Madagascar',\n",
              "       'Malawi', 'New Caledonia', 'Papua New Guinea', 'Paraguay',\n",
              "       'Rwanda', 'Sierra Leone', 'Tanzania', 'Togo',\n",
              "       'Trinidad and Tobago', 'Laos', 'Botswana', 'Burkina', 'Cambodia',\n",
              "       'Lesotho', 'Mali', 'Senegal', 'Mozambique', 'Somalia',\n",
              "       'Gambia, The', 'Mauritania', 'Eswatini', 'Guinea-Bissau',\n",
              "       'Cabo Verde', 'Chad', 'Namibia', 'South Sudan', 'Sudan',\n",
              "       'Yemen (Aden)', 'Niger', 'Mauritius', 'Bahrain', 'Luxembourg',\n",
              "       'Gaza Strip', 'Fiji', 'Samoa', 'Faroe Islands', 'Bermuda',\n",
              "       'Netherlands Antilles', 'Suriname', 'Barbados',\n",
              "       'Antigua and Barbuda', 'Bahamas, The', 'Macau', 'Montenegro',\n",
              "       'Other', 'Djibouti', 'Comoros', 'Sao Tome and Principe',\n",
              "       'Solomon Islands', 'Vanuatu/New Hebrides',\n",
              "       'Belgium (without Luxembourg)', 'Brunei', 'Reunion', 'Guadeloupe',\n",
              "       'Martinique', 'Puerto Rico', 'St. Kitts and Nevis',\n",
              "       'Virgin Islands of the U.S.', 'Mongolia', 'Fr.Ter.Africa-Issas',\n",
              "       'Gibraltar', 'Maldives', 'French West Indies',\n",
              "       'Gilbert and Ellice Islands', 'Greenland', 'Grenada', 'Seychelles',\n",
              "       'St. Lucia', 'French Polynesia', 'Tonga', 'EU-25'], dtype=object)"
            ]
          },
          "metadata": {},
          "execution_count": 21
        }
      ],
      "source": [
        "output[\"Country_Name\"].unique()"
      ]
    },
    {
      "cell_type": "code",
      "execution_count": 26,
      "metadata": {},
      "outputs": [
        {
          "output_type": "execute_result",
          "data": {
            "text/plain": [
              "                 name  is_country\n",
              "0                Iran           1\n",
              "1               Italy           1\n",
              "2             Morocco           1\n",
              "3            Portugal           1\n",
              "4               Spain           1\n",
              "..                ...         ...\n",
              "208        Seychelles           1\n",
              "209         St. Lucia           1\n",
              "210  French Polynesia           1\n",
              "211             Tonga           1\n",
              "212             EU-25           1\n",
              "\n",
              "[213 rows x 2 columns]"
            ],
            "text/html": "<div>\n<style scoped>\n    .dataframe tbody tr th:only-of-type {\n        vertical-align: middle;\n    }\n\n    .dataframe tbody tr th {\n        vertical-align: top;\n    }\n\n    .dataframe thead th {\n        text-align: right;\n    }\n</style>\n<table border=\"1\" class=\"dataframe\">\n  <thead>\n    <tr style=\"text-align: right;\">\n      <th></th>\n      <th>name</th>\n      <th>is_country</th>\n    </tr>\n  </thead>\n  <tbody>\n    <tr>\n      <th>0</th>\n      <td>Iran</td>\n      <td>1</td>\n    </tr>\n    <tr>\n      <th>1</th>\n      <td>Italy</td>\n      <td>1</td>\n    </tr>\n    <tr>\n      <th>2</th>\n      <td>Morocco</td>\n      <td>1</td>\n    </tr>\n    <tr>\n      <th>3</th>\n      <td>Portugal</td>\n      <td>1</td>\n    </tr>\n    <tr>\n      <th>4</th>\n      <td>Spain</td>\n      <td>1</td>\n    </tr>\n    <tr>\n      <th>...</th>\n      <td>...</td>\n      <td>...</td>\n    </tr>\n    <tr>\n      <th>208</th>\n      <td>Seychelles</td>\n      <td>1</td>\n    </tr>\n    <tr>\n      <th>209</th>\n      <td>St. Lucia</td>\n      <td>1</td>\n    </tr>\n    <tr>\n      <th>210</th>\n      <td>French Polynesia</td>\n      <td>1</td>\n    </tr>\n    <tr>\n      <th>211</th>\n      <td>Tonga</td>\n      <td>1</td>\n    </tr>\n    <tr>\n      <th>212</th>\n      <td>EU-25</td>\n      <td>1</td>\n    </tr>\n  </tbody>\n</table>\n<p>213 rows × 2 columns</p>\n</div>"
          },
          "metadata": {},
          "execution_count": 26
        }
      ],
      "source": [
        "pol_ent = pd.DataFrame(output[\"Country_Name\"].unique(), columns = [\"name\"])\n",
        "pol_ent[\"is_country\"] = 1\n",
        "pol_ent"
      ]
    },
    {
      "source": [
        "### Add in the US political entity names"
      ],
      "cell_type": "markdown",
      "metadata": {}
    },
    {
      "cell_type": "code",
      "execution_count": 39,
      "metadata": {},
      "outputs": [
        {
          "output_type": "execute_result",
          "data": {
            "text/plain": [
              "                    name  is_country\n",
              "0                 Alaska           0\n",
              "1                Alabama           0\n",
              "2               Arkansas           0\n",
              "3         American Samoa           0\n",
              "4                Arizona           0\n",
              "5             California           0\n",
              "6               Colorado           0\n",
              "7            Connecticut           0\n",
              "8   District of Columbia           0\n",
              "9               Delaware           0\n",
              "10               Florida           0\n",
              "11               Georgia           0\n",
              "12                  Guam           0\n",
              "13                Hawaii           0\n",
              "14                  Iowa           0\n",
              "15                 Idaho           0\n",
              "16              Illinois           0\n",
              "17               Indiana           0\n",
              "18                Kansas           0\n",
              "19              Kentucky           0\n",
              "20             Louisiana           0\n",
              "21         Massachusetts           0\n",
              "22              Maryland           0\n",
              "23                 Maine           0\n",
              "24              Michigan           0\n",
              "25             Minnesota           0\n",
              "26              Missouri           0\n",
              "27           Mississippi           0\n",
              "28               Montana           0\n",
              "29        North Carolina           0\n",
              "30          North Dakota           0\n",
              "31              Nebraska           0\n",
              "32         New Hampshire           0\n",
              "33            New Jersey           0\n",
              "34            New Mexico           0\n",
              "35                Nevada           0\n",
              "36              New York           0\n",
              "37                  Ohio           0\n",
              "38              Oklahoma           0\n",
              "39                Oregon           0\n",
              "40          Pennsylvania           0\n",
              "41           Puerto Rico           0\n",
              "42          Rhode Island           0\n",
              "43        South Carolina           0\n",
              "44          South Dakota           0\n",
              "45             Tennessee           0\n",
              "46                 Texas           0\n",
              "47                  Utah           0\n",
              "48              Virginia           0\n",
              "49        Virgin Islands           0\n",
              "50               Vermont           0\n",
              "51            Washington           0\n",
              "52             Wisconsin           0\n",
              "53         West Virginia           0\n",
              "54               Wyoming           0"
            ],
            "text/html": "<div>\n<style scoped>\n    .dataframe tbody tr th:only-of-type {\n        vertical-align: middle;\n    }\n\n    .dataframe tbody tr th {\n        vertical-align: top;\n    }\n\n    .dataframe thead th {\n        text-align: right;\n    }\n</style>\n<table border=\"1\" class=\"dataframe\">\n  <thead>\n    <tr style=\"text-align: right;\">\n      <th></th>\n      <th>name</th>\n      <th>is_country</th>\n    </tr>\n  </thead>\n  <tbody>\n    <tr>\n      <th>0</th>\n      <td>Alaska</td>\n      <td>0</td>\n    </tr>\n    <tr>\n      <th>1</th>\n      <td>Alabama</td>\n      <td>0</td>\n    </tr>\n    <tr>\n      <th>2</th>\n      <td>Arkansas</td>\n      <td>0</td>\n    </tr>\n    <tr>\n      <th>3</th>\n      <td>American Samoa</td>\n      <td>0</td>\n    </tr>\n    <tr>\n      <th>4</th>\n      <td>Arizona</td>\n      <td>0</td>\n    </tr>\n    <tr>\n      <th>5</th>\n      <td>California</td>\n      <td>0</td>\n    </tr>\n    <tr>\n      <th>6</th>\n      <td>Colorado</td>\n      <td>0</td>\n    </tr>\n    <tr>\n      <th>7</th>\n      <td>Connecticut</td>\n      <td>0</td>\n    </tr>\n    <tr>\n      <th>8</th>\n      <td>District of Columbia</td>\n      <td>0</td>\n    </tr>\n    <tr>\n      <th>9</th>\n      <td>Delaware</td>\n      <td>0</td>\n    </tr>\n    <tr>\n      <th>10</th>\n      <td>Florida</td>\n      <td>0</td>\n    </tr>\n    <tr>\n      <th>11</th>\n      <td>Georgia</td>\n      <td>0</td>\n    </tr>\n    <tr>\n      <th>12</th>\n      <td>Guam</td>\n      <td>0</td>\n    </tr>\n    <tr>\n      <th>13</th>\n      <td>Hawaii</td>\n      <td>0</td>\n    </tr>\n    <tr>\n      <th>14</th>\n      <td>Iowa</td>\n      <td>0</td>\n    </tr>\n    <tr>\n      <th>15</th>\n      <td>Idaho</td>\n      <td>0</td>\n    </tr>\n    <tr>\n      <th>16</th>\n      <td>Illinois</td>\n      <td>0</td>\n    </tr>\n    <tr>\n      <th>17</th>\n      <td>Indiana</td>\n      <td>0</td>\n    </tr>\n    <tr>\n      <th>18</th>\n      <td>Kansas</td>\n      <td>0</td>\n    </tr>\n    <tr>\n      <th>19</th>\n      <td>Kentucky</td>\n      <td>0</td>\n    </tr>\n    <tr>\n      <th>20</th>\n      <td>Louisiana</td>\n      <td>0</td>\n    </tr>\n    <tr>\n      <th>21</th>\n      <td>Massachusetts</td>\n      <td>0</td>\n    </tr>\n    <tr>\n      <th>22</th>\n      <td>Maryland</td>\n      <td>0</td>\n    </tr>\n    <tr>\n      <th>23</th>\n      <td>Maine</td>\n      <td>0</td>\n    </tr>\n    <tr>\n      <th>24</th>\n      <td>Michigan</td>\n      <td>0</td>\n    </tr>\n    <tr>\n      <th>25</th>\n      <td>Minnesota</td>\n      <td>0</td>\n    </tr>\n    <tr>\n      <th>26</th>\n      <td>Missouri</td>\n      <td>0</td>\n    </tr>\n    <tr>\n      <th>27</th>\n      <td>Mississippi</td>\n      <td>0</td>\n    </tr>\n    <tr>\n      <th>28</th>\n      <td>Montana</td>\n      <td>0</td>\n    </tr>\n    <tr>\n      <th>29</th>\n      <td>North Carolina</td>\n      <td>0</td>\n    </tr>\n    <tr>\n      <th>30</th>\n      <td>North Dakota</td>\n      <td>0</td>\n    </tr>\n    <tr>\n      <th>31</th>\n      <td>Nebraska</td>\n      <td>0</td>\n    </tr>\n    <tr>\n      <th>32</th>\n      <td>New Hampshire</td>\n      <td>0</td>\n    </tr>\n    <tr>\n      <th>33</th>\n      <td>New Jersey</td>\n      <td>0</td>\n    </tr>\n    <tr>\n      <th>34</th>\n      <td>New Mexico</td>\n      <td>0</td>\n    </tr>\n    <tr>\n      <th>35</th>\n      <td>Nevada</td>\n      <td>0</td>\n    </tr>\n    <tr>\n      <th>36</th>\n      <td>New York</td>\n      <td>0</td>\n    </tr>\n    <tr>\n      <th>37</th>\n      <td>Ohio</td>\n      <td>0</td>\n    </tr>\n    <tr>\n      <th>38</th>\n      <td>Oklahoma</td>\n      <td>0</td>\n    </tr>\n    <tr>\n      <th>39</th>\n      <td>Oregon</td>\n      <td>0</td>\n    </tr>\n    <tr>\n      <th>40</th>\n      <td>Pennsylvania</td>\n      <td>0</td>\n    </tr>\n    <tr>\n      <th>41</th>\n      <td>Puerto Rico</td>\n      <td>0</td>\n    </tr>\n    <tr>\n      <th>42</th>\n      <td>Rhode Island</td>\n      <td>0</td>\n    </tr>\n    <tr>\n      <th>43</th>\n      <td>South Carolina</td>\n      <td>0</td>\n    </tr>\n    <tr>\n      <th>44</th>\n      <td>South Dakota</td>\n      <td>0</td>\n    </tr>\n    <tr>\n      <th>45</th>\n      <td>Tennessee</td>\n      <td>0</td>\n    </tr>\n    <tr>\n      <th>46</th>\n      <td>Texas</td>\n      <td>0</td>\n    </tr>\n    <tr>\n      <th>47</th>\n      <td>Utah</td>\n      <td>0</td>\n    </tr>\n    <tr>\n      <th>48</th>\n      <td>Virginia</td>\n      <td>0</td>\n    </tr>\n    <tr>\n      <th>49</th>\n      <td>Virgin Islands</td>\n      <td>0</td>\n    </tr>\n    <tr>\n      <th>50</th>\n      <td>Vermont</td>\n      <td>0</td>\n    </tr>\n    <tr>\n      <th>51</th>\n      <td>Washington</td>\n      <td>0</td>\n    </tr>\n    <tr>\n      <th>52</th>\n      <td>Wisconsin</td>\n      <td>0</td>\n    </tr>\n    <tr>\n      <th>53</th>\n      <td>West Virginia</td>\n      <td>0</td>\n    </tr>\n    <tr>\n      <th>54</th>\n      <td>Wyoming</td>\n      <td>0</td>\n    </tr>\n  </tbody>\n</table>\n</div>"
          },
          "metadata": {},
          "execution_count": 39
        }
      ],
      "source": [
        "us_names = np.array([\"Alaska\", \"Alabama\", \"Arkansas\", \"American Samoa\", \"Arizona\", \"California\", \"Colorado\", \"Connecticut\", \"District of Columbia\", \"Delaware\", \"Florida\", \"Georgia\", \"Guam\", \"Hawaii\", \"Iowa\", \"Idaho\", \"Illinois\", \"Indiana\", \"Kansas\", \"Kentucky\", \"Louisiana\", \"Massachusetts\", \"Maryland\", \"Maine\", \"Michigan\", \"Minnesota\", \"Missouri\", \"Mississippi\", \"Montana\", \"North Carolina\", \"North Dakota\", \"Nebraska\", \"New Hampshire\", \"New Jersey\", \"New Mexico\", \"Nevada\", \"New York\", \"Ohio\", \"Oklahoma\", \"Oregon\", \"Pennsylvania\", \"Puerto Rico\", \"Rhode Island\", \"South Carolina\", \"South Dakota\", \"Tennessee\", \"Texas\", \"Utah\", \"Virginia\", \"Virgin Islands\", \"Vermont\", \"Washington\", \"Wisconsin\", \"West Virginia\", \"Wyoming\"])\n",
        "\n",
        "us = pd.DataFrame(us_names, columns = [\"name\"])\n",
        "\n",
        "us[\"is_country\"] = 0\n",
        "\n",
        "us"
      ]
    },
    {
      "cell_type": "code",
      "execution_count": 40,
      "metadata": {},
      "outputs": [
        {
          "output_type": "execute_result",
          "data": {
            "text/plain": [
              "             name  is_country\n",
              "0            Iran           1\n",
              "1           Italy           1\n",
              "2         Morocco           1\n",
              "3        Portugal           1\n",
              "4           Spain           1\n",
              "..            ...         ...\n",
              "50        Vermont           0\n",
              "51     Washington           0\n",
              "52      Wisconsin           0\n",
              "53  West Virginia           0\n",
              "54        Wyoming           0\n",
              "\n",
              "[268 rows x 2 columns]"
            ],
            "text/html": "<div>\n<style scoped>\n    .dataframe tbody tr th:only-of-type {\n        vertical-align: middle;\n    }\n\n    .dataframe tbody tr th {\n        vertical-align: top;\n    }\n\n    .dataframe thead th {\n        text-align: right;\n    }\n</style>\n<table border=\"1\" class=\"dataframe\">\n  <thead>\n    <tr style=\"text-align: right;\">\n      <th></th>\n      <th>name</th>\n      <th>is_country</th>\n    </tr>\n  </thead>\n  <tbody>\n    <tr>\n      <th>0</th>\n      <td>Iran</td>\n      <td>1</td>\n    </tr>\n    <tr>\n      <th>1</th>\n      <td>Italy</td>\n      <td>1</td>\n    </tr>\n    <tr>\n      <th>2</th>\n      <td>Morocco</td>\n      <td>1</td>\n    </tr>\n    <tr>\n      <th>3</th>\n      <td>Portugal</td>\n      <td>1</td>\n    </tr>\n    <tr>\n      <th>4</th>\n      <td>Spain</td>\n      <td>1</td>\n    </tr>\n    <tr>\n      <th>...</th>\n      <td>...</td>\n      <td>...</td>\n    </tr>\n    <tr>\n      <th>50</th>\n      <td>Vermont</td>\n      <td>0</td>\n    </tr>\n    <tr>\n      <th>51</th>\n      <td>Washington</td>\n      <td>0</td>\n    </tr>\n    <tr>\n      <th>52</th>\n      <td>Wisconsin</td>\n      <td>0</td>\n    </tr>\n    <tr>\n      <th>53</th>\n      <td>West Virginia</td>\n      <td>0</td>\n    </tr>\n    <tr>\n      <th>54</th>\n      <td>Wyoming</td>\n      <td>0</td>\n    </tr>\n  </tbody>\n</table>\n<p>268 rows × 2 columns</p>\n</div>"
          },
          "metadata": {},
          "execution_count": 40
        }
      ],
      "source": [
        "pol_ent.append(us)"
      ]
    },
    {
      "cell_type": "code",
      "execution_count": null,
      "metadata": {},
      "outputs": [],
      "source": []
    }
  ]
}